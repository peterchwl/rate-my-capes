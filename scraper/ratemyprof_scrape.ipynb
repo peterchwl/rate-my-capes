{
  "nbformat": 4,
  "nbformat_minor": 0,
  "metadata": {
    "colab": {
      "provenance": [],
      "collapsed_sections": [],
      "include_colab_link": true
    },
    "kernelspec": {
      "name": "python3",
      "display_name": "Python 3"
    },
    "language_info": {
      "name": "python"
    }
  },
  "cells": [
    {
      "cell_type": "markdown",
      "metadata": {
        "id": "view-in-github",
        "colab_type": "text"
      },
      "source": [
        "<a href=\"https://colab.research.google.com/github/peterchwl/rate-my-capes/blob/main/scraper%20code/ratemyprof_scrape.ipynb\" target=\"_parent\"><img src=\"https://colab.research.google.com/assets/colab-badge.svg\" alt=\"Open In Colab\"/></a>"
      ]
    },
    {
      "cell_type": "code",
      "source": [
        "import pandas as pd"
      ],
      "metadata": {
        "id": "IwoAFuD9Go_M"
      },
      "execution_count": null,
      "outputs": []
    },
    {
      "cell_type": "code",
      "source": [
        "df = pd.read_csv('data.csv')"
      ],
      "metadata": {
        "id": "g-iCcrF6Go4m"
      },
      "execution_count": null,
      "outputs": []
    },
    {
      "cell_type": "code",
      "source": [
        "df.head()"
      ],
      "metadata": {
        "colab": {
          "base_uri": "https://localhost:8080/",
          "height": 250
        },
        "id": "s_0cMVzCGoyo",
        "outputId": "a274f896-8164-46af-baa1-8a4e59761644"
      },
      "execution_count": null,
      "outputs": [
        {
          "output_type": "execute_result",
          "data": {
            "text/plain": [
              "   Unnamed: 0                  instr      course  term  evals  rcmnd_class  \\\n",
              "0           0  Berman, Michael David    ANSC 122  S122      8        1.000   \n",
              "1           1        Lewis, Leslie R  ANSC 190GS  S122     14        1.000   \n",
              "2           2  Berman, Michael David      ANTH 1  S122     16        1.000   \n",
              "3           3      Algaze, Guillermo    ANTH 101  S122      7        1.000   \n",
              "4           4   Stewart, Alexander B    ANTH 105  S122      6        0.833   \n",
              "\n",
              "   rcmnd_instr  time  class_weighted_evals  instr_weighted_evals  \\\n",
              "0          1.0  3.64                     8                     8   \n",
              "1          1.0  4.21                    14                    14   \n",
              "2          1.0  4.10                    16                    16   \n",
              "3          1.0  4.79                     7                     7   \n",
              "4          1.0  5.17                     5                     6   \n",
              "\n",
              "  letter_expected  gpa_expected letter_actual  gpa_actual  \n",
              "0             A-           3.83           B+         3.37  \n",
              "1              A           4.00           A-         3.99  \n",
              "2             A-           3.79           A-         3.77  \n",
              "3             A-           3.71           B+         3.54  \n",
              "4             B+           3.40           A-         3.82  "
            ],
            "text/html": [
              "\n",
              "  <div id=\"df-c54d1641-d9c0-4778-a4f9-5065f372283c\">\n",
              "    <div class=\"colab-df-container\">\n",
              "      <div>\n",
              "<style scoped>\n",
              "    .dataframe tbody tr th:only-of-type {\n",
              "        vertical-align: middle;\n",
              "    }\n",
              "\n",
              "    .dataframe tbody tr th {\n",
              "        vertical-align: top;\n",
              "    }\n",
              "\n",
              "    .dataframe thead th {\n",
              "        text-align: right;\n",
              "    }\n",
              "</style>\n",
              "<table border=\"1\" class=\"dataframe\">\n",
              "  <thead>\n",
              "    <tr style=\"text-align: right;\">\n",
              "      <th></th>\n",
              "      <th>Unnamed: 0</th>\n",
              "      <th>instr</th>\n",
              "      <th>course</th>\n",
              "      <th>term</th>\n",
              "      <th>evals</th>\n",
              "      <th>rcmnd_class</th>\n",
              "      <th>rcmnd_instr</th>\n",
              "      <th>time</th>\n",
              "      <th>class_weighted_evals</th>\n",
              "      <th>instr_weighted_evals</th>\n",
              "      <th>letter_expected</th>\n",
              "      <th>gpa_expected</th>\n",
              "      <th>letter_actual</th>\n",
              "      <th>gpa_actual</th>\n",
              "    </tr>\n",
              "  </thead>\n",
              "  <tbody>\n",
              "    <tr>\n",
              "      <th>0</th>\n",
              "      <td>0</td>\n",
              "      <td>Berman, Michael David</td>\n",
              "      <td>ANSC 122</td>\n",
              "      <td>S122</td>\n",
              "      <td>8</td>\n",
              "      <td>1.000</td>\n",
              "      <td>1.0</td>\n",
              "      <td>3.64</td>\n",
              "      <td>8</td>\n",
              "      <td>8</td>\n",
              "      <td>A-</td>\n",
              "      <td>3.83</td>\n",
              "      <td>B+</td>\n",
              "      <td>3.37</td>\n",
              "    </tr>\n",
              "    <tr>\n",
              "      <th>1</th>\n",
              "      <td>1</td>\n",
              "      <td>Lewis, Leslie R</td>\n",
              "      <td>ANSC 190GS</td>\n",
              "      <td>S122</td>\n",
              "      <td>14</td>\n",
              "      <td>1.000</td>\n",
              "      <td>1.0</td>\n",
              "      <td>4.21</td>\n",
              "      <td>14</td>\n",
              "      <td>14</td>\n",
              "      <td>A</td>\n",
              "      <td>4.00</td>\n",
              "      <td>A-</td>\n",
              "      <td>3.99</td>\n",
              "    </tr>\n",
              "    <tr>\n",
              "      <th>2</th>\n",
              "      <td>2</td>\n",
              "      <td>Berman, Michael David</td>\n",
              "      <td>ANTH 1</td>\n",
              "      <td>S122</td>\n",
              "      <td>16</td>\n",
              "      <td>1.000</td>\n",
              "      <td>1.0</td>\n",
              "      <td>4.10</td>\n",
              "      <td>16</td>\n",
              "      <td>16</td>\n",
              "      <td>A-</td>\n",
              "      <td>3.79</td>\n",
              "      <td>A-</td>\n",
              "      <td>3.77</td>\n",
              "    </tr>\n",
              "    <tr>\n",
              "      <th>3</th>\n",
              "      <td>3</td>\n",
              "      <td>Algaze, Guillermo</td>\n",
              "      <td>ANTH 101</td>\n",
              "      <td>S122</td>\n",
              "      <td>7</td>\n",
              "      <td>1.000</td>\n",
              "      <td>1.0</td>\n",
              "      <td>4.79</td>\n",
              "      <td>7</td>\n",
              "      <td>7</td>\n",
              "      <td>A-</td>\n",
              "      <td>3.71</td>\n",
              "      <td>B+</td>\n",
              "      <td>3.54</td>\n",
              "    </tr>\n",
              "    <tr>\n",
              "      <th>4</th>\n",
              "      <td>4</td>\n",
              "      <td>Stewart, Alexander B</td>\n",
              "      <td>ANTH 105</td>\n",
              "      <td>S122</td>\n",
              "      <td>6</td>\n",
              "      <td>0.833</td>\n",
              "      <td>1.0</td>\n",
              "      <td>5.17</td>\n",
              "      <td>5</td>\n",
              "      <td>6</td>\n",
              "      <td>B+</td>\n",
              "      <td>3.40</td>\n",
              "      <td>A-</td>\n",
              "      <td>3.82</td>\n",
              "    </tr>\n",
              "  </tbody>\n",
              "</table>\n",
              "</div>\n",
              "      <button class=\"colab-df-convert\" onclick=\"convertToInteractive('df-c54d1641-d9c0-4778-a4f9-5065f372283c')\"\n",
              "              title=\"Convert this dataframe to an interactive table.\"\n",
              "              style=\"display:none;\">\n",
              "        \n",
              "  <svg xmlns=\"http://www.w3.org/2000/svg\" height=\"24px\"viewBox=\"0 0 24 24\"\n",
              "       width=\"24px\">\n",
              "    <path d=\"M0 0h24v24H0V0z\" fill=\"none\"/>\n",
              "    <path d=\"M18.56 5.44l.94 2.06.94-2.06 2.06-.94-2.06-.94-.94-2.06-.94 2.06-2.06.94zm-11 1L8.5 8.5l.94-2.06 2.06-.94-2.06-.94L8.5 2.5l-.94 2.06-2.06.94zm10 10l.94 2.06.94-2.06 2.06-.94-2.06-.94-.94-2.06-.94 2.06-2.06.94z\"/><path d=\"M17.41 7.96l-1.37-1.37c-.4-.4-.92-.59-1.43-.59-.52 0-1.04.2-1.43.59L10.3 9.45l-7.72 7.72c-.78.78-.78 2.05 0 2.83L4 21.41c.39.39.9.59 1.41.59.51 0 1.02-.2 1.41-.59l7.78-7.78 2.81-2.81c.8-.78.8-2.07 0-2.86zM5.41 20L4 18.59l7.72-7.72 1.47 1.35L5.41 20z\"/>\n",
              "  </svg>\n",
              "      </button>\n",
              "      \n",
              "  <style>\n",
              "    .colab-df-container {\n",
              "      display:flex;\n",
              "      flex-wrap:wrap;\n",
              "      gap: 12px;\n",
              "    }\n",
              "\n",
              "    .colab-df-convert {\n",
              "      background-color: #E8F0FE;\n",
              "      border: none;\n",
              "      border-radius: 50%;\n",
              "      cursor: pointer;\n",
              "      display: none;\n",
              "      fill: #1967D2;\n",
              "      height: 32px;\n",
              "      padding: 0 0 0 0;\n",
              "      width: 32px;\n",
              "    }\n",
              "\n",
              "    .colab-df-convert:hover {\n",
              "      background-color: #E2EBFA;\n",
              "      box-shadow: 0px 1px 2px rgba(60, 64, 67, 0.3), 0px 1px 3px 1px rgba(60, 64, 67, 0.15);\n",
              "      fill: #174EA6;\n",
              "    }\n",
              "\n",
              "    [theme=dark] .colab-df-convert {\n",
              "      background-color: #3B4455;\n",
              "      fill: #D2E3FC;\n",
              "    }\n",
              "\n",
              "    [theme=dark] .colab-df-convert:hover {\n",
              "      background-color: #434B5C;\n",
              "      box-shadow: 0px 1px 3px 1px rgba(0, 0, 0, 0.15);\n",
              "      filter: drop-shadow(0px 1px 2px rgba(0, 0, 0, 0.3));\n",
              "      fill: #FFFFFF;\n",
              "    }\n",
              "  </style>\n",
              "\n",
              "      <script>\n",
              "        const buttonEl =\n",
              "          document.querySelector('#df-c54d1641-d9c0-4778-a4f9-5065f372283c button.colab-df-convert');\n",
              "        buttonEl.style.display =\n",
              "          google.colab.kernel.accessAllowed ? 'block' : 'none';\n",
              "\n",
              "        async function convertToInteractive(key) {\n",
              "          const element = document.querySelector('#df-c54d1641-d9c0-4778-a4f9-5065f372283c');\n",
              "          const dataTable =\n",
              "            await google.colab.kernel.invokeFunction('convertToInteractive',\n",
              "                                                     [key], {});\n",
              "          if (!dataTable) return;\n",
              "\n",
              "          const docLinkHtml = 'Like what you see? Visit the ' +\n",
              "            '<a target=\"_blank\" href=https://colab.research.google.com/notebooks/data_table.ipynb>data table notebook</a>'\n",
              "            + ' to learn more about interactive tables.';\n",
              "          element.innerHTML = '';\n",
              "          dataTable['output_type'] = 'display_data';\n",
              "          await google.colab.output.renderOutput(dataTable, element);\n",
              "          const docLink = document.createElement('div');\n",
              "          docLink.innerHTML = docLinkHtml;\n",
              "          element.appendChild(docLink);\n",
              "        }\n",
              "      </script>\n",
              "    </div>\n",
              "  </div>\n",
              "  "
            ]
          },
          "metadata": {},
          "execution_count": 3
        }
      ]
    },
    {
      "cell_type": "code",
      "source": [],
      "metadata": {
        "id": "_kf7MZXhGode"
      },
      "execution_count": null,
      "outputs": []
    },
    {
      "cell_type": "code",
      "source": [
        "!wget https://raw.githubusercontent.com/dcao/seascape/master/app/scrape-sparse/Main.hs"
      ],
      "metadata": {
        "colab": {
          "base_uri": "https://localhost:8080/"
        },
        "id": "ItXGaFJ9y6Bv",
        "outputId": "e528da19-bee6-4225-db7d-8d2779608fef"
      },
      "execution_count": null,
      "outputs": [
        {
          "output_type": "stream",
          "name": "stdout",
          "text": [
            "--2022-08-25 16:27:29--  https://raw.githubusercontent.com/dcao/seascape/master/app/scrape-sparse/Main.hs\n",
            "Resolving raw.githubusercontent.com (raw.githubusercontent.com)... 185.199.108.133, 185.199.109.133, 185.199.110.133, ...\n",
            "Connecting to raw.githubusercontent.com (raw.githubusercontent.com)|185.199.108.133|:443... connected.\n",
            "HTTP request sent, awaiting response... 200 OK\n",
            "Length: 4247 (4.1K) [text/plain]\n",
            "Saving to: ‘Main.hs’\n",
            "\n",
            "Main.hs             100%[===================>]   4.15K  --.-KB/s    in 0s      \n",
            "\n",
            "2022-08-25 16:27:30 (45.3 MB/s) - ‘Main.hs’ saved [4247/4247]\n",
            "\n"
          ]
        }
      ]
    },
    {
      "cell_type": "code",
      "source": [
        "!git clone https://github.com/dcao/seascape/tree/master/app/scrape-sparse"
      ],
      "metadata": {
        "colab": {
          "base_uri": "https://localhost:8080/"
        },
        "id": "x4XIs0iu2P87",
        "outputId": "4cefa330-0bcb-4815-b14b-a1afe65041c5"
      },
      "execution_count": null,
      "outputs": [
        {
          "output_type": "stream",
          "name": "stdout",
          "text": [
            "Cloning into 'scrape-sparse'...\n",
            "fatal: repository 'https://github.com/dcao/seascape/tree/master/app/scrape-sparse/' not found\n"
          ]
        }
      ]
    },
    {
      "cell_type": "code",
      "source": [
        "!git clone https://github.com/dcao/seascape"
      ],
      "metadata": {
        "colab": {
          "base_uri": "https://localhost:8080/"
        },
        "id": "bm79N0N14lZ4",
        "outputId": "a1938c6a-40d8-429a-98a7-d9c18bccbd3c"
      },
      "execution_count": null,
      "outputs": [
        {
          "output_type": "stream",
          "name": "stdout",
          "text": [
            "Cloning into 'seascape'...\n",
            "remote: Enumerating objects: 965, done.\u001b[K\n",
            "remote: Total 965 (delta 0), reused 0 (delta 0), pack-reused 965\u001b[K\n",
            "Receiving objects: 100% (965/965), 6.85 MiB | 17.77 MiB/s, done.\n",
            "Resolving deltas: 100% (410/410), done.\n"
          ]
        }
      ]
    },
    {
      "cell_type": "code",
      "source": [
        "!pip3 install scraperwiki"
      ],
      "metadata": {
        "colab": {
          "base_uri": "https://localhost:8080/"
        },
        "id": "9V4vNWsD6Bma",
        "outputId": "11b30b4e-93b4-4c69-acc5-de736e2efb4e"
      },
      "execution_count": null,
      "outputs": [
        {
          "output_type": "stream",
          "name": "stdout",
          "text": [
            "Looking in indexes: https://pypi.org/simple, https://us-python.pkg.dev/colab-wheels/public/simple/\n",
            "Collecting scraperwiki\n",
            "  Downloading scraperwiki-0.5.1.tar.gz (7.7 kB)\n",
            "Requirement already satisfied: requests in /usr/local/lib/python3.7/dist-packages (from scraperwiki) (2.23.0)\n",
            "Requirement already satisfied: six in /usr/local/lib/python3.7/dist-packages (from scraperwiki) (1.15.0)\n",
            "Requirement already satisfied: sqlalchemy in /usr/local/lib/python3.7/dist-packages (from scraperwiki) (1.4.40)\n",
            "Collecting alembic\n",
            "  Downloading alembic-1.8.1-py3-none-any.whl (209 kB)\n",
            "\u001b[K     |████████████████████████████████| 209 kB 5.1 MB/s \n",
            "\u001b[?25hRequirement already satisfied: importlib-resources in /usr/local/lib/python3.7/dist-packages (from alembic->scraperwiki) (5.9.0)\n",
            "Requirement already satisfied: importlib-metadata in /usr/local/lib/python3.7/dist-packages (from alembic->scraperwiki) (4.12.0)\n",
            "Collecting Mako\n",
            "  Downloading Mako-1.2.1-py3-none-any.whl (78 kB)\n",
            "\u001b[K     |████████████████████████████████| 78 kB 6.5 MB/s \n",
            "\u001b[?25hRequirement already satisfied: greenlet!=0.4.17 in /usr/local/lib/python3.7/dist-packages (from sqlalchemy->scraperwiki) (1.1.2)\n",
            "Requirement already satisfied: zipp>=0.5 in /usr/local/lib/python3.7/dist-packages (from importlib-metadata->alembic->scraperwiki) (3.8.1)\n",
            "Requirement already satisfied: typing-extensions>=3.6.4 in /usr/local/lib/python3.7/dist-packages (from importlib-metadata->alembic->scraperwiki) (4.1.1)\n",
            "Requirement already satisfied: MarkupSafe>=0.9.2 in /usr/local/lib/python3.7/dist-packages (from Mako->alembic->scraperwiki) (2.0.1)\n",
            "Requirement already satisfied: chardet<4,>=3.0.2 in /usr/local/lib/python3.7/dist-packages (from requests->scraperwiki) (3.0.4)\n",
            "Requirement already satisfied: certifi>=2017.4.17 in /usr/local/lib/python3.7/dist-packages (from requests->scraperwiki) (2022.6.15)\n",
            "Requirement already satisfied: urllib3!=1.25.0,!=1.25.1,<1.26,>=1.21.1 in /usr/local/lib/python3.7/dist-packages (from requests->scraperwiki) (1.24.3)\n",
            "Requirement already satisfied: idna<3,>=2.5 in /usr/local/lib/python3.7/dist-packages (from requests->scraperwiki) (2.10)\n",
            "Building wheels for collected packages: scraperwiki\n",
            "  Building wheel for scraperwiki (setup.py) ... \u001b[?25l\u001b[?25hdone\n",
            "  Created wheel for scraperwiki: filename=scraperwiki-0.5.1-py3-none-any.whl size=6545 sha256=b244d31d253e96c01e80e92c6ddcc7076e497b8b7fa185a8178dac095cb20918\n",
            "  Stored in directory: /root/.cache/pip/wheels/3c/57/8d/41e15f7e5cc9eb0067539416abd445f210c0d04f39975d5ca5\n",
            "Successfully built scraperwiki\n",
            "Installing collected packages: Mako, alembic, scraperwiki\n",
            "Successfully installed Mako-1.2.1 alembic-1.8.1 scraperwiki-0.5.1\n"
          ]
        }
      ]
    },
    {
      "cell_type": "code",
      "source": [
        "!pip install lxml"
      ],
      "metadata": {
        "colab": {
          "base_uri": "https://localhost:8080/"
        },
        "id": "xJNMaZ61-uyv",
        "outputId": "7e53d098-a3d9-458e-9149-89776c0f25c5"
      },
      "execution_count": null,
      "outputs": [
        {
          "output_type": "stream",
          "name": "stdout",
          "text": [
            "Looking in indexes: https://pypi.org/simple, https://us-python.pkg.dev/colab-wheels/public/simple/\n",
            "Requirement already satisfied: lxml in /usr/local/lib/python3.7/dist-packages (4.9.1)\n"
          ]
        }
      ]
    },
    {
      "cell_type": "code",
      "source": [
        "import json\n",
        "import pandas as pd\n",
        "\n",
        "import statsmodels\n",
        "import natsort\n",
        "import selenium\n",
        "import pandas\n",
        "import html5lib\n",
        "\n",
        "from selenium import webdriver\n",
        "\n",
        "from webdriver_manager.chrome import ChromeDriverManager"
      ],
      "metadata": {
        "id": "nVnJ58eWDTa6",
        "colab": {
          "base_uri": "https://localhost:8080/"
        },
        "outputId": "5f57a425-8973-4212-e73e-7ee2b4b039f7"
      },
      "execution_count": null,
      "outputs": [
        {
          "output_type": "stream",
          "name": "stderr",
          "text": [
            "/usr/local/lib/python3.7/dist-packages/requests/__init__.py:91: RequestsDependencyWarning: urllib3 (1.26.12) or chardet (3.0.4) doesn't match a supported version!\n",
            "  RequestsDependencyWarning)\n"
          ]
        }
      ]
    },
    {
      "cell_type": "code",
      "source": [
        "pip install webdriver-manager"
      ],
      "metadata": {
        "colab": {
          "base_uri": "https://localhost:8080/"
        },
        "id": "PNnyNH8ZEXMt",
        "outputId": "1ed4e906-bcb0-4142-bce2-3480f6279903"
      },
      "execution_count": null,
      "outputs": [
        {
          "output_type": "stream",
          "name": "stdout",
          "text": [
            "Looking in indexes: https://pypi.org/simple, https://us-python.pkg.dev/colab-wheels/public/simple/\n",
            "Requirement already satisfied: webdriver-manager in /usr/local/lib/python3.7/dist-packages (3.8.3)\n",
            "Requirement already satisfied: python-dotenv in /usr/local/lib/python3.7/dist-packages (from webdriver-manager) (0.20.0)\n",
            "Requirement already satisfied: requests in /usr/local/lib/python3.7/dist-packages (from webdriver-manager) (2.23.0)\n",
            "Requirement already satisfied: tqdm in /usr/local/lib/python3.7/dist-packages (from webdriver-manager) (4.64.0)\n",
            "Requirement already satisfied: certifi>=2017.4.17 in /usr/local/lib/python3.7/dist-packages (from requests->webdriver-manager) (2022.6.15)\n",
            "Requirement already satisfied: urllib3!=1.25.0,!=1.25.1,<1.26,>=1.21.1 in /usr/local/lib/python3.7/dist-packages (from requests->webdriver-manager) (1.25.11)\n",
            "Requirement already satisfied: idna<3,>=2.5 in /usr/local/lib/python3.7/dist-packages (from requests->webdriver-manager) (2.10)\n",
            "Requirement already satisfied: chardet<4,>=3.0.2 in /usr/local/lib/python3.7/dist-packages (from requests->webdriver-manager) (3.0.4)\n"
          ]
        }
      ]
    },
    {
      "cell_type": "code",
      "source": [
        "pip install selenium"
      ],
      "metadata": {
        "colab": {
          "base_uri": "https://localhost:8080/"
        },
        "id": "XpqVkxPnC9ew",
        "outputId": "fb74cc12-8787-4373-835b-bca15d0e0f56"
      },
      "execution_count": null,
      "outputs": [
        {
          "output_type": "stream",
          "name": "stdout",
          "text": [
            "Looking in indexes: https://pypi.org/simple, https://us-python.pkg.dev/colab-wheels/public/simple/\n",
            "Requirement already satisfied: selenium in /usr/local/lib/python3.7/dist-packages (4.4.3)\n",
            "Requirement already satisfied: trio~=0.17 in /usr/local/lib/python3.7/dist-packages (from selenium) (0.21.0)\n",
            "Requirement already satisfied: certifi>=2021.10.8 in /usr/local/lib/python3.7/dist-packages (from selenium) (2022.6.15)\n",
            "Requirement already satisfied: trio-websocket~=0.9 in /usr/local/lib/python3.7/dist-packages (from selenium) (0.9.2)\n",
            "Collecting urllib3[socks]~=1.26\n",
            "  Using cached urllib3-1.26.12-py2.py3-none-any.whl (140 kB)\n",
            "Requirement already satisfied: outcome in /usr/local/lib/python3.7/dist-packages (from trio~=0.17->selenium) (1.2.0)\n",
            "Requirement already satisfied: idna in /usr/local/lib/python3.7/dist-packages (from trio~=0.17->selenium) (2.10)\n",
            "Requirement already satisfied: sniffio in /usr/local/lib/python3.7/dist-packages (from trio~=0.17->selenium) (1.2.0)\n",
            "Requirement already satisfied: attrs>=19.2.0 in /usr/local/lib/python3.7/dist-packages (from trio~=0.17->selenium) (22.1.0)\n",
            "Requirement already satisfied: async-generator>=1.9 in /usr/local/lib/python3.7/dist-packages (from trio~=0.17->selenium) (1.10)\n",
            "Requirement already satisfied: sortedcontainers in /usr/local/lib/python3.7/dist-packages (from trio~=0.17->selenium) (2.4.0)\n",
            "Requirement already satisfied: wsproto>=0.14 in /usr/local/lib/python3.7/dist-packages (from trio-websocket~=0.9->selenium) (1.2.0)\n",
            "Requirement already satisfied: PySocks!=1.5.7,<2.0,>=1.5.6 in /usr/local/lib/python3.7/dist-packages (from urllib3[socks]~=1.26->selenium) (1.7.1)\n",
            "Requirement already satisfied: h11<1,>=0.9.0 in /usr/local/lib/python3.7/dist-packages (from wsproto>=0.14->trio-websocket~=0.9->selenium) (0.13.0)\n",
            "Requirement already satisfied: typing-extensions in /usr/local/lib/python3.7/dist-packages (from h11<1,>=0.9.0->wsproto>=0.14->trio-websocket~=0.9->selenium) (4.1.1)\n",
            "Installing collected packages: urllib3\n",
            "  Attempting uninstall: urllib3\n",
            "    Found existing installation: urllib3 1.25.11\n",
            "    Uninstalling urllib3-1.25.11:\n",
            "      Successfully uninstalled urllib3-1.25.11\n",
            "\u001b[31mERROR: pip's dependency resolver does not currently take into account all the packages that are installed. This behaviour is the source of the following dependency conflicts.\n",
            "requests 2.23.0 requires urllib3!=1.25.0,!=1.25.1,<1.26,>=1.21.1, but you have urllib3 1.26.12 which is incompatible.\u001b[0m\n",
            "Successfully installed urllib3-1.26.12\n"
          ]
        }
      ]
    },
    {
      "cell_type": "code",
      "source": [
        "C:/Users/VS/Downloads/chromedriver_win32/chromedriver"
      ],
      "metadata": {
        "id": "JHFRnakAnNlp"
      },
      "execution_count": null,
      "outputs": []
    },
    {
      "cell_type": "code",
      "source": [
        "C:\\Users\\VS\\AppData\\Local\\Programs\\Python\\Python39\\Scripts"
      ],
      "metadata": {
        "id": "KNKQUGqin8eg"
      },
      "execution_count": null,
      "outputs": []
    },
    {
      "cell_type": "code",
      "source": [
        "# install chromium, its driver, and selenium\n",
        "!apt-get update\n",
        "!apt install chromium-chromedriver\n",
        "!cp /usr/lib/chromium-browser/chromedriver /usr/bin\n",
        "!pip install selenium\n",
        "# set options to be headless, ..\n",
        "from selenium import webdriver\n",
        "options = webdriver.ChromeOptions()\n",
        "options.add_argument('--headless')\n",
        "options.add_argument('--no-sandbox')\n",
        "options.add_argument('--disable-dev-shm-usage')\n",
        "options.add_argument('--disable-blink-features=AutomationControlled')\n",
        "# open it, go to a website, and get results\n"
      ],
      "metadata": {
        "colab": {
          "base_uri": "https://localhost:8080/"
        },
        "id": "aMQVxADvoZ78",
        "outputId": "37ee663b-0756-4790-cc24-fb9f5e6f89f1"
      },
      "execution_count": null,
      "outputs": [
        {
          "output_type": "stream",
          "name": "stdout",
          "text": [
            "\r0% [Working]\r            \rHit:1 https://cloud.r-project.org/bin/linux/ubuntu bionic-cran40/ InRelease\n",
            "\r0% [Connecting to archive.ubuntu.com] [Connecting to security.ubuntu.com (185.1\r0% [1 InRelease gpgv 3,626 B] [Connecting to archive.ubuntu.com] [Connecting to\r                                                                               \rIgn:2 https://developer.download.nvidia.com/compute/machine-learning/repos/ubuntu1804/x86_64  InRelease\n",
            "\r0% [1 InRelease gpgv 3,626 B] [Connecting to archive.ubuntu.com (185.125.190.36\r                                                                               \rHit:3 https://developer.download.nvidia.com/compute/cuda/repos/ubuntu1804/x86_64  InRelease\n",
            "Hit:4 https://developer.download.nvidia.com/compute/machine-learning/repos/ubuntu1804/x86_64  Release\n",
            "Get:5 http://security.ubuntu.com/ubuntu bionic-security InRelease [88.7 kB]\n",
            "Hit:6 http://ppa.launchpad.net/c2d4u.team/c2d4u4.0+/ubuntu bionic InRelease\n",
            "Hit:7 http://archive.ubuntu.com/ubuntu bionic InRelease\n",
            "Hit:8 http://ppa.launchpad.net/cran/libgit2/ubuntu bionic InRelease\n",
            "Get:9 http://archive.ubuntu.com/ubuntu bionic-updates InRelease [88.7 kB]\n",
            "Hit:10 http://ppa.launchpad.net/deadsnakes/ppa/ubuntu bionic InRelease\n",
            "Get:12 http://archive.ubuntu.com/ubuntu bionic-backports InRelease [74.6 kB]\n",
            "Hit:13 http://ppa.launchpad.net/graphics-drivers/ppa/ubuntu bionic InRelease\n",
            "Fetched 252 kB in 2s (101 kB/s)\n",
            "Reading package lists... Done\n",
            "Reading package lists... Done\n",
            "Building dependency tree       \n",
            "Reading state information... Done\n",
            "chromium-chromedriver is already the newest version (104.0.5112.101-0ubuntu0.18.04.1).\n",
            "The following package was automatically installed and is no longer required:\n",
            "  libnvidia-common-460\n",
            "Use 'apt autoremove' to remove it.\n",
            "0 upgraded, 0 newly installed, 0 to remove and 27 not upgraded.\n",
            "cp: '/usr/lib/chromium-browser/chromedriver' and '/usr/bin/chromedriver' are the same file\n",
            "Looking in indexes: https://pypi.org/simple, https://us-python.pkg.dev/colab-wheels/public/simple/\n",
            "Requirement already satisfied: selenium in /usr/local/lib/python3.7/dist-packages (4.4.3)\n",
            "Requirement already satisfied: trio-websocket~=0.9 in /usr/local/lib/python3.7/dist-packages (from selenium) (0.9.2)\n",
            "Requirement already satisfied: urllib3[socks]~=1.26 in /usr/local/lib/python3.7/dist-packages (from selenium) (1.26.12)\n",
            "Requirement already satisfied: trio~=0.17 in /usr/local/lib/python3.7/dist-packages (from selenium) (0.21.0)\n",
            "Requirement already satisfied: certifi>=2021.10.8 in /usr/local/lib/python3.7/dist-packages (from selenium) (2022.6.15)\n",
            "Requirement already satisfied: idna in /usr/local/lib/python3.7/dist-packages (from trio~=0.17->selenium) (2.10)\n",
            "Requirement already satisfied: async-generator>=1.9 in /usr/local/lib/python3.7/dist-packages (from trio~=0.17->selenium) (1.10)\n",
            "Requirement already satisfied: outcome in /usr/local/lib/python3.7/dist-packages (from trio~=0.17->selenium) (1.2.0)\n",
            "Requirement already satisfied: sniffio in /usr/local/lib/python3.7/dist-packages (from trio~=0.17->selenium) (1.2.0)\n",
            "Requirement already satisfied: sortedcontainers in /usr/local/lib/python3.7/dist-packages (from trio~=0.17->selenium) (2.4.0)\n",
            "Requirement already satisfied: attrs>=19.2.0 in /usr/local/lib/python3.7/dist-packages (from trio~=0.17->selenium) (22.1.0)\n",
            "Requirement already satisfied: wsproto>=0.14 in /usr/local/lib/python3.7/dist-packages (from trio-websocket~=0.9->selenium) (1.2.0)\n",
            "Requirement already satisfied: PySocks!=1.5.7,<2.0,>=1.5.6 in /usr/local/lib/python3.7/dist-packages (from urllib3[socks]~=1.26->selenium) (1.7.1)\n",
            "Requirement already satisfied: h11<1,>=0.9.0 in /usr/local/lib/python3.7/dist-packages (from wsproto>=0.14->trio-websocket~=0.9->selenium) (0.13.0)\n",
            "Requirement already satisfied: typing-extensions in /usr/local/lib/python3.7/dist-packages (from h11<1,>=0.9.0->wsproto>=0.14->trio-websocket~=0.9->selenium) (4.1.1)\n"
          ]
        }
      ]
    },
    {
      "cell_type": "code",
      "source": [
        "!pip3 install tools\n",
        "!pip3 install json\n",
        "!pip3 install pandas"
      ],
      "metadata": {
        "colab": {
          "base_uri": "https://localhost:8080/"
        },
        "id": "POLkiH2a0bbK",
        "outputId": "4ec2c22b-11b6-4848-b080-4d81a4427058"
      },
      "execution_count": null,
      "outputs": [
        {
          "output_type": "stream",
          "name": "stdout",
          "text": [
            "Looking in indexes: https://pypi.org/simple, https://us-python.pkg.dev/colab-wheels/public/simple/\n",
            "Requirement already satisfied: tools in /usr/local/lib/python3.7/dist-packages (0.1.9)\n",
            "Requirement already satisfied: pytils in /usr/local/lib/python3.7/dist-packages (from tools) (0.4.1)\n",
            "Requirement already satisfied: six in /usr/local/lib/python3.7/dist-packages (from tools) (1.15.0)\n",
            "Requirement already satisfied: lxml in /usr/local/lib/python3.7/dist-packages (from tools) (4.9.1)\n",
            "Looking in indexes: https://pypi.org/simple, https://us-python.pkg.dev/colab-wheels/public/simple/\n",
            "\u001b[31mERROR: Could not find a version that satisfies the requirement json (from versions: none)\u001b[0m\n",
            "\u001b[31mERROR: No matching distribution found for json\u001b[0m\n",
            "Looking in indexes: https://pypi.org/simple, https://us-python.pkg.dev/colab-wheels/public/simple/\n",
            "Requirement already satisfied: pandas in /usr/local/lib/python3.7/dist-packages (1.3.5)\n",
            "Requirement already satisfied: python-dateutil>=2.7.3 in /usr/local/lib/python3.7/dist-packages (from pandas) (2.8.2)\n",
            "Requirement already satisfied: pytz>=2017.3 in /usr/local/lib/python3.7/dist-packages (from pandas) (2022.2.1)\n",
            "Requirement already satisfied: numpy>=1.17.3 in /usr/local/lib/python3.7/dist-packages (from pandas) (1.21.6)\n",
            "Requirement already satisfied: six>=1.5 in /usr/local/lib/python3.7/dist-packages (from python-dateutil>=2.7.3->pandas) (1.15.0)\n"
          ]
        }
      ]
    },
    {
      "cell_type": "code",
      "source": [
        "!NO_PROXY=localhost,127.0.0.1"
      ],
      "metadata": {
        "id": "jcYTif1OCivF"
      },
      "execution_count": null,
      "outputs": []
    },
    {
      "cell_type": "code",
      "source": [
        "!pip install -U selenium"
      ],
      "metadata": {
        "colab": {
          "base_uri": "https://localhost:8080/"
        },
        "id": "dQLkpE0JCpXV",
        "outputId": "a4aecaa9-75f5-480d-ab25-347c5465280a"
      },
      "execution_count": null,
      "outputs": [
        {
          "output_type": "stream",
          "name": "stdout",
          "text": [
            "Looking in indexes: https://pypi.org/simple, https://us-python.pkg.dev/colab-wheels/public/simple/\n",
            "Requirement already satisfied: selenium in /usr/local/lib/python3.7/dist-packages (4.4.3)\n",
            "Requirement already satisfied: trio~=0.17 in /usr/local/lib/python3.7/dist-packages (from selenium) (0.21.0)\n",
            "Requirement already satisfied: urllib3[socks]~=1.26 in /usr/local/lib/python3.7/dist-packages (from selenium) (1.26.12)\n",
            "Requirement already satisfied: trio-websocket~=0.9 in /usr/local/lib/python3.7/dist-packages (from selenium) (0.9.2)\n",
            "Requirement already satisfied: certifi>=2021.10.8 in /usr/local/lib/python3.7/dist-packages (from selenium) (2022.6.15)\n",
            "Requirement already satisfied: sortedcontainers in /usr/local/lib/python3.7/dist-packages (from trio~=0.17->selenium) (2.4.0)\n",
            "Requirement already satisfied: sniffio in /usr/local/lib/python3.7/dist-packages (from trio~=0.17->selenium) (1.2.0)\n",
            "Requirement already satisfied: attrs>=19.2.0 in /usr/local/lib/python3.7/dist-packages (from trio~=0.17->selenium) (22.1.0)\n",
            "Requirement already satisfied: outcome in /usr/local/lib/python3.7/dist-packages (from trio~=0.17->selenium) (1.2.0)\n",
            "Requirement already satisfied: idna in /usr/local/lib/python3.7/dist-packages (from trio~=0.17->selenium) (2.10)\n",
            "Requirement already satisfied: async-generator>=1.9 in /usr/local/lib/python3.7/dist-packages (from trio~=0.17->selenium) (1.10)\n",
            "Requirement already satisfied: wsproto>=0.14 in /usr/local/lib/python3.7/dist-packages (from trio-websocket~=0.9->selenium) (1.2.0)\n",
            "Requirement already satisfied: PySocks!=1.5.7,<2.0,>=1.5.6 in /usr/local/lib/python3.7/dist-packages (from urllib3[socks]~=1.26->selenium) (1.7.1)\n",
            "Requirement already satisfied: h11<1,>=0.9.0 in /usr/local/lib/python3.7/dist-packages (from wsproto>=0.14->trio-websocket~=0.9->selenium) (0.13.0)\n",
            "Requirement already satisfied: typing-extensions in /usr/local/lib/python3.7/dist-packages (from h11<1,>=0.9.0->wsproto>=0.14->trio-websocket~=0.9->selenium) (4.1.1)\n"
          ]
        }
      ]
    },
    {
      "cell_type": "code",
      "source": [
        "!pip3 install ratemyprofessorapi"
      ],
      "metadata": {
        "colab": {
          "base_uri": "https://localhost:8080/"
        },
        "id": "LS4BwKWr7WDi",
        "outputId": "b31e2f91-6d41-4a48-b21a-d7b211cd13f8"
      },
      "execution_count": null,
      "outputs": [
        {
          "output_type": "stream",
          "name": "stdout",
          "text": [
            "Looking in indexes: https://pypi.org/simple, https://us-python.pkg.dev/colab-wheels/public/simple/\n",
            "Collecting ratemyprofessorapi\n",
            "  Downloading RateMyProfessorAPI-1.3.1-py3-none-any.whl (12 kB)\n",
            "Collecting requests~=2.25.1\n",
            "  Downloading requests-2.25.1-py2.py3-none-any.whl (61 kB)\n",
            "\u001b[K     |████████████████████████████████| 61 kB 3.4 MB/s \n",
            "\u001b[?25hRequirement already satisfied: lxml in /usr/local/lib/python3.7/dist-packages (from ratemyprofessorapi) (4.9.1)\n",
            "Requirement already satisfied: beautifulsoup4 in /usr/local/lib/python3.7/dist-packages (from ratemyprofessorapi) (4.6.3)\n",
            "Requirement already satisfied: urllib3<1.27,>=1.21.1 in /usr/local/lib/python3.7/dist-packages (from requests~=2.25.1->ratemyprofessorapi) (1.24.3)\n",
            "Requirement already satisfied: idna<3,>=2.5 in /usr/local/lib/python3.7/dist-packages (from requests~=2.25.1->ratemyprofessorapi) (2.10)\n",
            "Requirement already satisfied: certifi>=2017.4.17 in /usr/local/lib/python3.7/dist-packages (from requests~=2.25.1->ratemyprofessorapi) (2022.6.15)\n",
            "Requirement already satisfied: chardet<5,>=3.0.2 in /usr/local/lib/python3.7/dist-packages (from requests~=2.25.1->ratemyprofessorapi) (3.0.4)\n",
            "Installing collected packages: requests, ratemyprofessorapi\n",
            "  Attempting uninstall: requests\n",
            "    Found existing installation: requests 2.23.0\n",
            "    Uninstalling requests-2.23.0:\n",
            "      Successfully uninstalled requests-2.23.0\n",
            "Successfully installed ratemyprofessorapi-1.3.1 requests-2.25.1\n"
          ]
        }
      ]
    },
    {
      "cell_type": "code",
      "source": [
        "import ratemyprofessor as rmp\n",
        "\n",
        "\n",
        "ucsd = rmp.get_school_by_name(\"ucsd\")\n",
        "ucsd_profs = rmp.get_professors_by_school_and_name(ucsd, \"cao\")\n",
        "\n",
        "print(ucsd_profs)\n",
        "\n",
        "ratings_list = ucsd_profs[2].get_ratings()\n",
        "\n",
        "review_list = []\n",
        "for i in range(len(ratings_list)):\n",
        "    #print(f\"{i}: {ratings_list[i].comment}\")\n",
        "    review_list.append(ratings_list[i].comment)\n",
        "\n",
        "review_list"
      ],
      "metadata": {
        "id": "1bglfFA3f41-",
        "colab": {
          "base_uri": "https://localhost:8080/"
        },
        "outputId": "b37f4687-617b-47e2-d3bc-d31f99e39e9e"
      },
      "execution_count": null,
      "outputs": [
        {
          "output_type": "stream",
          "name": "stdout",
          "text": [
            "[Kevin Cao, Kevin Cao, Yingjun Cao]\n"
          ]
        },
        {
          "output_type": "execute_result",
          "data": {
            "text/plain": [
              "[\"He's teaching at a very fast pace and this class is not for beginners! There are four programming assignments in total and two exams. BUT he will randomly select 10% of the people at the end of the session for an interview of about 30 minutes!!! If you don't attend the interview, the grade will not be reported. Highly do not recommend this class!\",\n",
              " 'One of my favorite professors in UCSD. His CSE 11, 12, and 100 are somewhat harder than other professors, but doable. You would learn a lot.',\n",
              " \"One of the best CSE profs I've had so far. His lectures consist of introducing the topic and providing a lot of examples/questions to help develop your understanding of the material. He definitely cares about his students. His PA's weren't too hard but his quizzes were pretty tricky which can be tough at times. Great prof, definitely take him.\",\n",
              " 'My favorite CSE professor at UCSD. ',\n",
              " 'Coding is awful. The prof is cool but why assign all these other assignments, readings, and homeworks, if we are just going to forget it or not be tested on it.',\n",
              " 'The professor taught content well, but a lot of times I felt it was completely unnecessary to go to lecture since he always assigned a huge amount of pre-lecture reading, that covered everything he was going to teach. After doing the reading, lecture just felt repetitive.',\n",
              " 'Definitively one of the best CSE professors in UCSD. ',\n",
              " 'This class is doable even if you have no experience in coding, like me. the PAs were kind of hard, but starting early and going to tutoring actually helped a lot. There are a lot of components to the final grade so even if you bomb a test it is possible to still do fine in the class. Overall, pretty good and simple class even if u dislike coding.',\n",
              " 'gives extra credits and curve!',\n",
              " \"One thing to say: DO YOUR PAs EARLY! Paul's PAs were quite fun, though it took some time to fully understand it. Otherwise, it's mostly using techniques we learnt in class. I enjoyed the way Paul taught CSE8A, it was very engaging with the constant questions to test your understanding of the material. I would take another class with Paul!\",\n",
              " 'Solid professor for CSE 12. Tests and PAs were fair. ',\n",
              " 'Really tough class for people without any previous coding experience. Prof. Cao is a strict person with indifferent attitude. His lectures are so confusing, and extremely hard to apply what we learned in class to the weekly programming assignments.',\n",
              " 'Paul is such a caring professor. I had no comp sci experience and went in completely blind, but he clearly puts in a lot of effort when it comes to teaching. He took to the time to create and pass out worksheets just so everyone could follow along. Complete all the assignments and you should be fine.',\n",
              " 'Professor Cao was the best professor I had in Fall 2021. I found the lectures to be clear, interesting, and engaging. Midterms and Final were fairly easy. PAs were great in further establishing coding concepts as well as your own skills',\n",
              " 'I took CSE 8A with professor Cao this quarter. I had no prior experience with python, and professor Cao was able to make learning this language clear and simple. He is very funny and uses good examples. The hardest part of the class is the PAs, make sure you start early and make use of tutor hours! The TA tutors are extremely helpful.',\n",
              " 'we did python for 8A this quarter. Generally speaking, this class is easy A.',\n",
              " 'Do not take him!!!!!! He is been hyped!!!! His PAs are so hard and usually take one day to finish it and you will feel like you are tortured by the PAs mentally. The quizzes are tricky. His explanations and hints of the PAs are useless. Do not take him unless you like your mind suffering from torture once a week!!!!',\n",
              " \"Cao is an amazing teacher. Just make sure to start early on the PAs so that you will be able to get help from autograder tutors. You will need it. Don't expect to do well in the course if you start the night of or the night before. Make sure you study for the midterms and finals (go over all quizzes, pas, and lectures). STAY CAUGHT UP ON LECTURES!\",\n",
              " \"Paul is a really nice professor and he explains things well. He would use real life examples that are easy to understand to explain hard concepts. Took 8B and 12 with him and learned a great deal from his classes. PAs are time consuming but it's worth the time to do it.\",\n",
              " \"Paul is very funny and explains the material clearly. Programming assignments can be overwhelming at times, but they are clearly explained and structured. They can be too structured at times though, sometimes there's little thought involved. Textbook work is mandatory, but I found it easy and also very useful.\",\n",
              " 'Cao is really good at explaining concepts that could be really tough to understand otherwise. The PAs were time-consuming but they definitely helped solidify my knowledge. During our quarter, he co-taught the class with Greg Miranda, so they had the same lectures, assignments, and exams - which seems like it will be a theme going forward.',\n",
              " 'His lectures are very informative as his solid understanding allows him to effectively explain many concepts. The PAs get to be pretty time consuming, but there is always help available. Lectures were not mandatory but were very helpful. Readings are also pretty helpful. Prior experience in CS really helps reduce the workload.',\n",
              " 'Terrible Professor. Workloads are insane, and PAs are hard, confusing and tricky. Lots of hidden cases that are very hard to think about. Average of PAs grade are around 85-90%. Tests are very trick and test more on the concept rather than code. Test are open everything but the average is 80%. No extra credit. DONT TAKE HIM.',\n",
              " 'He was alright. He seemed to have a direct grasp of the knowledge and he answered most of the questions that students had but he did overlook some stuff that made the PAs harder than it needed to be and his final was hard compared to what he gave for the midterm. Overall, solid prof but do not be surprised by harder than usual exams.',\n",
              " 'Professor Cao taught me data structures and it was wonderful. The PAs are directly related to the material of the lecture. Overall a wonderful experience.',\n",
              " 'Spent 3 quarters with Paul. Definitely a great prof! Always get wonderful grades by the end of the quarters! Lectures are amazing with insightful contents.',\n",
              " 'HE IS THE BEST. He cares about students and going to his office hours helps so much. And most importantly, he explains concepts with easy examples, which make so much more sense than just reading off the textbook.',\n",
              " 'I took his CSE8B and CSE100. One of the best professors in CSE Department. You really learn A LOT from his lectures. PAs are time consuming but worth doing them. Hope he can teach some upper division courses and I will definitely take them.',\n",
              " \"Highly recommend if you really wanna learn something. His assignment could be quite hellish if you have no previous experience in programming, but are pretty helpful. And most of all, he's lectures are always helpful with a lot of details, and he explains the material quite well.\",\n",
              " 'Paul is one of the best CSE lecturers/professors at UCSD. He is really good at explaining materials. His PAs are hard but as long as you spend time on them, you will learn a looot from them.',\n",
              " 'Worst Professor I have taken so far . Workloads are insane, tests are meant to trick you with tiny descriptive language, during office hours hes very intimidating and will talk down to you not very helpful at all!. His podcasts lack details and he just talks in terrible monotone. Reading Quiz due every class meeting . Not lenient by any means.',\n",
              " \"Pros: podcast available, reasonable exams, explain concepts super well, take advice from students, iclicker discussion Cons: bursting workload of PAs, there are times when I spent tons of time and effort on one PA yet still get horrible grade (might bc i'm dumb af), he sound strict and mean at times but doesn't hurt\",\n",
              " 'Hellish workload. Midterms and final were CSE-level, not too difficult. But the PA were difficult and lengthy, easily 20 hours a week. Fixed somewhat after multiple Piazza and TA requests. PA grading was strict (examining output) because expected in future upperCSE, but killed my grades. Professor was fine, but curved grades indicated difficulty.',\n",
              " \"Professor Cao is one of my favorite professors at UCSD, and I definitely learned a lot in this course. He cares about preparing students for the industry, and he's very reasonable. If you're good at computer science or are willing to put in the work, this class should be very fun and fairly easy.\",\n",
              " 'grading is unreasonable, prof do not take suggestions and doesnt care about student concerns. Need to spend long time to do the PA especially in the beginning of the quarter. Exams are not very hard but not as easy as the practice. Overall lecture is fine, you learn a lot. Worst cse prof in my entire college life',\n",
              " \"He gives out really simple past/sample exams, but then increase the difficulty by a lot during the actual exam. He also doesn't take suggestions from students very often. But aside from those, cool guy.\",\n",
              " \"The worst professor I've ever seen. He doesn't take students' advices or concerns. I'm literally kicked off from his office when trying to tell him what's wrong with the course. He's not caring enough to be a professor. His PAs are not hard to finish, but hard to understand. 20+h to understand the requirements from piazza, and 10h actual coding.:)\",\n",
              " 'CSE8A and CSE8B thought by him are really fun. You can finish many interesting programs even though you are just a beginner. However, his CSE100 is hard and he is trying to make harder. Even though exams are easy, PAs take over 24 hours and you may not make it correct. I suggest to take CSE8A/B with him but dont take CSE100 with him!!!',\n",
              " 'One of the best professors Ive had at UCSD. He really knows his stuff. I highly recommend you take his classes if you have the choice. The only slight drawback is that his accent can be a little bit difficult to understand at times.',\n",
              " 'Cao was an inspiration teacher for CSE8. However the way he is managing CSE100 in intense. The workload is too much for PA1 and PA2 and students are spending countless hours on a waiting queue, but the tutors are changing to fix some difficulty. The PA write-ups are partially vague. His midterm and lectures are just like CSE8, but PA are hellish.',\n",
              " 'PAs are not extremely difficult, but they are time consuming Lecture is mandatory, Caring for students and listen to feedback Exams are not hard once you get the concept, I barely passed the first quiz and midterm, and got 100% on final after spent a lot of time studying the past exams',\n",
              " \"He does his best to keep their students on their toes but the teaching method was not very good. Attendance is mandatory because he will only hand out 'printed' class notes in class. Also don't even try to look for code snippets online, he will report you for Academic Integrity violation. Has heavy accent and difficult to understand.\",\n",
              " 'The final exam was 261 out of 236, and average was 236, literally 100 percent. I would highly recommend Paul if you want to learn CS well. The class is by no mean easy, but I definitely enjoy the material in cs30',\n",
              " 'Paul is a horrible professor. \"I want to conserve the integrity of UCSD \" his words, not mine. He upped the difficulty of this class as if it wasn\\'t already difficult enough. Never taking him again. Rather wait a whole quarter if he\\'s the only choice.',\n",
              " \"If you go to the lectures and do the reading you will probably get the concept. He really explains things really well, the lecture is structural and clear. But the PAs are really time-consuming and tough, and you don't want to expect an extension. The quizzes and mid-term are tricky, I got a 50% on the midterm. The final is ok I got 100%.\",\n",
              " 'He really cares your learning and will take in student feedback. He would modify the class if the majority of the opinion reflected that they want the change. Awesome prof!',\n",
              " 'One the best Professors at UCSD.',\n",
              " 'His final is so tricky, and no curve. You need to spend millions of time to do his psa, but you still cannot make sure you get a good grade. I did really hard work, but I still cannot get an A rather than A-.',\n",
              " 'The best way I can describe Paul is that he is a caring and very much a dad-figure to every one in the class. He makes it his goal to help you understand the rather confusing topics in Java and the in class examples (clicker questions) are incredibly helpful in demonstrating the nuances in the code. Do his quizzes on time and pay attention for an A',\n",
              " \"Paul (Yingjun) knows what he is talking about and makes sure you understand. Reading quizzes three times per week and weekly programming assignments. The PA's can be time consuming and you will probably need help to complete them. 3 easy in-class quizzes.\",\n",
              " 'Paul (Yingjun) clearly knows what he is talking about and makes sure you do too. Reading quizzes three times per week, review quizzes and programming assignments due once per week. Weekly lab sections are useful. He has plenty of office hours and there are always tutors in the lab if you need help.',\n",
              " \"If you want to learn Java, you should take this class. Paul (Yingjun) Cao goes into great depth explaining concepts, and will pause the lecture to expand on a concept if he feels that the class doesn't get a concept. Even though the PAs are time consuming, I found them relatively straightforward and educational. I did stuff last minute and got a B+\",\n",
              " \"He explains things really well. You can understand him clearly even if you don't have any programming experience previously. The programming assignments are a little tough but you will really learn the concepts better after finishing them. Besides, most of the time the assignments are really fun. Good luck!\",\n",
              " 'Knows his stuff. Reading quizzes every alternate day, review quizzes every week. Additional PSAs due every week. Lectures are informative and count for a small percentage of final grade.',\n",
              " \"He's a great professor who really tries to make sure everyone understands and does well. Do your work and you're almost guaranteed an A. Easy midterms and final. Great class overall and great prof!\",\n",
              " 'A very good professor, can explain things very clear when you have a question.',\n",
              " 'A fast paced class with too many quizzes and very difficult weekly assignments. Paul Cao is a caring professor who values feedback, but his class is just much too fast-paced especially for beginning coders.',\n",
              " \"Paul Cao is a nice professor and tries really hard to make you understand the material, but the material itself is really difficult. There are too many quizzes that we have to take and you can never relax in the class because PSA's are due every week and they take forever to do. Midterm was hard.\",\n",
              " 'Prof. Cao is a well-respected teacher among all my friends. He is kind, accessible outside of class, and sometimes with unexpected humor. His course is well designed and well prepared. Follow his reading assignments, handouts, practice exams, programming assignments and lecture. You will find his assignments doable because he gets you ready.',\n",
              " 'Professor Cao is a great instructor. He truly cares about your learning and will help you without judgement, especially on your exams. His lectures are a little hard to follow but he will slow down if you ask him to. There are quizzes during class but as long as you do your PSAs and attend lectures, you should be set. Studying is strongly recommend',\n",
              " \"If you concentrate on lectures you won't need the book at all. You will get an easy A if you take him\",\n",
              " 'has a clear grading standard to follow. easy to pick up all the point.',\n",
              " \"Professor Cao's class has been my favorite at ucsd so far. Attendance is mandatory, but I enjoyed his lectures. Exams were very fair. I appreciate that he asks for criticism and comments from his students to improve his own teaching.\",\n",
              " 'Overall a good professor. Exam and quiz got harder this quarter but you should be fine if you study and pay attention during lecture.',\n",
              " \"Mr. Cao is a wonderful teacher. His lectures are very well structured, and deliver important information. There are reading quizzes due on the morning of each lecture, so reading is important. His class is not extremely difficult, but it isn't a catwalk. 10/10 would take again\",\n",
              " 'One of the best professor. True. The class is time consuming. Reading quizzes, PSA, but all the cse classes are. It is not his fault.  The class is not that hard if you just follow his step. Professor Can is approachable and inspiring. Clear in explaining concepts. I think the university should let him teach more cse classes. He really cares about',\n",
              " \"Professor Cao is the best professor I've had at UCSD so far! His lectures are packed with valuable knowledge and material so going to lectures will definitely help your grade. All his PAs are explained very clearly and graded fairly as well. He's one of those professor where going to lecture is actually really worth it! Definitely recommend!\",\n",
              " \"This is the second class that I took with Professor Cao. In general, he is responsible that he uses podcasts and posts the slides online timely. However, he assumes too much knowledge you should know before class, and usually he doesn't explain very clear. His lecture has a lot of discussion which he could have spent those time lecturing.\",\n",
              " \"For those who claim Cao is not clear enough, I think  they won't find any  cs professor they like  in ucsd.  Take him, you will get an easy A and have solid cs fundation.\",\n",
              " 'Very veerrrry nice person!!! It is really my pleasure to meet such a nice CSE professor. The final is very identical to all the previous works we had done so far. He gives all the materials such as podcast, past papers, lecture slides notes, study guide, etc. You can prepare all well and develop a strong base of CSE. Take this prof!!!',\n",
              " \"There's a lot of work in this class. (Labs, quizzes, homework, midterms) He posts everything online. He even posted the podcast of when we took our midterm, so it was a podcast of us staring at a watch for 80 minutes. But he is pretty good at explaining and he tries really hard. Getting a passing grade isn't hard, but you have to work for the A.\",\n",
              " 'Fun class, great professor. Never leaves anyone behind.',\n",
              " 'Good prof.  Very clear and fair.  He challenges you to know material, but if you put in the effort and start hw early, you can definitely get an A. Just START EARLY and go to tutors for help and you are golden',\n",
              " 'CSE 8B is harder than 8A, but you have so many chances to get extra credits. Problem Solving Assignments are more fun but more time-consuming. Get ready to devote a couple weekends to PSAs!',\n",
              " \"Most would say accent is a problem, but it really is not. Attend lecture or watch podcast, and the tests would be chill. PAs will take time, especially pa2 (start wordcloud early). TA's are great. Tutors are great. In essence, he knows what he is doing.\",\n",
              " \"Wouldn't have been the same without Cao! He's able to explain concepts well and in a way that's easy to understand. Granted, there are certain topics that are just harder to grasp, but he genuinely cares for his students and how they are performing. Coding assignment range from really hard to easy, and quizzes and exams are not hard but not easy\",\n",
              " \"During my quarter, I believe that he gave an incredibly high number of quizzes. I think that 7 quizzes in 2 weeks is a bit too much. He was pretty unclear when he was explaining and I honestly learnt more from the internet than I did from him. Overall, I would not recommend this teacher based of this quarter's experiences.\",\n",
              " \"I think Professor Cao is a very passionate teacher, however, I didn't gain much from his class. There were a few too many quizzes, tests, and assignments that set the expectations for the class to be a bit higher than I could realistically achieve. Many students like him but I became disenfranchised rather quickly and would not take his class again\",\n",
              " \"I love Professor Cao! He explains everything very clearly and goes through each problem in detail even if no one asks (in case you're shy). There are lots of good examples&info in clicker questions that will help on projects! He's very kind with grading and extra help, and he takes time before class to just sit down and chat with students :)\",\n",
              " 'He is a nice professor. He explains things clearly and his tests are fair',\n",
              " 'Professor Cao is super patient. However hard ur question is, he will answer u wiz a lot of details and make sure u understand it.',\n",
              " 'His classes are interesting and the exams are not too hard.',\n",
              " 'Awesome class. He was very clear and you knew exactly what he wanted you to know thanks to his good use of iclicker questions. My only problem with the class was the fact every assignment (once a week) was with a partner. All around, easy and well-educating class. And he podcasts. Find the book online.',\n",
              " \"Professor Cao teaches the material well and allows the students ample time to discuss questions amongst themselves. The course material was easy in itself so it's hard to say how much he really helped me. The one thing I really liked about him was how he made an effort to talk to students outside the class. Great professor!\",\n",
              " 'Gives a lot of discussion time',\n",
              " 'Cao is an excellent, helpful, and reassuring professor.  1st midterm average was 92%, and the day the first project was due, he opened up tutor hours until midnight.  He has an accent, but is easy enough to understand.  Attendance is mandatory.  \"It\\'s normal to become frustrated when programming.  But don\\'t get discouraged; you can do it!\" -Cao',\n",
              " 'Awesome, one of the best professor that I have ever met. His lectures are so interesting and helpful!',\n",
              " \"Very good professor, very clear about what is needed for the students to get good grades. He always give good feedback and is very nice to students and very patient to students' questions. \"]"
            ]
          },
          "metadata": {},
          "execution_count": 3
        }
      ]
    },
    {
      "cell_type": "code",
      "source": [
        "len(review_list)"
      ],
      "metadata": {
        "colab": {
          "base_uri": "https://localhost:8080/"
        },
        "id": "AEcebyHdzwvY",
        "outputId": "152f74db-67d3-40af-aa28-1819fa6eaf15"
      },
      "execution_count": null,
      "outputs": [
        {
          "output_type": "execute_result",
          "data": {
            "text/plain": [
              "88"
            ]
          },
          "metadata": {},
          "execution_count": 4
        }
      ]
    },
    {
      "cell_type": "code",
      "source": [
        "with open(\"file.txt\", \"w\") as output:\n",
        "    output.write(str(review_list))"
      ],
      "metadata": {
        "id": "YDO_54g27E05"
      },
      "execution_count": null,
      "outputs": []
    },
    {
      "cell_type": "code",
      "source": [
        "import pandas as pd\n",
        "\n",
        "df_review = pd.DataFrame()\n",
        "df_review['Prof'] = []\n",
        "df_review['Review'] = []\n",
        "df_review"
      ],
      "metadata": {
        "colab": {
          "base_uri": "https://localhost:8080/",
          "height": 49
        },
        "id": "uIrVuiZnUPX_",
        "outputId": "15cdf4f6-79a0-4dfa-fb9b-e9aa6cc848bb"
      },
      "execution_count": null,
      "outputs": [
        {
          "output_type": "execute_result",
          "data": {
            "text/plain": [
              "Empty DataFrame\n",
              "Columns: [Prof, Review]\n",
              "Index: []"
            ],
            "text/html": [
              "\n",
              "  <div id=\"df-7ad5cc1d-210d-4422-9369-6754af034e19\">\n",
              "    <div class=\"colab-df-container\">\n",
              "      <div>\n",
              "<style scoped>\n",
              "    .dataframe tbody tr th:only-of-type {\n",
              "        vertical-align: middle;\n",
              "    }\n",
              "\n",
              "    .dataframe tbody tr th {\n",
              "        vertical-align: top;\n",
              "    }\n",
              "\n",
              "    .dataframe thead th {\n",
              "        text-align: right;\n",
              "    }\n",
              "</style>\n",
              "<table border=\"1\" class=\"dataframe\">\n",
              "  <thead>\n",
              "    <tr style=\"text-align: right;\">\n",
              "      <th></th>\n",
              "      <th>Prof</th>\n",
              "      <th>Review</th>\n",
              "    </tr>\n",
              "  </thead>\n",
              "  <tbody>\n",
              "  </tbody>\n",
              "</table>\n",
              "</div>\n",
              "      <button class=\"colab-df-convert\" onclick=\"convertToInteractive('df-7ad5cc1d-210d-4422-9369-6754af034e19')\"\n",
              "              title=\"Convert this dataframe to an interactive table.\"\n",
              "              style=\"display:none;\">\n",
              "        \n",
              "  <svg xmlns=\"http://www.w3.org/2000/svg\" height=\"24px\"viewBox=\"0 0 24 24\"\n",
              "       width=\"24px\">\n",
              "    <path d=\"M0 0h24v24H0V0z\" fill=\"none\"/>\n",
              "    <path d=\"M18.56 5.44l.94 2.06.94-2.06 2.06-.94-2.06-.94-.94-2.06-.94 2.06-2.06.94zm-11 1L8.5 8.5l.94-2.06 2.06-.94-2.06-.94L8.5 2.5l-.94 2.06-2.06.94zm10 10l.94 2.06.94-2.06 2.06-.94-2.06-.94-.94-2.06-.94 2.06-2.06.94z\"/><path d=\"M17.41 7.96l-1.37-1.37c-.4-.4-.92-.59-1.43-.59-.52 0-1.04.2-1.43.59L10.3 9.45l-7.72 7.72c-.78.78-.78 2.05 0 2.83L4 21.41c.39.39.9.59 1.41.59.51 0 1.02-.2 1.41-.59l7.78-7.78 2.81-2.81c.8-.78.8-2.07 0-2.86zM5.41 20L4 18.59l7.72-7.72 1.47 1.35L5.41 20z\"/>\n",
              "  </svg>\n",
              "      </button>\n",
              "      \n",
              "  <style>\n",
              "    .colab-df-container {\n",
              "      display:flex;\n",
              "      flex-wrap:wrap;\n",
              "      gap: 12px;\n",
              "    }\n",
              "\n",
              "    .colab-df-convert {\n",
              "      background-color: #E8F0FE;\n",
              "      border: none;\n",
              "      border-radius: 50%;\n",
              "      cursor: pointer;\n",
              "      display: none;\n",
              "      fill: #1967D2;\n",
              "      height: 32px;\n",
              "      padding: 0 0 0 0;\n",
              "      width: 32px;\n",
              "    }\n",
              "\n",
              "    .colab-df-convert:hover {\n",
              "      background-color: #E2EBFA;\n",
              "      box-shadow: 0px 1px 2px rgba(60, 64, 67, 0.3), 0px 1px 3px 1px rgba(60, 64, 67, 0.15);\n",
              "      fill: #174EA6;\n",
              "    }\n",
              "\n",
              "    [theme=dark] .colab-df-convert {\n",
              "      background-color: #3B4455;\n",
              "      fill: #D2E3FC;\n",
              "    }\n",
              "\n",
              "    [theme=dark] .colab-df-convert:hover {\n",
              "      background-color: #434B5C;\n",
              "      box-shadow: 0px 1px 3px 1px rgba(0, 0, 0, 0.15);\n",
              "      filter: drop-shadow(0px 1px 2px rgba(0, 0, 0, 0.3));\n",
              "      fill: #FFFFFF;\n",
              "    }\n",
              "  </style>\n",
              "\n",
              "      <script>\n",
              "        const buttonEl =\n",
              "          document.querySelector('#df-7ad5cc1d-210d-4422-9369-6754af034e19 button.colab-df-convert');\n",
              "        buttonEl.style.display =\n",
              "          google.colab.kernel.accessAllowed ? 'block' : 'none';\n",
              "\n",
              "        async function convertToInteractive(key) {\n",
              "          const element = document.querySelector('#df-7ad5cc1d-210d-4422-9369-6754af034e19');\n",
              "          const dataTable =\n",
              "            await google.colab.kernel.invokeFunction('convertToInteractive',\n",
              "                                                     [key], {});\n",
              "          if (!dataTable) return;\n",
              "\n",
              "          const docLinkHtml = 'Like what you see? Visit the ' +\n",
              "            '<a target=\"_blank\" href=https://colab.research.google.com/notebooks/data_table.ipynb>data table notebook</a>'\n",
              "            + ' to learn more about interactive tables.';\n",
              "          element.innerHTML = '';\n",
              "          dataTable['output_type'] = 'display_data';\n",
              "          await google.colab.output.renderOutput(dataTable, element);\n",
              "          const docLink = document.createElement('div');\n",
              "          docLink.innerHTML = docLinkHtml;\n",
              "          element.appendChild(docLink);\n",
              "        }\n",
              "      </script>\n",
              "    </div>\n",
              "  </div>\n",
              "  "
            ]
          },
          "metadata": {},
          "execution_count": 4
        }
      ]
    },
    {
      "cell_type": "code",
      "source": [
        "cao_list=[]\n",
        "for i in range(len(review_list)):\n",
        "  cao_list.append('Yingjun Cao')\n",
        "df_review['Prof'] = pd.Series(cao_list)\n",
        "df_review['Review'] = pd.Series(review_list)"
      ],
      "metadata": {
        "id": "FTwk-YdyUWQ1"
      },
      "execution_count": null,
      "outputs": []
    },
    {
      "cell_type": "code",
      "source": [
        "df_review.head()"
      ],
      "metadata": {
        "colab": {
          "base_uri": "https://localhost:8080/",
          "height": 206
        },
        "id": "P6PfAyIiVTRX",
        "outputId": "7ed39ac9-63f9-4d6a-e8b7-6a1253bfc22d"
      },
      "execution_count": null,
      "outputs": [
        {
          "output_type": "execute_result",
          "data": {
            "text/plain": [
              "          Prof                                             Review\n",
              "0  Yingjun Cao  He's teaching at a very fast pace and this cla...\n",
              "1  Yingjun Cao  One of my favorite professors in UCSD. His CSE...\n",
              "2  Yingjun Cao  One of the best CSE profs I've had so far. His...\n",
              "3  Yingjun Cao                My favorite CSE professor at UCSD. \n",
              "4  Yingjun Cao  Coding is awful. The prof is cool but why assi..."
            ],
            "text/html": [
              "\n",
              "  <div id=\"df-09098e37-82b6-4784-af70-acdfa97a65af\">\n",
              "    <div class=\"colab-df-container\">\n",
              "      <div>\n",
              "<style scoped>\n",
              "    .dataframe tbody tr th:only-of-type {\n",
              "        vertical-align: middle;\n",
              "    }\n",
              "\n",
              "    .dataframe tbody tr th {\n",
              "        vertical-align: top;\n",
              "    }\n",
              "\n",
              "    .dataframe thead th {\n",
              "        text-align: right;\n",
              "    }\n",
              "</style>\n",
              "<table border=\"1\" class=\"dataframe\">\n",
              "  <thead>\n",
              "    <tr style=\"text-align: right;\">\n",
              "      <th></th>\n",
              "      <th>Prof</th>\n",
              "      <th>Review</th>\n",
              "    </tr>\n",
              "  </thead>\n",
              "  <tbody>\n",
              "    <tr>\n",
              "      <th>0</th>\n",
              "      <td>Yingjun Cao</td>\n",
              "      <td>He's teaching at a very fast pace and this cla...</td>\n",
              "    </tr>\n",
              "    <tr>\n",
              "      <th>1</th>\n",
              "      <td>Yingjun Cao</td>\n",
              "      <td>One of my favorite professors in UCSD. His CSE...</td>\n",
              "    </tr>\n",
              "    <tr>\n",
              "      <th>2</th>\n",
              "      <td>Yingjun Cao</td>\n",
              "      <td>One of the best CSE profs I've had so far. His...</td>\n",
              "    </tr>\n",
              "    <tr>\n",
              "      <th>3</th>\n",
              "      <td>Yingjun Cao</td>\n",
              "      <td>My favorite CSE professor at UCSD.</td>\n",
              "    </tr>\n",
              "    <tr>\n",
              "      <th>4</th>\n",
              "      <td>Yingjun Cao</td>\n",
              "      <td>Coding is awful. The prof is cool but why assi...</td>\n",
              "    </tr>\n",
              "  </tbody>\n",
              "</table>\n",
              "</div>\n",
              "      <button class=\"colab-df-convert\" onclick=\"convertToInteractive('df-09098e37-82b6-4784-af70-acdfa97a65af')\"\n",
              "              title=\"Convert this dataframe to an interactive table.\"\n",
              "              style=\"display:none;\">\n",
              "        \n",
              "  <svg xmlns=\"http://www.w3.org/2000/svg\" height=\"24px\"viewBox=\"0 0 24 24\"\n",
              "       width=\"24px\">\n",
              "    <path d=\"M0 0h24v24H0V0z\" fill=\"none\"/>\n",
              "    <path d=\"M18.56 5.44l.94 2.06.94-2.06 2.06-.94-2.06-.94-.94-2.06-.94 2.06-2.06.94zm-11 1L8.5 8.5l.94-2.06 2.06-.94-2.06-.94L8.5 2.5l-.94 2.06-2.06.94zm10 10l.94 2.06.94-2.06 2.06-.94-2.06-.94-.94-2.06-.94 2.06-2.06.94z\"/><path d=\"M17.41 7.96l-1.37-1.37c-.4-.4-.92-.59-1.43-.59-.52 0-1.04.2-1.43.59L10.3 9.45l-7.72 7.72c-.78.78-.78 2.05 0 2.83L4 21.41c.39.39.9.59 1.41.59.51 0 1.02-.2 1.41-.59l7.78-7.78 2.81-2.81c.8-.78.8-2.07 0-2.86zM5.41 20L4 18.59l7.72-7.72 1.47 1.35L5.41 20z\"/>\n",
              "  </svg>\n",
              "      </button>\n",
              "      \n",
              "  <style>\n",
              "    .colab-df-container {\n",
              "      display:flex;\n",
              "      flex-wrap:wrap;\n",
              "      gap: 12px;\n",
              "    }\n",
              "\n",
              "    .colab-df-convert {\n",
              "      background-color: #E8F0FE;\n",
              "      border: none;\n",
              "      border-radius: 50%;\n",
              "      cursor: pointer;\n",
              "      display: none;\n",
              "      fill: #1967D2;\n",
              "      height: 32px;\n",
              "      padding: 0 0 0 0;\n",
              "      width: 32px;\n",
              "    }\n",
              "\n",
              "    .colab-df-convert:hover {\n",
              "      background-color: #E2EBFA;\n",
              "      box-shadow: 0px 1px 2px rgba(60, 64, 67, 0.3), 0px 1px 3px 1px rgba(60, 64, 67, 0.15);\n",
              "      fill: #174EA6;\n",
              "    }\n",
              "\n",
              "    [theme=dark] .colab-df-convert {\n",
              "      background-color: #3B4455;\n",
              "      fill: #D2E3FC;\n",
              "    }\n",
              "\n",
              "    [theme=dark] .colab-df-convert:hover {\n",
              "      background-color: #434B5C;\n",
              "      box-shadow: 0px 1px 3px 1px rgba(0, 0, 0, 0.15);\n",
              "      filter: drop-shadow(0px 1px 2px rgba(0, 0, 0, 0.3));\n",
              "      fill: #FFFFFF;\n",
              "    }\n",
              "  </style>\n",
              "\n",
              "      <script>\n",
              "        const buttonEl =\n",
              "          document.querySelector('#df-09098e37-82b6-4784-af70-acdfa97a65af button.colab-df-convert');\n",
              "        buttonEl.style.display =\n",
              "          google.colab.kernel.accessAllowed ? 'block' : 'none';\n",
              "\n",
              "        async function convertToInteractive(key) {\n",
              "          const element = document.querySelector('#df-09098e37-82b6-4784-af70-acdfa97a65af');\n",
              "          const dataTable =\n",
              "            await google.colab.kernel.invokeFunction('convertToInteractive',\n",
              "                                                     [key], {});\n",
              "          if (!dataTable) return;\n",
              "\n",
              "          const docLinkHtml = 'Like what you see? Visit the ' +\n",
              "            '<a target=\"_blank\" href=https://colab.research.google.com/notebooks/data_table.ipynb>data table notebook</a>'\n",
              "            + ' to learn more about interactive tables.';\n",
              "          element.innerHTML = '';\n",
              "          dataTable['output_type'] = 'display_data';\n",
              "          await google.colab.output.renderOutput(dataTable, element);\n",
              "          const docLink = document.createElement('div');\n",
              "          docLink.innerHTML = docLinkHtml;\n",
              "          element.appendChild(docLink);\n",
              "        }\n",
              "      </script>\n",
              "    </div>\n",
              "  </div>\n",
              "  "
            ]
          },
          "metadata": {},
          "execution_count": 6
        }
      ]
    },
    {
      "cell_type": "code",
      "source": [
        "import re  # For preprocessing\n",
        "import pandas as pd  # For data handling\n",
        "from time import time  # To time our operations\n",
        "from collections import defaultdict  # For word frequency\n",
        "\n",
        "import spacy  # For preprocessing\n",
        "\n",
        "import logging  # Setting up the loggings to monitor gensim\n",
        "logging.basicConfig(format=\"%(levelname)s - %(asctime)s: %(message)s\", datefmt= '%H:%M:%S', level=logging.INFO)\n",
        "\n",
        "from gensim.models.phrases import Phrases, Phraser\n",
        "\n",
        "from nltk import bigrams\n",
        "\n",
        "import multiprocessing\n",
        "\n",
        "from gensim.models import Word2Vec"
      ],
      "metadata": {
        "id": "U6jQwRgfScHg"
      },
      "execution_count": null,
      "outputs": []
    },
    {
      "cell_type": "code",
      "source": [
        "nlp = spacy.load(\"en_core_web_sm\", disable=['ner', 'parser']) # disabling Named Entity Recognition for speed\n",
        "\n",
        "def cleaning(doc):\n",
        "    # Lemmatizes and removes stopwords\n",
        "    # doc needs to be a spacy Doc object\n",
        "    txt = [token.lemma_ for token in doc if not token.is_stop]\n",
        "    # Word2Vec uses context words to learn the vector representation of a target word,\n",
        "    # if a sentence is only one or two words long,\n",
        "    # the benefit for the training is very small\n",
        "    if len(txt) > 2:\n",
        "        return ' '.join(txt)"
      ],
      "metadata": {
        "id": "xtI8DTqGTiiL"
      },
      "execution_count": null,
      "outputs": []
    },
    {
      "cell_type": "code",
      "source": [
        "brief_cleaning = (re.sub(\"[^A-Za-z']+\", ' ', str(row)).lower() for row in df_review['Review'])"
      ],
      "metadata": {
        "id": "NiUJ6QSUTubH"
      },
      "execution_count": null,
      "outputs": []
    },
    {
      "cell_type": "code",
      "source": [
        "t = time()\n",
        "\n",
        "txt = [cleaning(doc) for doc in nlp.pipe(brief_cleaning, batch_size=5000, n_process=-1)]\n",
        "\n",
        "print('Time to clean up everything: {} mins'.format(round((time() - t) / 60, 2)))"
      ],
      "metadata": {
        "colab": {
          "base_uri": "https://localhost:8080/"
        },
        "id": "yAGyhePUT5SV",
        "outputId": "090f7879-cc65-48c0-db4c-b67a0a4cb5d1"
      },
      "execution_count": null,
      "outputs": [
        {
          "output_type": "stream",
          "name": "stdout",
          "text": [
            "Time to clean up everything: 0.01 mins\n"
          ]
        }
      ]
    },
    {
      "cell_type": "code",
      "source": [
        "df_clean = pd.DataFrame({'clean': txt})\n",
        "df_clean = df_clean.dropna().drop_duplicates()\n",
        "df_clean.shape"
      ],
      "metadata": {
        "colab": {
          "base_uri": "https://localhost:8080/"
        },
        "id": "ITqgfxC-WTXD",
        "outputId": "59e8ade6-8432-45cf-cf45-35505ebc8f48"
      },
      "execution_count": null,
      "outputs": [
        {
          "output_type": "execute_result",
          "data": {
            "text/plain": [
              "(88, 1)"
            ]
          },
          "metadata": {},
          "execution_count": 27
        }
      ]
    },
    {
      "cell_type": "code",
      "source": [
        "sent = [row.split() for row in df_clean['clean']]"
      ],
      "metadata": {
        "id": "6vcZ2jnIWbE6"
      },
      "execution_count": null,
      "outputs": []
    },
    {
      "cell_type": "code",
      "source": [
        "phrases = Phrases(sent, min_count=30, progress_per=10000)"
      ],
      "metadata": {
        "id": "ujmDElDxWnv-"
      },
      "execution_count": null,
      "outputs": []
    },
    {
      "cell_type": "code",
      "source": [
        "bigram = Phraser(phrases)"
      ],
      "metadata": {
        "id": "EHqwZVUjXv0B"
      },
      "execution_count": null,
      "outputs": []
    },
    {
      "cell_type": "code",
      "source": [
        "sentences = bigram[sent]"
      ],
      "metadata": {
        "id": "wNTx-l8GWorj"
      },
      "execution_count": null,
      "outputs": []
    },
    {
      "cell_type": "code",
      "source": [
        "word_freq = defaultdict(int)\n",
        "for sent in sentences:\n",
        "    for i in sent:\n",
        "        word_freq[i] += 1\n",
        "len(word_freq)"
      ],
      "metadata": {
        "colab": {
          "base_uri": "https://localhost:8080/"
        },
        "id": "vUBJzUTyX27o",
        "outputId": "c1827ff7-c4f2-4abb-8f09-0bb8189e247d"
      },
      "execution_count": null,
      "outputs": [
        {
          "output_type": "execute_result",
          "data": {
            "text/plain": [
              "531"
            ]
          },
          "metadata": {},
          "execution_count": 37
        }
      ]
    },
    {
      "cell_type": "code",
      "source": [
        "sorted(word_freq, key=word_freq.get, reverse=True)[:10]"
      ],
      "metadata": {
        "colab": {
          "base_uri": "https://localhost:8080/"
        },
        "id": "63Bszc_gXx3q",
        "outputId": "ce74b450-f978-42f8-fe80-7f168bce796b"
      },
      "execution_count": null,
      "outputs": [
        {
          "output_type": "execute_result",
          "data": {
            "text/plain": [
              "['class',\n",
              " 'professor',\n",
              " 'lecture',\n",
              " 'hard',\n",
              " 'time',\n",
              " 'good',\n",
              " 'pas',\n",
              " 'cse',\n",
              " 'cao',\n",
              " 'quiz']"
            ]
          },
          "metadata": {},
          "execution_count": 38
        }
      ]
    },
    {
      "cell_type": "code",
      "source": [
        "cores = multiprocessing.cpu_count() # Count the number of cores in a computer"
      ],
      "metadata": {
        "id": "ZzKfk_dCYSEi"
      },
      "execution_count": null,
      "outputs": []
    },
    {
      "cell_type": "code",
      "source": [
        "w2v_model = Word2Vec(min_count=2,\n",
        "                     window=5,\n",
        "                     size=80,\n",
        "                     sample=6e-5, \n",
        "                     alpha=0.03, \n",
        "                     min_alpha=0.0007, \n",
        "                     negative=20,\n",
        "                     workers=cores-1)"
      ],
      "metadata": {
        "id": "qvfCrA9BYb7k"
      },
      "execution_count": null,
      "outputs": []
    },
    {
      "cell_type": "code",
      "source": [
        "t = time()\n",
        "\n",
        "w2v_model.build_vocab(sentences, progress_per=10000)\n",
        "\n",
        "print('Time to build vocab: {} mins'.format(round((time() - t) / 60, 2)))"
      ],
      "metadata": {
        "colab": {
          "base_uri": "https://localhost:8080/"
        },
        "id": "gPFHNEeBafUO",
        "outputId": "c8c341ec-4069-461e-df8f-a4252bcefece"
      },
      "execution_count": null,
      "outputs": [
        {
          "output_type": "stream",
          "name": "stdout",
          "text": [
            "Time to build vocab: 0.0 mins\n"
          ]
        }
      ]
    },
    {
      "cell_type": "code",
      "source": [
        "t = time()\n",
        "\n",
        "w2v_model.train(sentences, total_examples=w2v_model.corpus_count, epochs=30, report_delay=1)\n",
        "\n",
        "print('Time to train the model: {} mins'.format(round((time() - t) / 60, 2)))"
      ],
      "metadata": {
        "colab": {
          "base_uri": "https://localhost:8080/"
        },
        "id": "9woQ-EMSX7AA",
        "outputId": "939eb340-59c2-4da7-c399-4649bd8ce8a5"
      },
      "execution_count": null,
      "outputs": [
        {
          "output_type": "stream",
          "name": "stdout",
          "text": [
            "Time to train the model: 0.01 mins\n"
          ]
        }
      ]
    },
    {
      "cell_type": "code",
      "source": [
        "pip install gensim==4.1.2"
      ],
      "metadata": {
        "colab": {
          "base_uri": "https://localhost:8080/"
        },
        "id": "iILrO0RM2IC_",
        "outputId": "b4109e65-7aa2-4635-834c-4e69e4f69b05"
      },
      "execution_count": null,
      "outputs": [
        {
          "output_type": "stream",
          "name": "stdout",
          "text": [
            "Looking in indexes: https://pypi.org/simple, https://us-python.pkg.dev/colab-wheels/public/simple/\n",
            "Requirement already satisfied: gensim==4.1.2 in /usr/local/lib/python3.7/dist-packages (4.1.2)\n",
            "Requirement already satisfied: numpy>=1.17.0 in /usr/local/lib/python3.7/dist-packages (from gensim==4.1.2) (1.21.6)\n",
            "Requirement already satisfied: scipy>=0.18.1 in /usr/local/lib/python3.7/dist-packages (from gensim==4.1.2) (1.7.3)\n",
            "Requirement already satisfied: smart-open>=1.8.1 in /usr/local/lib/python3.7/dist-packages (from gensim==4.1.2) (5.2.1)\n"
          ]
        }
      ]
    },
    {
      "cell_type": "code",
      "source": [
        "import re\n",
        "import logging\n",
        "import numpy as np\n",
        "import pandas as pd\n",
        "import multiprocessing\n",
        "\n",
        "from re import sub\n",
        "from time import time \n",
        "from gensim.models import Word2Vec\n",
        "from collections import defaultdict\n",
        "from gensim.models import KeyedVectors\n",
        "from gensim.test.utils import get_tmpfile\n",
        "from gensim.models.phrases import Phrases, Phraser\n",
        "\n",
        "logging.basicConfig(format=\"%(levelname)s - %(asctime)s: %(message)s\", datefmt= '%H:%M:%S', level=logging.INFO)"
      ],
      "metadata": {
        "id": "sv8gbwq9yg3d"
      },
      "execution_count": null,
      "outputs": []
    },
    {
      "cell_type": "code",
      "source": [
        "file_cleaned = df_review.dropna().drop_duplicates().reset_index(drop=True).rename(columns={'Review':'title'})"
      ],
      "metadata": {
        "id": "-9ZtuccVzIPo"
      },
      "execution_count": null,
      "outputs": []
    },
    {
      "cell_type": "code",
      "source": [
        "def text_to_word_list(text):\n",
        "    ''' Pre process and convert texts to a list of words \n",
        "    method inspired by method from eliorc github repo: https://github.com/eliorc/Medium/blob/master/MaLSTM.ipynb'''\n",
        "    \n",
        "    text = str(text)\n",
        "    text = text.lower()\n",
        "\n",
        "    # Clean the text\n",
        "    text = sub(r\"[^A-Za-z0-9^,!?.\\/'+]\", \" \", text)\n",
        "    text = sub(r\"\\+\", \" plus \", text)\n",
        "    text = sub(r\",\", \" \", text)\n",
        "    text = sub(r\"\\.\", \" \", text)\n",
        "    text = sub(r\"!\", \" ! \", text)\n",
        "    text = sub(r\"\\?\", \" ? \", text)\n",
        "    text = sub(r\"'\", \" \", text)\n",
        "    text = sub(r\":\", \" : \", text)\n",
        "    text = sub(r\"\\s{2,}\", \" \", text)\n",
        "\n",
        "    text = text.split()\n",
        "\n",
        "    return text\n",
        "\n",
        "file_cleaned.title = file_cleaned.title.apply(lambda x: text_to_word_list(x))"
      ],
      "metadata": {
        "id": "DLibQ4d2wV2S"
      },
      "execution_count": null,
      "outputs": []
    },
    {
      "cell_type": "code",
      "source": [
        "file_model = file_cleaned.copy()\n",
        "file_model = file_model[file_model.title.str.len()>1]"
      ],
      "metadata": {
        "id": "Bsyre0dbzY5h"
      },
      "execution_count": null,
      "outputs": []
    },
    {
      "cell_type": "code",
      "source": [
        "sent = [row for row in file_model.title]\n",
        "phrases = Phrases(sent, min_count=1, progress_per=50000)\n",
        "bigram = Phraser(phrases)\n",
        "sentences = bigram[sent]\n",
        "sentences[1]"
      ],
      "metadata": {
        "colab": {
          "base_uri": "https://localhost:8080/"
        },
        "id": "Za_aOOTQzjZF",
        "outputId": "96e6fd13-f4f8-4451-d0d7-f58fb6735e53"
      },
      "execution_count": null,
      "outputs": [
        {
          "output_type": "execute_result",
          "data": {
            "text/plain": [
              "['one_of',\n",
              " 'my_favorite',\n",
              " 'professors_in',\n",
              " 'ucsd',\n",
              " 'his',\n",
              " 'cse',\n",
              " '11',\n",
              " '12',\n",
              " 'and',\n",
              " '100',\n",
              " 'are',\n",
              " 'somewhat',\n",
              " 'harder_than',\n",
              " 'other',\n",
              " 'professors',\n",
              " 'but',\n",
              " 'doable',\n",
              " 'you',\n",
              " 'would',\n",
              " 'learn_a',\n",
              " 'lot']"
            ]
          },
          "metadata": {},
          "execution_count": 13
        }
      ]
    },
    {
      "cell_type": "code",
      "source": [
        "w2v_model = Word2Vec(min_count=3,\n",
        "                     window=4,\n",
        "                     vector_size=80,\n",
        "                     sample=1e-5, \n",
        "                     alpha=0.03, \n",
        "                     min_alpha=0.0007, \n",
        "                     negative=20,\n",
        "                     workers=multiprocessing.cpu_count()-1)\n",
        "\n",
        "start = time()\n",
        "\n",
        "w2v_model.build_vocab(sentences, progress_per=50000)\n",
        "\n",
        "print('Time to build vocab: {} mins'.format(round((time() - start) / 60, 2)))"
      ],
      "metadata": {
        "colab": {
          "base_uri": "https://localhost:8080/"
        },
        "id": "qc1FYtYzz3k-",
        "outputId": "01ee2f82-dc86-4fee-86f7-30f529d8e0b7"
      },
      "execution_count": null,
      "outputs": [
        {
          "output_type": "stream",
          "name": "stdout",
          "text": [
            "Time to build vocab: 0.0 mins\n"
          ]
        }
      ]
    },
    {
      "cell_type": "code",
      "source": [
        "start = time()\n",
        "\n",
        "w2v_model.train(sentences, total_examples=w2v_model.corpus_count, epochs=30, report_delay=1)\n",
        "\n",
        "print('Time to train the model: {} mins'.format(round((time() - start) / 60, 2)))\n",
        "\n",
        "w2v_model.init_sims(replace=True)"
      ],
      "metadata": {
        "colab": {
          "base_uri": "https://localhost:8080/"
        },
        "id": "_LJlTK4s0Lvl",
        "outputId": "0fa1a557-40db-4818-bd25-4097d10ee069"
      },
      "execution_count": null,
      "outputs": [
        {
          "output_type": "stream",
          "name": "stderr",
          "text": [
            "/usr/local/lib/python3.7/dist-packages/ipykernel_launcher.py:7: DeprecationWarning: Call to deprecated `init_sims` (Gensim 4.0.0 implemented internal optimizations that make calls to init_sims() unnecessary. init_sims() is now obsoleted and will be completely removed in future versions. See https://github.com/RaRe-Technologies/gensim/wiki/Migrating-from-Gensim-3.x-to-4).\n",
            "  import sys\n",
            "WARNING:gensim.models.keyedvectors:destructive init_sims(replace=True) deprecated & no longer required for space-efficiency\n"
          ]
        },
        {
          "output_type": "stream",
          "name": "stdout",
          "text": [
            "Time to train the model: 0.0 mins\n"
          ]
        }
      ]
    },
    {
      "cell_type": "code",
      "source": [
        "w2v_model.save(\"word2vec.model\")"
      ],
      "metadata": {
        "id": "_eJlxcjaWTNf"
      },
      "execution_count": null,
      "outputs": []
    },
    {
      "cell_type": "code",
      "source": [
        "file_export = file_model.copy()\n",
        "file_export['old_title'] = file_export.title\n",
        "file_export.old_title = file_export.old_title.str.join(' ')\n",
        "file_export.title = file_export.title.apply(lambda x: ' '.join(bigram[x]))"
      ],
      "metadata": {
        "id": "_BCKrqOG0VlK"
      },
      "execution_count": null,
      "outputs": []
    },
    {
      "cell_type": "code",
      "source": [
        "file_export[['Prof', 'title']].to_csv('cleaned_dataset.csv', index=False)"
      ],
      "metadata": {
        "id": "pqnZBqjp0b2-"
      },
      "execution_count": null,
      "outputs": []
    },
    {
      "cell_type": "code",
      "source": [
        "import numpy as np\n",
        "import pandas as pd\n",
        "from gensim.models import Word2Vec\n",
        "from sklearn.cluster import KMeans"
      ],
      "metadata": {
        "id": "s-MwA0Ko1BZ8"
      },
      "execution_count": null,
      "outputs": []
    },
    {
      "cell_type": "code",
      "source": [
        "# word_vectors = Word2Vec.load(\"word2vec.model\").wv\n",
        "# model = KMeans(n_clusters=2, max_iter=1000, random_state=True, n_init=50).fit(X=word_vectors.vectors)\n",
        "# positive_cluster_center = model.cluster_centers_[0]\n",
        "# negative_cluster_center = model.cluster_centers_[1]"
      ],
      "metadata": {
        "id": "xi99IYD70vWq"
      },
      "execution_count": null,
      "outputs": []
    },
    {
      "cell_type": "code",
      "source": [
        "word_vectors = Word2Vec.load(\"word2vec.model\").wv\n",
        "model = KMeans(n_clusters=2, max_iter=1000, random_state=True, n_init=50).fit(X=word_vectors.vectors.astype('double'))\n",
        "word_vectors.similar_by_vector(model.cluster_centers_[1], topn=10, restrict_vocab=None)"
      ],
      "metadata": {
        "colab": {
          "base_uri": "https://localhost:8080/"
        },
        "id": "BbJ4iMjj1Dp0",
        "outputId": "db2287e5-6540-4ae6-938e-3c5da16dc2c5"
      },
      "execution_count": null,
      "outputs": [
        {
          "output_type": "execute_result",
          "data": {
            "text/plain": [
              "[('and', 0.8908449411392212),\n",
              " ('the', 0.889650821685791),\n",
              " ('to', 0.813223123550415),\n",
              " ('but', 0.806376576423645),\n",
              " ('in', 0.7806737422943115),\n",
              " ('well', 0.7802919745445251),\n",
              " ('are', 0.7646620869636536),\n",
              " ('that', 0.7459336519241333),\n",
              " ('concept', 0.7363930344581604),\n",
              " ('difficulty', 0.7303978204727173)]"
            ]
          },
          "metadata": {},
          "execution_count": 21
        }
      ]
    },
    {
      "cell_type": "code",
      "source": [
        "positive_cluster_index = 1\n",
        "positive_cluster_center = model.cluster_centers_[positive_cluster_index]\n",
        "negative_cluster_center = model.cluster_centers_[1-positive_cluster_index]"
      ],
      "metadata": {
        "id": "d4Zjdkdn1clW"
      },
      "execution_count": null,
      "outputs": []
    },
    {
      "cell_type": "code",
      "source": [
        "words = pd.DataFrame(word_vectors.index_to_key)\n",
        "words.columns = ['words']\n",
        "words['vectors'] = words.words.apply(lambda x: word_vectors[f'{x}'])\n",
        "words['cluster'] = words.vectors.apply(lambda x: model.predict([np.array(x)]))\n",
        "words.cluster = words.cluster.apply(lambda x: x[0])"
      ],
      "metadata": {
        "id": "mwo-OlBp1j90"
      },
      "execution_count": null,
      "outputs": []
    },
    {
      "cell_type": "code",
      "source": [
        "words['cluster_value'] = [1 if i==positive_cluster_index else -1 for i in words.cluster]\n",
        "words['closeness_score'] = words.apply(lambda x: 1/(model.transform([x.vectors]).min()), axis=1)\n",
        "words['sentiment_coeff'] = words.closeness_score * words.cluster_value"
      ],
      "metadata": {
        "id": "E5Vezw5A1ifG"
      },
      "execution_count": null,
      "outputs": []
    },
    {
      "cell_type": "code",
      "source": [
        "words.head(10)"
      ],
      "metadata": {
        "colab": {
          "base_uri": "https://localhost:8080/",
          "height": 363
        },
        "id": "d1zFk8zO22NA",
        "outputId": "72a338d0-a74b-41d9-c0f1-75854106579b"
      },
      "execution_count": null,
      "outputs": [
        {
          "output_type": "execute_result",
          "data": {
            "text/plain": [
              "   words                                            vectors  cluster  \\\n",
              "0    and  [-0.018902617, -0.016025046, 0.08192962, 0.225...        0   \n",
              "1    the  [-0.019486343, -0.00598358, 0.08141452, 0.2230...        0   \n",
              "2     he  [-0.122766525, 0.02064336, -0.026255183, 0.077...        0   \n",
              "3     to  [-0.07120021, 0.0044230106, 0.025577711, 0.207...        0   \n",
              "4     is  [0.013042939, -0.047177877, 0.16595952, 0.2709...        0   \n",
              "5      a  [-0.09587073, 2.7234963e-05, -0.053336892, 0.1...        0   \n",
              "6    but  [-0.09706384, -0.09624026, 0.06993547, 0.11769...        0   \n",
              "7     in  [0.07894, -0.030428259, 0.13872117, 0.06471182...        0   \n",
              "8     of  [0.077635124, -0.089971475, 0.14217737, 0.0668...        0   \n",
              "9  class  [-0.010213876, 0.081063785, 0.048583798, 0.010...        0   \n",
              "\n",
              "   cluster_value  closeness_score  sentiment_coeff  \n",
              "0             -1         1.848093        -1.848093  \n",
              "1             -1         1.922713        -1.922713  \n",
              "2             -1         1.411504        -1.411504  \n",
              "3             -1         1.627083        -1.627083  \n",
              "4             -1         1.383419        -1.383419  \n",
              "5             -1         1.551909        -1.551909  \n",
              "6             -1         1.583179        -1.583179  \n",
              "7             -1         1.645129        -1.645129  \n",
              "8             -1         1.489021        -1.489021  \n",
              "9             -1         1.359725        -1.359725  "
            ],
            "text/html": [
              "\n",
              "  <div id=\"df-4e9d108b-45cb-41d5-bb3a-708bd78ae926\">\n",
              "    <div class=\"colab-df-container\">\n",
              "      <div>\n",
              "<style scoped>\n",
              "    .dataframe tbody tr th:only-of-type {\n",
              "        vertical-align: middle;\n",
              "    }\n",
              "\n",
              "    .dataframe tbody tr th {\n",
              "        vertical-align: top;\n",
              "    }\n",
              "\n",
              "    .dataframe thead th {\n",
              "        text-align: right;\n",
              "    }\n",
              "</style>\n",
              "<table border=\"1\" class=\"dataframe\">\n",
              "  <thead>\n",
              "    <tr style=\"text-align: right;\">\n",
              "      <th></th>\n",
              "      <th>words</th>\n",
              "      <th>vectors</th>\n",
              "      <th>cluster</th>\n",
              "      <th>cluster_value</th>\n",
              "      <th>closeness_score</th>\n",
              "      <th>sentiment_coeff</th>\n",
              "    </tr>\n",
              "  </thead>\n",
              "  <tbody>\n",
              "    <tr>\n",
              "      <th>0</th>\n",
              "      <td>and</td>\n",
              "      <td>[-0.018902617, -0.016025046, 0.08192962, 0.225...</td>\n",
              "      <td>0</td>\n",
              "      <td>-1</td>\n",
              "      <td>1.848093</td>\n",
              "      <td>-1.848093</td>\n",
              "    </tr>\n",
              "    <tr>\n",
              "      <th>1</th>\n",
              "      <td>the</td>\n",
              "      <td>[-0.019486343, -0.00598358, 0.08141452, 0.2230...</td>\n",
              "      <td>0</td>\n",
              "      <td>-1</td>\n",
              "      <td>1.922713</td>\n",
              "      <td>-1.922713</td>\n",
              "    </tr>\n",
              "    <tr>\n",
              "      <th>2</th>\n",
              "      <td>he</td>\n",
              "      <td>[-0.122766525, 0.02064336, -0.026255183, 0.077...</td>\n",
              "      <td>0</td>\n",
              "      <td>-1</td>\n",
              "      <td>1.411504</td>\n",
              "      <td>-1.411504</td>\n",
              "    </tr>\n",
              "    <tr>\n",
              "      <th>3</th>\n",
              "      <td>to</td>\n",
              "      <td>[-0.07120021, 0.0044230106, 0.025577711, 0.207...</td>\n",
              "      <td>0</td>\n",
              "      <td>-1</td>\n",
              "      <td>1.627083</td>\n",
              "      <td>-1.627083</td>\n",
              "    </tr>\n",
              "    <tr>\n",
              "      <th>4</th>\n",
              "      <td>is</td>\n",
              "      <td>[0.013042939, -0.047177877, 0.16595952, 0.2709...</td>\n",
              "      <td>0</td>\n",
              "      <td>-1</td>\n",
              "      <td>1.383419</td>\n",
              "      <td>-1.383419</td>\n",
              "    </tr>\n",
              "    <tr>\n",
              "      <th>5</th>\n",
              "      <td>a</td>\n",
              "      <td>[-0.09587073, 2.7234963e-05, -0.053336892, 0.1...</td>\n",
              "      <td>0</td>\n",
              "      <td>-1</td>\n",
              "      <td>1.551909</td>\n",
              "      <td>-1.551909</td>\n",
              "    </tr>\n",
              "    <tr>\n",
              "      <th>6</th>\n",
              "      <td>but</td>\n",
              "      <td>[-0.09706384, -0.09624026, 0.06993547, 0.11769...</td>\n",
              "      <td>0</td>\n",
              "      <td>-1</td>\n",
              "      <td>1.583179</td>\n",
              "      <td>-1.583179</td>\n",
              "    </tr>\n",
              "    <tr>\n",
              "      <th>7</th>\n",
              "      <td>in</td>\n",
              "      <td>[0.07894, -0.030428259, 0.13872117, 0.06471182...</td>\n",
              "      <td>0</td>\n",
              "      <td>-1</td>\n",
              "      <td>1.645129</td>\n",
              "      <td>-1.645129</td>\n",
              "    </tr>\n",
              "    <tr>\n",
              "      <th>8</th>\n",
              "      <td>of</td>\n",
              "      <td>[0.077635124, -0.089971475, 0.14217737, 0.0668...</td>\n",
              "      <td>0</td>\n",
              "      <td>-1</td>\n",
              "      <td>1.489021</td>\n",
              "      <td>-1.489021</td>\n",
              "    </tr>\n",
              "    <tr>\n",
              "      <th>9</th>\n",
              "      <td>class</td>\n",
              "      <td>[-0.010213876, 0.081063785, 0.048583798, 0.010...</td>\n",
              "      <td>0</td>\n",
              "      <td>-1</td>\n",
              "      <td>1.359725</td>\n",
              "      <td>-1.359725</td>\n",
              "    </tr>\n",
              "  </tbody>\n",
              "</table>\n",
              "</div>\n",
              "      <button class=\"colab-df-convert\" onclick=\"convertToInteractive('df-4e9d108b-45cb-41d5-bb3a-708bd78ae926')\"\n",
              "              title=\"Convert this dataframe to an interactive table.\"\n",
              "              style=\"display:none;\">\n",
              "        \n",
              "  <svg xmlns=\"http://www.w3.org/2000/svg\" height=\"24px\"viewBox=\"0 0 24 24\"\n",
              "       width=\"24px\">\n",
              "    <path d=\"M0 0h24v24H0V0z\" fill=\"none\"/>\n",
              "    <path d=\"M18.56 5.44l.94 2.06.94-2.06 2.06-.94-2.06-.94-.94-2.06-.94 2.06-2.06.94zm-11 1L8.5 8.5l.94-2.06 2.06-.94-2.06-.94L8.5 2.5l-.94 2.06-2.06.94zm10 10l.94 2.06.94-2.06 2.06-.94-2.06-.94-.94-2.06-.94 2.06-2.06.94z\"/><path d=\"M17.41 7.96l-1.37-1.37c-.4-.4-.92-.59-1.43-.59-.52 0-1.04.2-1.43.59L10.3 9.45l-7.72 7.72c-.78.78-.78 2.05 0 2.83L4 21.41c.39.39.9.59 1.41.59.51 0 1.02-.2 1.41-.59l7.78-7.78 2.81-2.81c.8-.78.8-2.07 0-2.86zM5.41 20L4 18.59l7.72-7.72 1.47 1.35L5.41 20z\"/>\n",
              "  </svg>\n",
              "      </button>\n",
              "      \n",
              "  <style>\n",
              "    .colab-df-container {\n",
              "      display:flex;\n",
              "      flex-wrap:wrap;\n",
              "      gap: 12px;\n",
              "    }\n",
              "\n",
              "    .colab-df-convert {\n",
              "      background-color: #E8F0FE;\n",
              "      border: none;\n",
              "      border-radius: 50%;\n",
              "      cursor: pointer;\n",
              "      display: none;\n",
              "      fill: #1967D2;\n",
              "      height: 32px;\n",
              "      padding: 0 0 0 0;\n",
              "      width: 32px;\n",
              "    }\n",
              "\n",
              "    .colab-df-convert:hover {\n",
              "      background-color: #E2EBFA;\n",
              "      box-shadow: 0px 1px 2px rgba(60, 64, 67, 0.3), 0px 1px 3px 1px rgba(60, 64, 67, 0.15);\n",
              "      fill: #174EA6;\n",
              "    }\n",
              "\n",
              "    [theme=dark] .colab-df-convert {\n",
              "      background-color: #3B4455;\n",
              "      fill: #D2E3FC;\n",
              "    }\n",
              "\n",
              "    [theme=dark] .colab-df-convert:hover {\n",
              "      background-color: #434B5C;\n",
              "      box-shadow: 0px 1px 3px 1px rgba(0, 0, 0, 0.15);\n",
              "      filter: drop-shadow(0px 1px 2px rgba(0, 0, 0, 0.3));\n",
              "      fill: #FFFFFF;\n",
              "    }\n",
              "  </style>\n",
              "\n",
              "      <script>\n",
              "        const buttonEl =\n",
              "          document.querySelector('#df-4e9d108b-45cb-41d5-bb3a-708bd78ae926 button.colab-df-convert');\n",
              "        buttonEl.style.display =\n",
              "          google.colab.kernel.accessAllowed ? 'block' : 'none';\n",
              "\n",
              "        async function convertToInteractive(key) {\n",
              "          const element = document.querySelector('#df-4e9d108b-45cb-41d5-bb3a-708bd78ae926');\n",
              "          const dataTable =\n",
              "            await google.colab.kernel.invokeFunction('convertToInteractive',\n",
              "                                                     [key], {});\n",
              "          if (!dataTable) return;\n",
              "\n",
              "          const docLinkHtml = 'Like what you see? Visit the ' +\n",
              "            '<a target=\"_blank\" href=https://colab.research.google.com/notebooks/data_table.ipynb>data table notebook</a>'\n",
              "            + ' to learn more about interactive tables.';\n",
              "          element.innerHTML = '';\n",
              "          dataTable['output_type'] = 'display_data';\n",
              "          await google.colab.output.renderOutput(dataTable, element);\n",
              "          const docLink = document.createElement('div');\n",
              "          docLink.innerHTML = docLinkHtml;\n",
              "          element.appendChild(docLink);\n",
              "        }\n",
              "      </script>\n",
              "    </div>\n",
              "  </div>\n",
              "  "
            ]
          },
          "metadata": {},
          "execution_count": 25
        }
      ]
    },
    {
      "cell_type": "code",
      "source": [
        "words[['words', 'sentiment_coeff']].to_csv('sentiment_dictionary.csv', index=False)"
      ],
      "metadata": {
        "id": "AT4KUHKh22E6"
      },
      "execution_count": null,
      "outputs": []
    },
    {
      "cell_type": "code",
      "source": [
        "import numpy as np\n",
        "import pandas as pd\n",
        "from IPython.display import display\n",
        "from sklearn.feature_extraction.text import TfidfVectorizer\n",
        "from sklearn.metrics import accuracy_score, confusion_matrix, precision_score, recall_score, f1_score"
      ],
      "metadata": {
        "id": "jVzuUmu63d7n"
      },
      "execution_count": null,
      "outputs": []
    },
    {
      "cell_type": "code",
      "source": [
        "final_file = pd.read_csv('cleaned_dataset.csv')"
      ],
      "metadata": {
        "id": "2OzJq5F63B-_"
      },
      "execution_count": null,
      "outputs": []
    },
    {
      "cell_type": "code",
      "source": [
        "sentiment_map = pd.read_csv('sentiment_dictionary.csv')\n",
        "sentiment_dict = dict(zip(sentiment_map.words.values, sentiment_map.sentiment_coeff.values))"
      ],
      "metadata": {
        "id": "3L4N-0O73nop"
      },
      "execution_count": null,
      "outputs": []
    },
    {
      "cell_type": "code",
      "source": [
        "file_weighting = final_file.copy()\n",
        "tfidf = TfidfVectorizer(tokenizer=lambda y: y.split(), norm=None)\n",
        "tfidf.fit(file_weighting.title)\n",
        "features = pd.Series(tfidf.get_feature_names())\n",
        "transformed = tfidf.transform(file_weighting.title)"
      ],
      "metadata": {
        "colab": {
          "base_uri": "https://localhost:8080/"
        },
        "id": "EUjiCham3rw1",
        "outputId": "ffc54d24-e196-4aa3-bee3-baf48cf74a95"
      },
      "execution_count": null,
      "outputs": [
        {
          "output_type": "stream",
          "name": "stderr",
          "text": [
            "/usr/local/lib/python3.7/dist-packages/sklearn/feature_extraction/text.py:517: UserWarning: The parameter 'token_pattern' will not be used since 'tokenizer' is not None'\n",
            "  \"The parameter 'token_pattern' will not be used\"\n",
            "/usr/local/lib/python3.7/dist-packages/sklearn/utils/deprecation.py:87: FutureWarning: Function get_feature_names is deprecated; get_feature_names is deprecated in 1.0 and will be removed in 1.2. Please use get_feature_names_out instead.\n",
            "  warnings.warn(msg, category=FutureWarning)\n"
          ]
        }
      ]
    },
    {
      "cell_type": "code",
      "source": [
        "def create_tfidf_dictionary(x, transformed_file, features):\n",
        "    '''\n",
        "    create dictionary for each input sentence x, where each word has assigned its tfidf score\n",
        "    \n",
        "    inspired  by function from this wonderful article: \n",
        "    https://medium.com/analytics-vidhya/automated-keyword-extraction-from-articles-using-nlp-bfd864f41b34\n",
        "    \n",
        "    x - row of dataframe, containing sentences, and their indexes,\n",
        "    transformed_file - all sentences transformed with TfidfVectorizer\n",
        "    features - names of all words in corpus used in TfidfVectorizer\n",
        "\n",
        "    '''\n",
        "    vector_coo = transformed_file[x.name].tocoo()\n",
        "    vector_coo.col = features.iloc[vector_coo.col].values\n",
        "    dict_from_coo = dict(zip(vector_coo.col, vector_coo.data))\n",
        "    return dict_from_coo\n",
        "\n",
        "def replace_tfidf_words(x, transformed_file, features):\n",
        "    '''\n",
        "    replacing each word with it's calculated tfidf dictionary with scores of each word\n",
        "    x - row of dataframe, containing sentences, and their indexes,\n",
        "    transformed_file - all sentences transformed with TfidfVectorizer\n",
        "    features - names of all words in corpus used in TfidfVectorizer\n",
        "    '''\n",
        "    dictionary = create_tfidf_dictionary(x, transformed_file, features)   \n",
        "    return list(map(lambda y:dictionary[f'{y}'], x.title.split()))"
      ],
      "metadata": {
        "id": "vzsfNaUg3vlE"
      },
      "execution_count": null,
      "outputs": []
    },
    {
      "cell_type": "code",
      "source": [
        "%%time\n",
        "replaced_tfidf_scores = file_weighting.apply(lambda x: replace_tfidf_words(x, transformed, features), axis=1)#this step takes around 3-4 minutes minutes "
      ],
      "metadata": {
        "colab": {
          "base_uri": "https://localhost:8080/"
        },
        "id": "L-3nsILq3z7p",
        "outputId": "27146e41-260d-4071-e081-71bd2a8de181"
      },
      "execution_count": null,
      "outputs": [
        {
          "output_type": "stream",
          "name": "stdout",
          "text": [
            "CPU times: user 59.3 ms, sys: 1.69 ms, total: 61 ms\n",
            "Wall time: 89.6 ms\n"
          ]
        }
      ]
    },
    {
      "cell_type": "code",
      "source": [
        "def replace_sentiment_words(word, sentiment_dict):\n",
        "    '''\n",
        "    replacing each word with its associated sentiment score from sentiment dict\n",
        "    '''\n",
        "    try:\n",
        "        out = sentiment_dict[word]\n",
        "    except KeyError:\n",
        "        out = 0\n",
        "    return out"
      ],
      "metadata": {
        "id": "r3kt2E5Z32hS"
      },
      "execution_count": null,
      "outputs": []
    },
    {
      "cell_type": "code",
      "source": [
        "replaced_closeness_scores = file_weighting.title.apply(lambda x: list(map(lambda y: replace_sentiment_words(y, sentiment_dict), x.split())))"
      ],
      "metadata": {
        "id": "bBextuYc35ZM"
      },
      "execution_count": null,
      "outputs": []
    },
    {
      "cell_type": "code",
      "source": [
        "replacement_df = pd.DataFrame(data=[replaced_closeness_scores, replaced_tfidf_scores, file_weighting.title, file_weighting.Prof]).T\n",
        "replacement_df.columns = ['sentiment_coeff', 'tfidf_scores', 'sentence', 'sentiment']\n",
        "replacement_df['sentiment_rate'] = replacement_df.apply(lambda x: np.array(x.loc['sentiment_coeff']) @ np.array(x.loc['tfidf_scores']), axis=1)\n",
        "replacement_df['prediction'] = (replacement_df.sentiment_rate>0).astype('int8')\n",
        "replacement_df['sentiment'] = [1 if i==1 else 0 for i in replacement_df.sentiment]"
      ],
      "metadata": {
        "id": "EJsu-agR38Kc"
      },
      "execution_count": null,
      "outputs": []
    },
    {
      "cell_type": "code",
      "source": [
        "predicted_classes = replacement_df.prediction\n",
        "y_test = replacement_df.sentiment\n",
        "\n",
        "conf_matrix = pd.DataFrame(confusion_matrix(replacement_df.sentiment, replacement_df.prediction))\n",
        "print('Confusion Matrix')\n",
        "display(conf_matrix)\n",
        "\n",
        "test_scores = accuracy_score(y_test,predicted_classes), precision_score(y_test, predicted_classes), recall_score(y_test, predicted_classes), f1_score(y_test, predicted_classes)\n",
        "\n",
        "print('\\n \\n Scores')\n",
        "scores = pd.DataFrame(data=[test_scores])\n",
        "scores.columns = ['accuracy', 'precision', 'recall', 'f1']\n",
        "scores = scores.T\n",
        "scores.columns = ['scores']\n",
        "display(scores)"
      ],
      "metadata": {
        "colab": {
          "base_uri": "https://localhost:8080/",
          "height": 374
        },
        "id": "FYiwxgWi3lq5",
        "outputId": "92ead6a2-5928-44ff-db91-71eb5bf1afd9"
      },
      "execution_count": null,
      "outputs": [
        {
          "output_type": "stream",
          "name": "stdout",
          "text": [
            "Confusion Matrix\n"
          ]
        },
        {
          "output_type": "display_data",
          "data": {
            "text/plain": [
              "    0  1\n",
              "0  83  5\n",
              "1   0  0"
            ],
            "text/html": [
              "\n",
              "  <div id=\"df-a8086c5c-1849-4454-9b05-3a763d50743e\">\n",
              "    <div class=\"colab-df-container\">\n",
              "      <div>\n",
              "<style scoped>\n",
              "    .dataframe tbody tr th:only-of-type {\n",
              "        vertical-align: middle;\n",
              "    }\n",
              "\n",
              "    .dataframe tbody tr th {\n",
              "        vertical-align: top;\n",
              "    }\n",
              "\n",
              "    .dataframe thead th {\n",
              "        text-align: right;\n",
              "    }\n",
              "</style>\n",
              "<table border=\"1\" class=\"dataframe\">\n",
              "  <thead>\n",
              "    <tr style=\"text-align: right;\">\n",
              "      <th></th>\n",
              "      <th>0</th>\n",
              "      <th>1</th>\n",
              "    </tr>\n",
              "  </thead>\n",
              "  <tbody>\n",
              "    <tr>\n",
              "      <th>0</th>\n",
              "      <td>83</td>\n",
              "      <td>5</td>\n",
              "    </tr>\n",
              "    <tr>\n",
              "      <th>1</th>\n",
              "      <td>0</td>\n",
              "      <td>0</td>\n",
              "    </tr>\n",
              "  </tbody>\n",
              "</table>\n",
              "</div>\n",
              "      <button class=\"colab-df-convert\" onclick=\"convertToInteractive('df-a8086c5c-1849-4454-9b05-3a763d50743e')\"\n",
              "              title=\"Convert this dataframe to an interactive table.\"\n",
              "              style=\"display:none;\">\n",
              "        \n",
              "  <svg xmlns=\"http://www.w3.org/2000/svg\" height=\"24px\"viewBox=\"0 0 24 24\"\n",
              "       width=\"24px\">\n",
              "    <path d=\"M0 0h24v24H0V0z\" fill=\"none\"/>\n",
              "    <path d=\"M18.56 5.44l.94 2.06.94-2.06 2.06-.94-2.06-.94-.94-2.06-.94 2.06-2.06.94zm-11 1L8.5 8.5l.94-2.06 2.06-.94-2.06-.94L8.5 2.5l-.94 2.06-2.06.94zm10 10l.94 2.06.94-2.06 2.06-.94-2.06-.94-.94-2.06-.94 2.06-2.06.94z\"/><path d=\"M17.41 7.96l-1.37-1.37c-.4-.4-.92-.59-1.43-.59-.52 0-1.04.2-1.43.59L10.3 9.45l-7.72 7.72c-.78.78-.78 2.05 0 2.83L4 21.41c.39.39.9.59 1.41.59.51 0 1.02-.2 1.41-.59l7.78-7.78 2.81-2.81c.8-.78.8-2.07 0-2.86zM5.41 20L4 18.59l7.72-7.72 1.47 1.35L5.41 20z\"/>\n",
              "  </svg>\n",
              "      </button>\n",
              "      \n",
              "  <style>\n",
              "    .colab-df-container {\n",
              "      display:flex;\n",
              "      flex-wrap:wrap;\n",
              "      gap: 12px;\n",
              "    }\n",
              "\n",
              "    .colab-df-convert {\n",
              "      background-color: #E8F0FE;\n",
              "      border: none;\n",
              "      border-radius: 50%;\n",
              "      cursor: pointer;\n",
              "      display: none;\n",
              "      fill: #1967D2;\n",
              "      height: 32px;\n",
              "      padding: 0 0 0 0;\n",
              "      width: 32px;\n",
              "    }\n",
              "\n",
              "    .colab-df-convert:hover {\n",
              "      background-color: #E2EBFA;\n",
              "      box-shadow: 0px 1px 2px rgba(60, 64, 67, 0.3), 0px 1px 3px 1px rgba(60, 64, 67, 0.15);\n",
              "      fill: #174EA6;\n",
              "    }\n",
              "\n",
              "    [theme=dark] .colab-df-convert {\n",
              "      background-color: #3B4455;\n",
              "      fill: #D2E3FC;\n",
              "    }\n",
              "\n",
              "    [theme=dark] .colab-df-convert:hover {\n",
              "      background-color: #434B5C;\n",
              "      box-shadow: 0px 1px 3px 1px rgba(0, 0, 0, 0.15);\n",
              "      filter: drop-shadow(0px 1px 2px rgba(0, 0, 0, 0.3));\n",
              "      fill: #FFFFFF;\n",
              "    }\n",
              "  </style>\n",
              "\n",
              "      <script>\n",
              "        const buttonEl =\n",
              "          document.querySelector('#df-a8086c5c-1849-4454-9b05-3a763d50743e button.colab-df-convert');\n",
              "        buttonEl.style.display =\n",
              "          google.colab.kernel.accessAllowed ? 'block' : 'none';\n",
              "\n",
              "        async function convertToInteractive(key) {\n",
              "          const element = document.querySelector('#df-a8086c5c-1849-4454-9b05-3a763d50743e');\n",
              "          const dataTable =\n",
              "            await google.colab.kernel.invokeFunction('convertToInteractive',\n",
              "                                                     [key], {});\n",
              "          if (!dataTable) return;\n",
              "\n",
              "          const docLinkHtml = 'Like what you see? Visit the ' +\n",
              "            '<a target=\"_blank\" href=https://colab.research.google.com/notebooks/data_table.ipynb>data table notebook</a>'\n",
              "            + ' to learn more about interactive tables.';\n",
              "          element.innerHTML = '';\n",
              "          dataTable['output_type'] = 'display_data';\n",
              "          await google.colab.output.renderOutput(dataTable, element);\n",
              "          const docLink = document.createElement('div');\n",
              "          docLink.innerHTML = docLinkHtml;\n",
              "          element.appendChild(docLink);\n",
              "        }\n",
              "      </script>\n",
              "    </div>\n",
              "  </div>\n",
              "  "
            ]
          },
          "metadata": {}
        },
        {
          "output_type": "stream",
          "name": "stdout",
          "text": [
            "\n",
            " \n",
            " Scores\n"
          ]
        },
        {
          "output_type": "stream",
          "name": "stderr",
          "text": [
            "/usr/local/lib/python3.7/dist-packages/sklearn/metrics/_classification.py:1318: UndefinedMetricWarning: Recall is ill-defined and being set to 0.0 due to no true samples. Use `zero_division` parameter to control this behavior.\n",
            "  _warn_prf(average, modifier, msg_start, len(result))\n"
          ]
        },
        {
          "output_type": "display_data",
          "data": {
            "text/plain": [
              "             scores\n",
              "accuracy   0.943182\n",
              "precision  0.000000\n",
              "recall     0.000000\n",
              "f1         0.000000"
            ],
            "text/html": [
              "\n",
              "  <div id=\"df-9b137611-d53a-4195-8929-82525b05eda1\">\n",
              "    <div class=\"colab-df-container\">\n",
              "      <div>\n",
              "<style scoped>\n",
              "    .dataframe tbody tr th:only-of-type {\n",
              "        vertical-align: middle;\n",
              "    }\n",
              "\n",
              "    .dataframe tbody tr th {\n",
              "        vertical-align: top;\n",
              "    }\n",
              "\n",
              "    .dataframe thead th {\n",
              "        text-align: right;\n",
              "    }\n",
              "</style>\n",
              "<table border=\"1\" class=\"dataframe\">\n",
              "  <thead>\n",
              "    <tr style=\"text-align: right;\">\n",
              "      <th></th>\n",
              "      <th>scores</th>\n",
              "    </tr>\n",
              "  </thead>\n",
              "  <tbody>\n",
              "    <tr>\n",
              "      <th>accuracy</th>\n",
              "      <td>0.943182</td>\n",
              "    </tr>\n",
              "    <tr>\n",
              "      <th>precision</th>\n",
              "      <td>0.000000</td>\n",
              "    </tr>\n",
              "    <tr>\n",
              "      <th>recall</th>\n",
              "      <td>0.000000</td>\n",
              "    </tr>\n",
              "    <tr>\n",
              "      <th>f1</th>\n",
              "      <td>0.000000</td>\n",
              "    </tr>\n",
              "  </tbody>\n",
              "</table>\n",
              "</div>\n",
              "      <button class=\"colab-df-convert\" onclick=\"convertToInteractive('df-9b137611-d53a-4195-8929-82525b05eda1')\"\n",
              "              title=\"Convert this dataframe to an interactive table.\"\n",
              "              style=\"display:none;\">\n",
              "        \n",
              "  <svg xmlns=\"http://www.w3.org/2000/svg\" height=\"24px\"viewBox=\"0 0 24 24\"\n",
              "       width=\"24px\">\n",
              "    <path d=\"M0 0h24v24H0V0z\" fill=\"none\"/>\n",
              "    <path d=\"M18.56 5.44l.94 2.06.94-2.06 2.06-.94-2.06-.94-.94-2.06-.94 2.06-2.06.94zm-11 1L8.5 8.5l.94-2.06 2.06-.94-2.06-.94L8.5 2.5l-.94 2.06-2.06.94zm10 10l.94 2.06.94-2.06 2.06-.94-2.06-.94-.94-2.06-.94 2.06-2.06.94z\"/><path d=\"M17.41 7.96l-1.37-1.37c-.4-.4-.92-.59-1.43-.59-.52 0-1.04.2-1.43.59L10.3 9.45l-7.72 7.72c-.78.78-.78 2.05 0 2.83L4 21.41c.39.39.9.59 1.41.59.51 0 1.02-.2 1.41-.59l7.78-7.78 2.81-2.81c.8-.78.8-2.07 0-2.86zM5.41 20L4 18.59l7.72-7.72 1.47 1.35L5.41 20z\"/>\n",
              "  </svg>\n",
              "      </button>\n",
              "      \n",
              "  <style>\n",
              "    .colab-df-container {\n",
              "      display:flex;\n",
              "      flex-wrap:wrap;\n",
              "      gap: 12px;\n",
              "    }\n",
              "\n",
              "    .colab-df-convert {\n",
              "      background-color: #E8F0FE;\n",
              "      border: none;\n",
              "      border-radius: 50%;\n",
              "      cursor: pointer;\n",
              "      display: none;\n",
              "      fill: #1967D2;\n",
              "      height: 32px;\n",
              "      padding: 0 0 0 0;\n",
              "      width: 32px;\n",
              "    }\n",
              "\n",
              "    .colab-df-convert:hover {\n",
              "      background-color: #E2EBFA;\n",
              "      box-shadow: 0px 1px 2px rgba(60, 64, 67, 0.3), 0px 1px 3px 1px rgba(60, 64, 67, 0.15);\n",
              "      fill: #174EA6;\n",
              "    }\n",
              "\n",
              "    [theme=dark] .colab-df-convert {\n",
              "      background-color: #3B4455;\n",
              "      fill: #D2E3FC;\n",
              "    }\n",
              "\n",
              "    [theme=dark] .colab-df-convert:hover {\n",
              "      background-color: #434B5C;\n",
              "      box-shadow: 0px 1px 3px 1px rgba(0, 0, 0, 0.15);\n",
              "      filter: drop-shadow(0px 1px 2px rgba(0, 0, 0, 0.3));\n",
              "      fill: #FFFFFF;\n",
              "    }\n",
              "  </style>\n",
              "\n",
              "      <script>\n",
              "        const buttonEl =\n",
              "          document.querySelector('#df-9b137611-d53a-4195-8929-82525b05eda1 button.colab-df-convert');\n",
              "        buttonEl.style.display =\n",
              "          google.colab.kernel.accessAllowed ? 'block' : 'none';\n",
              "\n",
              "        async function convertToInteractive(key) {\n",
              "          const element = document.querySelector('#df-9b137611-d53a-4195-8929-82525b05eda1');\n",
              "          const dataTable =\n",
              "            await google.colab.kernel.invokeFunction('convertToInteractive',\n",
              "                                                     [key], {});\n",
              "          if (!dataTable) return;\n",
              "\n",
              "          const docLinkHtml = 'Like what you see? Visit the ' +\n",
              "            '<a target=\"_blank\" href=https://colab.research.google.com/notebooks/data_table.ipynb>data table notebook</a>'\n",
              "            + ' to learn more about interactive tables.';\n",
              "          element.innerHTML = '';\n",
              "          dataTable['output_type'] = 'display_data';\n",
              "          await google.colab.output.renderOutput(dataTable, element);\n",
              "          const docLink = document.createElement('div');\n",
              "          docLink.innerHTML = docLinkHtml;\n",
              "          element.appendChild(docLink);\n",
              "        }\n",
              "      </script>\n",
              "    </div>\n",
              "  </div>\n",
              "  "
            ]
          },
          "metadata": {}
        }
      ]
    },
    {
      "cell_type": "code",
      "source": [],
      "metadata": {
        "id": "aa4OY2Um0R8_"
      },
      "execution_count": null,
      "outputs": []
    },
    {
      "cell_type": "code",
      "source": [],
      "metadata": {
        "id": "i1_QvW_jSb7Y"
      },
      "execution_count": null,
      "outputs": []
    },
    {
      "cell_type": "code",
      "source": [],
      "metadata": {
        "id": "FQMh0U835cKt"
      },
      "execution_count": null,
      "outputs": []
    },
    {
      "cell_type": "code",
      "source": [],
      "metadata": {
        "id": "nRZCs6WJ5b-_"
      },
      "execution_count": null,
      "outputs": []
    },
    {
      "cell_type": "code",
      "source": [
        "import numpy as np # linear algebra\n",
        "import pandas as pd # data processing, CSV file I/O (e.g. pd.read_csv)\n",
        "from tqdm import tqdm\n",
        "from sklearn.model_selection import train_test_split\n",
        "import tensorflow as tf\n",
        "from keras.models import Sequential\n",
        "from keras.layers.recurrent import LSTM, GRU,SimpleRNN\n",
        "from keras.layers.core import Dense, Activation, Dropout\n",
        "from keras.layers.embeddings import Embedding\n",
        "from tensorflow.keras.layers import BatchNormalization\n",
        "from keras.utils import np_utils\n",
        "from sklearn import preprocessing, decomposition, model_selection, metrics, pipeline\n",
        "from keras.layers import GlobalMaxPooling1D, Conv1D, MaxPooling1D, Flatten, Bidirectional, SpatialDropout1D\n",
        "from keras.preprocessing import sequence, text\n",
        "from keras.callbacks import EarlyStopping\n",
        "\n",
        "import matplotlib.pyplot as plt\n",
        "import seaborn as sns\n",
        "%matplotlib inline\n",
        "from plotly import graph_objs as go\n",
        "import plotly.express as ex\n",
        "import plotly.figure_factory as ff"
      ],
      "metadata": {
        "id": "lOwfAUOh5bxc"
      },
      "execution_count": null,
      "outputs": []
    },
    {
      "cell_type": "code",
      "source": [],
      "metadata": {
        "id": "VsNu1VKD7eBd"
      },
      "execution_count": null,
      "outputs": []
    },
    {
      "cell_type": "code",
      "source": [],
      "metadata": {
        "id": "ChM24GWc7dQO"
      },
      "execution_count": null,
      "outputs": []
    },
    {
      "cell_type": "code",
      "source": [],
      "metadata": {
        "id": "RWw1cMLG5bnX"
      },
      "execution_count": null,
      "outputs": []
    },
    {
      "cell_type": "code",
      "source": [],
      "metadata": {
        "id": "RNws-njNKPuu"
      },
      "execution_count": null,
      "outputs": []
    },
    {
      "cell_type": "code",
      "source": [
        "df_review.head()"
      ],
      "metadata": {
        "colab": {
          "base_uri": "https://localhost:8080/",
          "height": 206
        },
        "id": "tT7vpaRQJOoR",
        "outputId": "15917443-a532-44eb-d0d1-308a9230eff2"
      },
      "execution_count": null,
      "outputs": [
        {
          "output_type": "execute_result",
          "data": {
            "text/plain": [
              "          Prof                                             Review\n",
              "0  Yingjun Cao  He's teaching at a very fast pace and this cla...\n",
              "1  Yingjun Cao  One of my favorite professors in UCSD. His CSE...\n",
              "2  Yingjun Cao  One of the best CSE profs I've had so far. His...\n",
              "3  Yingjun Cao                My favorite CSE professor at UCSD. \n",
              "4  Yingjun Cao  Coding is awful. The prof is cool but why assi..."
            ],
            "text/html": [
              "\n",
              "  <div id=\"df-52b30011-87b4-4c37-b7d2-1d2115c22474\">\n",
              "    <div class=\"colab-df-container\">\n",
              "      <div>\n",
              "<style scoped>\n",
              "    .dataframe tbody tr th:only-of-type {\n",
              "        vertical-align: middle;\n",
              "    }\n",
              "\n",
              "    .dataframe tbody tr th {\n",
              "        vertical-align: top;\n",
              "    }\n",
              "\n",
              "    .dataframe thead th {\n",
              "        text-align: right;\n",
              "    }\n",
              "</style>\n",
              "<table border=\"1\" class=\"dataframe\">\n",
              "  <thead>\n",
              "    <tr style=\"text-align: right;\">\n",
              "      <th></th>\n",
              "      <th>Prof</th>\n",
              "      <th>Review</th>\n",
              "    </tr>\n",
              "  </thead>\n",
              "  <tbody>\n",
              "    <tr>\n",
              "      <th>0</th>\n",
              "      <td>Yingjun Cao</td>\n",
              "      <td>He's teaching at a very fast pace and this cla...</td>\n",
              "    </tr>\n",
              "    <tr>\n",
              "      <th>1</th>\n",
              "      <td>Yingjun Cao</td>\n",
              "      <td>One of my favorite professors in UCSD. His CSE...</td>\n",
              "    </tr>\n",
              "    <tr>\n",
              "      <th>2</th>\n",
              "      <td>Yingjun Cao</td>\n",
              "      <td>One of the best CSE profs I've had so far. His...</td>\n",
              "    </tr>\n",
              "    <tr>\n",
              "      <th>3</th>\n",
              "      <td>Yingjun Cao</td>\n",
              "      <td>My favorite CSE professor at UCSD.</td>\n",
              "    </tr>\n",
              "    <tr>\n",
              "      <th>4</th>\n",
              "      <td>Yingjun Cao</td>\n",
              "      <td>Coding is awful. The prof is cool but why assi...</td>\n",
              "    </tr>\n",
              "  </tbody>\n",
              "</table>\n",
              "</div>\n",
              "      <button class=\"colab-df-convert\" onclick=\"convertToInteractive('df-52b30011-87b4-4c37-b7d2-1d2115c22474')\"\n",
              "              title=\"Convert this dataframe to an interactive table.\"\n",
              "              style=\"display:none;\">\n",
              "        \n",
              "  <svg xmlns=\"http://www.w3.org/2000/svg\" height=\"24px\"viewBox=\"0 0 24 24\"\n",
              "       width=\"24px\">\n",
              "    <path d=\"M0 0h24v24H0V0z\" fill=\"none\"/>\n",
              "    <path d=\"M18.56 5.44l.94 2.06.94-2.06 2.06-.94-2.06-.94-.94-2.06-.94 2.06-2.06.94zm-11 1L8.5 8.5l.94-2.06 2.06-.94-2.06-.94L8.5 2.5l-.94 2.06-2.06.94zm10 10l.94 2.06.94-2.06 2.06-.94-2.06-.94-.94-2.06-.94 2.06-2.06.94z\"/><path d=\"M17.41 7.96l-1.37-1.37c-.4-.4-.92-.59-1.43-.59-.52 0-1.04.2-1.43.59L10.3 9.45l-7.72 7.72c-.78.78-.78 2.05 0 2.83L4 21.41c.39.39.9.59 1.41.59.51 0 1.02-.2 1.41-.59l7.78-7.78 2.81-2.81c.8-.78.8-2.07 0-2.86zM5.41 20L4 18.59l7.72-7.72 1.47 1.35L5.41 20z\"/>\n",
              "  </svg>\n",
              "      </button>\n",
              "      \n",
              "  <style>\n",
              "    .colab-df-container {\n",
              "      display:flex;\n",
              "      flex-wrap:wrap;\n",
              "      gap: 12px;\n",
              "    }\n",
              "\n",
              "    .colab-df-convert {\n",
              "      background-color: #E8F0FE;\n",
              "      border: none;\n",
              "      border-radius: 50%;\n",
              "      cursor: pointer;\n",
              "      display: none;\n",
              "      fill: #1967D2;\n",
              "      height: 32px;\n",
              "      padding: 0 0 0 0;\n",
              "      width: 32px;\n",
              "    }\n",
              "\n",
              "    .colab-df-convert:hover {\n",
              "      background-color: #E2EBFA;\n",
              "      box-shadow: 0px 1px 2px rgba(60, 64, 67, 0.3), 0px 1px 3px 1px rgba(60, 64, 67, 0.15);\n",
              "      fill: #174EA6;\n",
              "    }\n",
              "\n",
              "    [theme=dark] .colab-df-convert {\n",
              "      background-color: #3B4455;\n",
              "      fill: #D2E3FC;\n",
              "    }\n",
              "\n",
              "    [theme=dark] .colab-df-convert:hover {\n",
              "      background-color: #434B5C;\n",
              "      box-shadow: 0px 1px 3px 1px rgba(0, 0, 0, 0.15);\n",
              "      filter: drop-shadow(0px 1px 2px rgba(0, 0, 0, 0.3));\n",
              "      fill: #FFFFFF;\n",
              "    }\n",
              "  </style>\n",
              "\n",
              "      <script>\n",
              "        const buttonEl =\n",
              "          document.querySelector('#df-52b30011-87b4-4c37-b7d2-1d2115c22474 button.colab-df-convert');\n",
              "        buttonEl.style.display =\n",
              "          google.colab.kernel.accessAllowed ? 'block' : 'none';\n",
              "\n",
              "        async function convertToInteractive(key) {\n",
              "          const element = document.querySelector('#df-52b30011-87b4-4c37-b7d2-1d2115c22474');\n",
              "          const dataTable =\n",
              "            await google.colab.kernel.invokeFunction('convertToInteractive',\n",
              "                                                     [key], {});\n",
              "          if (!dataTable) return;\n",
              "\n",
              "          const docLinkHtml = 'Like what you see? Visit the ' +\n",
              "            '<a target=\"_blank\" href=https://colab.research.google.com/notebooks/data_table.ipynb>data table notebook</a>'\n",
              "            + ' to learn more about interactive tables.';\n",
              "          element.innerHTML = '';\n",
              "          dataTable['output_type'] = 'display_data';\n",
              "          await google.colab.output.renderOutput(dataTable, element);\n",
              "          const docLink = document.createElement('div');\n",
              "          docLink.innerHTML = docLinkHtml;\n",
              "          element.appendChild(docLink);\n",
              "        }\n",
              "      </script>\n",
              "    </div>\n",
              "  </div>\n",
              "  "
            ]
          },
          "metadata": {},
          "execution_count": 43
        }
      ]
    },
    {
      "cell_type": "code",
      "source": [
        "import string\n",
        "\n",
        "def clean_text(text):\n",
        "    text = text.lower()\n",
        "    text = text.translate(str.maketrans('', '', string.punctuation))\n",
        "    text = text.replace('\\n', ' ')\n",
        "    text = ' '.join(text.split())  # remove multiple whitespaces\n",
        "    return text"
      ],
      "metadata": {
        "id": "Em5y5YBzGJqo"
      },
      "execution_count": null,
      "outputs": []
    },
    {
      "cell_type": "code",
      "source": [
        "doc = df_review['Review'][1]"
      ],
      "metadata": {
        "id": "xbf0b_HSJXGc"
      },
      "execution_count": null,
      "outputs": []
    },
    {
      "cell_type": "code",
      "source": [
        "doc = clean_text(doc)\n",
        "print(doc)"
      ],
      "metadata": {
        "colab": {
          "base_uri": "https://localhost:8080/"
        },
        "id": "rPIa6rt0JSd9",
        "outputId": "00b39750-056f-4bd8-bbf8-a24b5c934fb6"
      },
      "execution_count": null,
      "outputs": [
        {
          "output_type": "stream",
          "name": "stdout",
          "text": [
            "one of my favorite professors in ucsd his cse 11 12 and 100 are somewhat harder than other professors but doable you would learn a lot\n"
          ]
        }
      ]
    },
    {
      "cell_type": "code",
      "source": [
        "import spacy.cli\n",
        "spacy.cli.download(\"en_core_web_lg\")\n",
        "nlp = spacy.load(\"en_core_web_lg\")"
      ],
      "metadata": {
        "colab": {
          "base_uri": "https://localhost:8080/"
        },
        "id": "yeCOhekKKQUe",
        "outputId": "560b5b9d-b7a8-4eea-a922-5a6e142a7718"
      },
      "execution_count": null,
      "outputs": [
        {
          "output_type": "stream",
          "name": "stdout",
          "text": [
            "\u001b[38;5;2m✔ Download and installation successful\u001b[0m\n",
            "You can now load the package via spacy.load('en_core_web_lg')\n"
          ]
        }
      ]
    },
    {
      "cell_type": "code",
      "source": [
        "import numpy as np\n",
        "\n",
        "def embed(tokens, nlp):\n",
        "    \"\"\"Return the centroid of the embeddings for the given tokens.\n",
        "\n",
        "    Out-of-vocabulary tokens are cast aside. Stop words are also\n",
        "    discarded. An array of 0s is returned if none of the tokens\n",
        "    are valid.\n",
        "\n",
        "    \"\"\"\n",
        "\n",
        "    lexemes = (nlp.vocab[token] for token in tokens)\n",
        "\n",
        "    vectors = np.asarray([\n",
        "        lexeme.vector\n",
        "        for lexeme in lexemes\n",
        "        if lexeme.has_vector\n",
        "        and not lexeme.is_stop\n",
        "        and len(lexeme.text) > 1\n",
        "    ])\n",
        "\n",
        "    if len(vectors) > 0:\n",
        "        centroid = vectors.mean(axis=0)\n",
        "    else:\n",
        "        width = nlp.meta['vectors']['width']  # typically 300\n",
        "        centroid = np.zeros(width)\n",
        "\n",
        "    return centroid"
      ],
      "metadata": {
        "id": "7A7cyTcxKU-2"
      },
      "execution_count": null,
      "outputs": []
    },
    {
      "cell_type": "code",
      "source": [
        "tokens = doc.split(' ')\n",
        "centroid = embed(tokens, nlp)"
      ],
      "metadata": {
        "id": "BXI5F6l9Kc6w"
      },
      "execution_count": null,
      "outputs": []
    },
    {
      "cell_type": "code",
      "source": [
        "centroid.shape"
      ],
      "metadata": {
        "colab": {
          "base_uri": "https://localhost:8080/"
        },
        "id": "rTeSXsbchXJT",
        "outputId": "31af5d28-5abf-4de9-dba2-8e6558fdd86c"
      },
      "execution_count": null,
      "outputs": [
        {
          "output_type": "execute_result",
          "data": {
            "text/plain": [
              "(300,)"
            ]
          },
          "metadata": {},
          "execution_count": 26
        }
      ]
    },
    {
      "cell_type": "code",
      "source": [
        "centroid[:10]"
      ],
      "metadata": {
        "colab": {
          "base_uri": "https://localhost:8080/"
        },
        "id": "tn_kYrzwhaGE",
        "outputId": "285d4844-87f7-4f57-abb2-1dcf32da9c56"
      },
      "execution_count": null,
      "outputs": [
        {
          "output_type": "execute_result",
          "data": {
            "text/plain": [
              "array([-0.70503813, -2.9475098 , -1.7201401 ,  0.16651316,  2.441921  ,\n",
              "       -0.38545   ,  1.8554425 ,  2.8282168 , -2.5114374 , -1.5076915 ],\n",
              "      dtype=float32)"
            ]
          },
          "metadata": {},
          "execution_count": 27
        }
      ]
    },
    {
      "cell_type": "code",
      "source": [
        "label_names = ['upset', 'happy', 'neutral', 'satisfied', 'dissatisfied']"
      ],
      "metadata": {
        "id": "b10uTDaFhsoo"
      },
      "execution_count": null,
      "outputs": []
    },
    {
      "cell_type": "code",
      "source": [
        "label_vectors = np.asarray([embed(label.split(' '), nlp)for label in label_names])"
      ],
      "metadata": {
        "id": "hXpFQMtpJLhB"
      },
      "execution_count": null,
      "outputs": []
    },
    {
      "cell_type": "code",
      "source": [
        "label_vectors.shape"
      ],
      "metadata": {
        "colab": {
          "base_uri": "https://localhost:8080/"
        },
        "id": "_-LqFPkoiAs6",
        "outputId": "8391f50d-177d-4ade-eee3-6bc5c098cafe"
      },
      "execution_count": null,
      "outputs": [
        {
          "output_type": "execute_result",
          "data": {
            "text/plain": [
              "(5, 300)"
            ]
          },
          "metadata": {},
          "execution_count": 30
        }
      ]
    },
    {
      "cell_type": "code",
      "source": [
        "from sklearn.neighbors import NearestNeighbors\n",
        "\n",
        "neigh = NearestNeighbors(n_neighbors=1)\n",
        "neigh.fit(label_vectors)\n",
        "\n",
        "closest_label = neigh.kneighbors([centroid], return_distance=False)[0, 0]\n",
        "label_names[closest_label]"
      ],
      "metadata": {
        "colab": {
          "base_uri": "https://localhost:8080/",
          "height": 35
        },
        "id": "Nt61VTG5iGiC",
        "outputId": "bdadaa8e-b784-4071-f535-89bbb7a5fec9"
      },
      "execution_count": null,
      "outputs": [
        {
          "output_type": "execute_result",
          "data": {
            "text/plain": [
              "'dissatisfied'"
            ],
            "application/vnd.google.colaboratory.intrinsic+json": {
              "type": "string"
            }
          },
          "metadata": {},
          "execution_count": 31
        }
      ]
    },
    {
      "cell_type": "code",
      "source": [
        "def predict(doc, nlp, neigh):\n",
        "    doc = clean_text(doc)\n",
        "    tokens = doc.split(' ')[:50]\n",
        "    centroid = embed(tokens, nlp)\n",
        "    closest_label = neigh.kneighbors([centroid], return_distance=False)[0][0]\n",
        "    return closest_label"
      ],
      "metadata": {
        "id": "prxBwi2Fjh64"
      },
      "execution_count": null,
      "outputs": []
    },
    {
      "cell_type": "code",
      "source": [
        "from scipy import spatial\n",
        "\n",
        "neigh = NearestNeighbors(n_neighbors=1, metric=spatial.distance.cosine)\n",
        "neigh.fit(label_vectors)\n",
        "\n",
        "preds = [label_names[predict(doc, nlp, neigh)] for doc in df_review['Review']]\n",
        "preds"
      ],
      "metadata": {
        "colab": {
          "base_uri": "https://localhost:8080/"
        },
        "id": "BmQ_vXyhjKy4",
        "outputId": "a9f66142-2e09-49d0-ed4f-857729693487"
      },
      "execution_count": null,
      "outputs": [
        {
          "output_type": "execute_result",
          "data": {
            "text/plain": [
              "['satisfied',\n",
              " 'satisfied',\n",
              " 'satisfied',\n",
              " 'happy',\n",
              " 'satisfied',\n",
              " 'dissatisfied',\n",
              " 'satisfied',\n",
              " 'satisfied',\n",
              " 'satisfied',\n",
              " 'satisfied',\n",
              " 'satisfied',\n",
              " 'dissatisfied',\n",
              " 'satisfied',\n",
              " 'satisfied',\n",
              " 'satisfied',\n",
              " 'neutral',\n",
              " 'happy',\n",
              " 'happy',\n",
              " 'satisfied',\n",
              " 'satisfied',\n",
              " 'satisfied',\n",
              " 'satisfied',\n",
              " 'satisfied',\n",
              " 'satisfied',\n",
              " 'satisfied',\n",
              " 'satisfied',\n",
              " 'satisfied',\n",
              " 'satisfied',\n",
              " 'satisfied',\n",
              " 'happy',\n",
              " 'dissatisfied',\n",
              " 'satisfied',\n",
              " 'satisfied',\n",
              " 'satisfied',\n",
              " 'satisfied',\n",
              " 'satisfied',\n",
              " 'dissatisfied',\n",
              " 'happy',\n",
              " 'satisfied',\n",
              " 'satisfied',\n",
              " 'satisfied',\n",
              " 'satisfied',\n",
              " 'satisfied',\n",
              " 'satisfied',\n",
              " 'satisfied',\n",
              " 'satisfied',\n",
              " 'satisfied',\n",
              " 'happy',\n",
              " 'satisfied',\n",
              " 'satisfied',\n",
              " 'satisfied',\n",
              " 'satisfied',\n",
              " 'satisfied',\n",
              " 'satisfied',\n",
              " 'satisfied',\n",
              " 'satisfied',\n",
              " 'satisfied',\n",
              " 'happy',\n",
              " 'satisfied',\n",
              " 'satisfied',\n",
              " 'satisfied',\n",
              " 'satisfied',\n",
              " 'dissatisfied',\n",
              " 'satisfied',\n",
              " 'satisfied',\n",
              " 'satisfied',\n",
              " 'satisfied',\n",
              " 'dissatisfied',\n",
              " 'satisfied',\n",
              " 'satisfied',\n",
              " 'happy',\n",
              " 'happy',\n",
              " 'satisfied',\n",
              " 'happy',\n",
              " 'happy',\n",
              " 'satisfied',\n",
              " 'satisfied',\n",
              " 'satisfied',\n",
              " 'satisfied',\n",
              " 'satisfied',\n",
              " 'happy',\n",
              " 'satisfied',\n",
              " 'satisfied',\n",
              " 'satisfied',\n",
              " 'happy',\n",
              " 'satisfied',\n",
              " 'satisfied',\n",
              " 'satisfied']"
            ]
          },
          "metadata": {},
          "execution_count": 36
        }
      ]
    },
    {
      "cell_type": "code",
      "source": [
        "results = pd.DataFrame()\n",
        "results['Review'] = df_review['Review']\n",
        "results['Class'] = pd.Series(preds)\n",
        "results.head()"
      ],
      "metadata": {
        "colab": {
          "base_uri": "https://localhost:8080/",
          "height": 206
        },
        "id": "T3SDp22yjkLf",
        "outputId": "731c36c6-2cba-4ce8-d210-c93cdf2cc602"
      },
      "execution_count": null,
      "outputs": [
        {
          "output_type": "execute_result",
          "data": {
            "text/plain": [
              "                                              Review      Class\n",
              "0  He's teaching at a very fast pace and this cla...  satisfied\n",
              "1  One of my favorite professors in UCSD. His CSE...  satisfied\n",
              "2  One of the best CSE profs I've had so far. His...  satisfied\n",
              "3                My favorite CSE professor at UCSD.       happy\n",
              "4  Coding is awful. The prof is cool but why assi...  satisfied"
            ],
            "text/html": [
              "\n",
              "  <div id=\"df-5ec314a6-90b9-40f6-a5af-cdc61c1480a8\">\n",
              "    <div class=\"colab-df-container\">\n",
              "      <div>\n",
              "<style scoped>\n",
              "    .dataframe tbody tr th:only-of-type {\n",
              "        vertical-align: middle;\n",
              "    }\n",
              "\n",
              "    .dataframe tbody tr th {\n",
              "        vertical-align: top;\n",
              "    }\n",
              "\n",
              "    .dataframe thead th {\n",
              "        text-align: right;\n",
              "    }\n",
              "</style>\n",
              "<table border=\"1\" class=\"dataframe\">\n",
              "  <thead>\n",
              "    <tr style=\"text-align: right;\">\n",
              "      <th></th>\n",
              "      <th>Review</th>\n",
              "      <th>Class</th>\n",
              "    </tr>\n",
              "  </thead>\n",
              "  <tbody>\n",
              "    <tr>\n",
              "      <th>0</th>\n",
              "      <td>He's teaching at a very fast pace and this cla...</td>\n",
              "      <td>satisfied</td>\n",
              "    </tr>\n",
              "    <tr>\n",
              "      <th>1</th>\n",
              "      <td>One of my favorite professors in UCSD. His CSE...</td>\n",
              "      <td>satisfied</td>\n",
              "    </tr>\n",
              "    <tr>\n",
              "      <th>2</th>\n",
              "      <td>One of the best CSE profs I've had so far. His...</td>\n",
              "      <td>satisfied</td>\n",
              "    </tr>\n",
              "    <tr>\n",
              "      <th>3</th>\n",
              "      <td>My favorite CSE professor at UCSD.</td>\n",
              "      <td>happy</td>\n",
              "    </tr>\n",
              "    <tr>\n",
              "      <th>4</th>\n",
              "      <td>Coding is awful. The prof is cool but why assi...</td>\n",
              "      <td>satisfied</td>\n",
              "    </tr>\n",
              "  </tbody>\n",
              "</table>\n",
              "</div>\n",
              "      <button class=\"colab-df-convert\" onclick=\"convertToInteractive('df-5ec314a6-90b9-40f6-a5af-cdc61c1480a8')\"\n",
              "              title=\"Convert this dataframe to an interactive table.\"\n",
              "              style=\"display:none;\">\n",
              "        \n",
              "  <svg xmlns=\"http://www.w3.org/2000/svg\" height=\"24px\"viewBox=\"0 0 24 24\"\n",
              "       width=\"24px\">\n",
              "    <path d=\"M0 0h24v24H0V0z\" fill=\"none\"/>\n",
              "    <path d=\"M18.56 5.44l.94 2.06.94-2.06 2.06-.94-2.06-.94-.94-2.06-.94 2.06-2.06.94zm-11 1L8.5 8.5l.94-2.06 2.06-.94-2.06-.94L8.5 2.5l-.94 2.06-2.06.94zm10 10l.94 2.06.94-2.06 2.06-.94-2.06-.94-.94-2.06-.94 2.06-2.06.94z\"/><path d=\"M17.41 7.96l-1.37-1.37c-.4-.4-.92-.59-1.43-.59-.52 0-1.04.2-1.43.59L10.3 9.45l-7.72 7.72c-.78.78-.78 2.05 0 2.83L4 21.41c.39.39.9.59 1.41.59.51 0 1.02-.2 1.41-.59l7.78-7.78 2.81-2.81c.8-.78.8-2.07 0-2.86zM5.41 20L4 18.59l7.72-7.72 1.47 1.35L5.41 20z\"/>\n",
              "  </svg>\n",
              "      </button>\n",
              "      \n",
              "  <style>\n",
              "    .colab-df-container {\n",
              "      display:flex;\n",
              "      flex-wrap:wrap;\n",
              "      gap: 12px;\n",
              "    }\n",
              "\n",
              "    .colab-df-convert {\n",
              "      background-color: #E8F0FE;\n",
              "      border: none;\n",
              "      border-radius: 50%;\n",
              "      cursor: pointer;\n",
              "      display: none;\n",
              "      fill: #1967D2;\n",
              "      height: 32px;\n",
              "      padding: 0 0 0 0;\n",
              "      width: 32px;\n",
              "    }\n",
              "\n",
              "    .colab-df-convert:hover {\n",
              "      background-color: #E2EBFA;\n",
              "      box-shadow: 0px 1px 2px rgba(60, 64, 67, 0.3), 0px 1px 3px 1px rgba(60, 64, 67, 0.15);\n",
              "      fill: #174EA6;\n",
              "    }\n",
              "\n",
              "    [theme=dark] .colab-df-convert {\n",
              "      background-color: #3B4455;\n",
              "      fill: #D2E3FC;\n",
              "    }\n",
              "\n",
              "    [theme=dark] .colab-df-convert:hover {\n",
              "      background-color: #434B5C;\n",
              "      box-shadow: 0px 1px 3px 1px rgba(0, 0, 0, 0.15);\n",
              "      filter: drop-shadow(0px 1px 2px rgba(0, 0, 0, 0.3));\n",
              "      fill: #FFFFFF;\n",
              "    }\n",
              "  </style>\n",
              "\n",
              "      <script>\n",
              "        const buttonEl =\n",
              "          document.querySelector('#df-5ec314a6-90b9-40f6-a5af-cdc61c1480a8 button.colab-df-convert');\n",
              "        buttonEl.style.display =\n",
              "          google.colab.kernel.accessAllowed ? 'block' : 'none';\n",
              "\n",
              "        async function convertToInteractive(key) {\n",
              "          const element = document.querySelector('#df-5ec314a6-90b9-40f6-a5af-cdc61c1480a8');\n",
              "          const dataTable =\n",
              "            await google.colab.kernel.invokeFunction('convertToInteractive',\n",
              "                                                     [key], {});\n",
              "          if (!dataTable) return;\n",
              "\n",
              "          const docLinkHtml = 'Like what you see? Visit the ' +\n",
              "            '<a target=\"_blank\" href=https://colab.research.google.com/notebooks/data_table.ipynb>data table notebook</a>'\n",
              "            + ' to learn more about interactive tables.';\n",
              "          element.innerHTML = '';\n",
              "          dataTable['output_type'] = 'display_data';\n",
              "          await google.colab.output.renderOutput(dataTable, element);\n",
              "          const docLink = document.createElement('div');\n",
              "          docLink.innerHTML = docLinkHtml;\n",
              "          element.appendChild(docLink);\n",
              "        }\n",
              "      </script>\n",
              "    </div>\n",
              "  </div>\n",
              "  "
            ]
          },
          "metadata": {},
          "execution_count": 37
        }
      ]
    },
    {
      "cell_type": "code",
      "source": [
        "results"
      ],
      "metadata": {
        "colab": {
          "base_uri": "https://localhost:8080/",
          "height": 424
        },
        "id": "qCS4jmfCjKoj",
        "outputId": "84dfee01-5539-4120-947b-ce39035e21a1"
      },
      "execution_count": null,
      "outputs": [
        {
          "output_type": "execute_result",
          "data": {
            "text/plain": [
              "                                               Review      Class\n",
              "0   He's teaching at a very fast pace and this cla...  satisfied\n",
              "1   One of my favorite professors in UCSD. His CSE...  satisfied\n",
              "2   One of the best CSE profs I've had so far. His...  satisfied\n",
              "3                 My favorite CSE professor at UCSD.       happy\n",
              "4   Coding is awful. The prof is cool but why assi...  satisfied\n",
              "..                                                ...        ...\n",
              "83  Professor Cao teaches the material well and al...  satisfied\n",
              "84                     Gives a lot of discussion time      happy\n",
              "85  Cao is an excellent, helpful, and reassuring p...  satisfied\n",
              "86  Awesome, one of the best professor that I have...  satisfied\n",
              "87  Very good professor, very clear about what is ...  satisfied\n",
              "\n",
              "[88 rows x 2 columns]"
            ],
            "text/html": [
              "\n",
              "  <div id=\"df-af1a040f-b1ac-4361-81ed-2ffbd6ed7c2f\">\n",
              "    <div class=\"colab-df-container\">\n",
              "      <div>\n",
              "<style scoped>\n",
              "    .dataframe tbody tr th:only-of-type {\n",
              "        vertical-align: middle;\n",
              "    }\n",
              "\n",
              "    .dataframe tbody tr th {\n",
              "        vertical-align: top;\n",
              "    }\n",
              "\n",
              "    .dataframe thead th {\n",
              "        text-align: right;\n",
              "    }\n",
              "</style>\n",
              "<table border=\"1\" class=\"dataframe\">\n",
              "  <thead>\n",
              "    <tr style=\"text-align: right;\">\n",
              "      <th></th>\n",
              "      <th>Review</th>\n",
              "      <th>Class</th>\n",
              "    </tr>\n",
              "  </thead>\n",
              "  <tbody>\n",
              "    <tr>\n",
              "      <th>0</th>\n",
              "      <td>He's teaching at a very fast pace and this cla...</td>\n",
              "      <td>satisfied</td>\n",
              "    </tr>\n",
              "    <tr>\n",
              "      <th>1</th>\n",
              "      <td>One of my favorite professors in UCSD. His CSE...</td>\n",
              "      <td>satisfied</td>\n",
              "    </tr>\n",
              "    <tr>\n",
              "      <th>2</th>\n",
              "      <td>One of the best CSE profs I've had so far. His...</td>\n",
              "      <td>satisfied</td>\n",
              "    </tr>\n",
              "    <tr>\n",
              "      <th>3</th>\n",
              "      <td>My favorite CSE professor at UCSD.</td>\n",
              "      <td>happy</td>\n",
              "    </tr>\n",
              "    <tr>\n",
              "      <th>4</th>\n",
              "      <td>Coding is awful. The prof is cool but why assi...</td>\n",
              "      <td>satisfied</td>\n",
              "    </tr>\n",
              "    <tr>\n",
              "      <th>...</th>\n",
              "      <td>...</td>\n",
              "      <td>...</td>\n",
              "    </tr>\n",
              "    <tr>\n",
              "      <th>83</th>\n",
              "      <td>Professor Cao teaches the material well and al...</td>\n",
              "      <td>satisfied</td>\n",
              "    </tr>\n",
              "    <tr>\n",
              "      <th>84</th>\n",
              "      <td>Gives a lot of discussion time</td>\n",
              "      <td>happy</td>\n",
              "    </tr>\n",
              "    <tr>\n",
              "      <th>85</th>\n",
              "      <td>Cao is an excellent, helpful, and reassuring p...</td>\n",
              "      <td>satisfied</td>\n",
              "    </tr>\n",
              "    <tr>\n",
              "      <th>86</th>\n",
              "      <td>Awesome, one of the best professor that I have...</td>\n",
              "      <td>satisfied</td>\n",
              "    </tr>\n",
              "    <tr>\n",
              "      <th>87</th>\n",
              "      <td>Very good professor, very clear about what is ...</td>\n",
              "      <td>satisfied</td>\n",
              "    </tr>\n",
              "  </tbody>\n",
              "</table>\n",
              "<p>88 rows × 2 columns</p>\n",
              "</div>\n",
              "      <button class=\"colab-df-convert\" onclick=\"convertToInteractive('df-af1a040f-b1ac-4361-81ed-2ffbd6ed7c2f')\"\n",
              "              title=\"Convert this dataframe to an interactive table.\"\n",
              "              style=\"display:none;\">\n",
              "        \n",
              "  <svg xmlns=\"http://www.w3.org/2000/svg\" height=\"24px\"viewBox=\"0 0 24 24\"\n",
              "       width=\"24px\">\n",
              "    <path d=\"M0 0h24v24H0V0z\" fill=\"none\"/>\n",
              "    <path d=\"M18.56 5.44l.94 2.06.94-2.06 2.06-.94-2.06-.94-.94-2.06-.94 2.06-2.06.94zm-11 1L8.5 8.5l.94-2.06 2.06-.94-2.06-.94L8.5 2.5l-.94 2.06-2.06.94zm10 10l.94 2.06.94-2.06 2.06-.94-2.06-.94-.94-2.06-.94 2.06-2.06.94z\"/><path d=\"M17.41 7.96l-1.37-1.37c-.4-.4-.92-.59-1.43-.59-.52 0-1.04.2-1.43.59L10.3 9.45l-7.72 7.72c-.78.78-.78 2.05 0 2.83L4 21.41c.39.39.9.59 1.41.59.51 0 1.02-.2 1.41-.59l7.78-7.78 2.81-2.81c.8-.78.8-2.07 0-2.86zM5.41 20L4 18.59l7.72-7.72 1.47 1.35L5.41 20z\"/>\n",
              "  </svg>\n",
              "      </button>\n",
              "      \n",
              "  <style>\n",
              "    .colab-df-container {\n",
              "      display:flex;\n",
              "      flex-wrap:wrap;\n",
              "      gap: 12px;\n",
              "    }\n",
              "\n",
              "    .colab-df-convert {\n",
              "      background-color: #E8F0FE;\n",
              "      border: none;\n",
              "      border-radius: 50%;\n",
              "      cursor: pointer;\n",
              "      display: none;\n",
              "      fill: #1967D2;\n",
              "      height: 32px;\n",
              "      padding: 0 0 0 0;\n",
              "      width: 32px;\n",
              "    }\n",
              "\n",
              "    .colab-df-convert:hover {\n",
              "      background-color: #E2EBFA;\n",
              "      box-shadow: 0px 1px 2px rgba(60, 64, 67, 0.3), 0px 1px 3px 1px rgba(60, 64, 67, 0.15);\n",
              "      fill: #174EA6;\n",
              "    }\n",
              "\n",
              "    [theme=dark] .colab-df-convert {\n",
              "      background-color: #3B4455;\n",
              "      fill: #D2E3FC;\n",
              "    }\n",
              "\n",
              "    [theme=dark] .colab-df-convert:hover {\n",
              "      background-color: #434B5C;\n",
              "      box-shadow: 0px 1px 3px 1px rgba(0, 0, 0, 0.15);\n",
              "      filter: drop-shadow(0px 1px 2px rgba(0, 0, 0, 0.3));\n",
              "      fill: #FFFFFF;\n",
              "    }\n",
              "  </style>\n",
              "\n",
              "      <script>\n",
              "        const buttonEl =\n",
              "          document.querySelector('#df-af1a040f-b1ac-4361-81ed-2ffbd6ed7c2f button.colab-df-convert');\n",
              "        buttonEl.style.display =\n",
              "          google.colab.kernel.accessAllowed ? 'block' : 'none';\n",
              "\n",
              "        async function convertToInteractive(key) {\n",
              "          const element = document.querySelector('#df-af1a040f-b1ac-4361-81ed-2ffbd6ed7c2f');\n",
              "          const dataTable =\n",
              "            await google.colab.kernel.invokeFunction('convertToInteractive',\n",
              "                                                     [key], {});\n",
              "          if (!dataTable) return;\n",
              "\n",
              "          const docLinkHtml = 'Like what you see? Visit the ' +\n",
              "            '<a target=\"_blank\" href=https://colab.research.google.com/notebooks/data_table.ipynb>data table notebook</a>'\n",
              "            + ' to learn more about interactive tables.';\n",
              "          element.innerHTML = '';\n",
              "          dataTable['output_type'] = 'display_data';\n",
              "          await google.colab.output.renderOutput(dataTable, element);\n",
              "          const docLink = document.createElement('div');\n",
              "          docLink.innerHTML = docLinkHtml;\n",
              "          element.appendChild(docLink);\n",
              "        }\n",
              "      </script>\n",
              "    </div>\n",
              "  </div>\n",
              "  "
            ]
          },
          "metadata": {},
          "execution_count": 38
        }
      ]
    },
    {
      "cell_type": "code",
      "source": [
        "for i in range(len(preds)):\n",
        "  print(results['Review'][i], ': ', results['Class'][i])"
      ],
      "metadata": {
        "id": "NNYYvcoIGJaI",
        "colab": {
          "base_uri": "https://localhost:8080/"
        },
        "outputId": "fde0fbc5-936b-4953-b3cc-ee727050cf44"
      },
      "execution_count": null,
      "outputs": [
        {
          "output_type": "stream",
          "name": "stdout",
          "text": [
            "He's teaching at a very fast pace and this class is not for beginners! There are four programming assignments in total and two exams. BUT he will randomly select 10% of the people at the end of the session for an interview of about 30 minutes!!! If you don't attend the interview, the grade will not be reported. Highly do not recommend this class! :  satisfied\n",
            "One of my favorite professors in UCSD. His CSE 11, 12, and 100 are somewhat harder than other professors, but doable. You would learn a lot. :  satisfied\n",
            "One of the best CSE profs I've had so far. His lectures consist of introducing the topic and providing a lot of examples/questions to help develop your understanding of the material. He definitely cares about his students. His PA's weren't too hard but his quizzes were pretty tricky which can be tough at times. Great prof, definitely take him. :  satisfied\n",
            "My favorite CSE professor at UCSD.  :  happy\n",
            "Coding is awful. The prof is cool but why assign all these other assignments, readings, and homeworks, if we are just going to forget it or not be tested on it. :  satisfied\n",
            "The professor taught content well, but a lot of times I felt it was completely unnecessary to go to lecture since he always assigned a huge amount of pre-lecture reading, that covered everything he was going to teach. After doing the reading, lecture just felt repetitive. :  dissatisfied\n",
            "Definitively one of the best CSE professors in UCSD.  :  satisfied\n",
            "This class is doable even if you have no experience in coding, like me. the PAs were kind of hard, but starting early and going to tutoring actually helped a lot. There are a lot of components to the final grade so even if you bomb a test it is possible to still do fine in the class. Overall, pretty good and simple class even if u dislike coding. :  satisfied\n",
            "gives extra credits and curve! :  satisfied\n",
            "One thing to say: DO YOUR PAs EARLY! Paul's PAs were quite fun, though it took some time to fully understand it. Otherwise, it's mostly using techniques we learnt in class. I enjoyed the way Paul taught CSE8A, it was very engaging with the constant questions to test your understanding of the material. I would take another class with Paul! :  satisfied\n",
            "Solid professor for CSE 12. Tests and PAs were fair.  :  satisfied\n",
            "Really tough class for people without any previous coding experience. Prof. Cao is a strict person with indifferent attitude. His lectures are so confusing, and extremely hard to apply what we learned in class to the weekly programming assignments. :  dissatisfied\n",
            "Paul is such a caring professor. I had no comp sci experience and went in completely blind, but he clearly puts in a lot of effort when it comes to teaching. He took to the time to create and pass out worksheets just so everyone could follow along. Complete all the assignments and you should be fine. :  satisfied\n",
            "Professor Cao was the best professor I had in Fall 2021. I found the lectures to be clear, interesting, and engaging. Midterms and Final were fairly easy. PAs were great in further establishing coding concepts as well as your own skills :  satisfied\n",
            "I took CSE 8A with professor Cao this quarter. I had no prior experience with python, and professor Cao was able to make learning this language clear and simple. He is very funny and uses good examples. The hardest part of the class is the PAs, make sure you start early and make use of tutor hours! The TA tutors are extremely helpful. :  satisfied\n",
            "we did python for 8A this quarter. Generally speaking, this class is easy A. :  neutral\n",
            "Do not take him!!!!!! He is been hyped!!!! His PAs are so hard and usually take one day to finish it and you will feel like you are tortured by the PAs mentally. The quizzes are tricky. His explanations and hints of the PAs are useless. Do not take him unless you like your mind suffering from torture once a week!!!! :  happy\n",
            "Cao is an amazing teacher. Just make sure to start early on the PAs so that you will be able to get help from autograder tutors. You will need it. Don't expect to do well in the course if you start the night of or the night before. Make sure you study for the midterms and finals (go over all quizzes, pas, and lectures). STAY CAUGHT UP ON LECTURES! :  happy\n",
            "Paul is a really nice professor and he explains things well. He would use real life examples that are easy to understand to explain hard concepts. Took 8B and 12 with him and learned a great deal from his classes. PAs are time consuming but it's worth the time to do it. :  satisfied\n",
            "Paul is very funny and explains the material clearly. Programming assignments can be overwhelming at times, but they are clearly explained and structured. They can be too structured at times though, sometimes there's little thought involved. Textbook work is mandatory, but I found it easy and also very useful. :  satisfied\n",
            "Cao is really good at explaining concepts that could be really tough to understand otherwise. The PAs were time-consuming but they definitely helped solidify my knowledge. During our quarter, he co-taught the class with Greg Miranda, so they had the same lectures, assignments, and exams - which seems like it will be a theme going forward. :  satisfied\n",
            "His lectures are very informative as his solid understanding allows him to effectively explain many concepts. The PAs get to be pretty time consuming, but there is always help available. Lectures were not mandatory but were very helpful. Readings are also pretty helpful. Prior experience in CS really helps reduce the workload. :  satisfied\n",
            "Terrible Professor. Workloads are insane, and PAs are hard, confusing and tricky. Lots of hidden cases that are very hard to think about. Average of PAs grade are around 85-90%. Tests are very trick and test more on the concept rather than code. Test are open everything but the average is 80%. No extra credit. DONT TAKE HIM. :  satisfied\n",
            "He was alright. He seemed to have a direct grasp of the knowledge and he answered most of the questions that students had but he did overlook some stuff that made the PAs harder than it needed to be and his final was hard compared to what he gave for the midterm. Overall, solid prof but do not be surprised by harder than usual exams. :  satisfied\n",
            "Professor Cao taught me data structures and it was wonderful. The PAs are directly related to the material of the lecture. Overall a wonderful experience. :  satisfied\n",
            "Spent 3 quarters with Paul. Definitely a great prof! Always get wonderful grades by the end of the quarters! Lectures are amazing with insightful contents. :  satisfied\n",
            "HE IS THE BEST. He cares about students and going to his office hours helps so much. And most importantly, he explains concepts with easy examples, which make so much more sense than just reading off the textbook. :  satisfied\n",
            "I took his CSE8B and CSE100. One of the best professors in CSE Department. You really learn A LOT from his lectures. PAs are time consuming but worth doing them. Hope he can teach some upper division courses and I will definitely take them. :  satisfied\n",
            "Highly recommend if you really wanna learn something. His assignment could be quite hellish if you have no previous experience in programming, but are pretty helpful. And most of all, he's lectures are always helpful with a lot of details, and he explains the material quite well. :  satisfied\n",
            "Paul is one of the best CSE lecturers/professors at UCSD. He is really good at explaining materials. His PAs are hard but as long as you spend time on them, you will learn a looot from them. :  happy\n",
            "Worst Professor I have taken so far . Workloads are insane, tests are meant to trick you with tiny descriptive language, during office hours hes very intimidating and will talk down to you not very helpful at all!. His podcasts lack details and he just talks in terrible monotone. Reading Quiz due every class meeting . Not lenient by any means. :  dissatisfied\n",
            "Pros: podcast available, reasonable exams, explain concepts super well, take advice from students, iclicker discussion Cons: bursting workload of PAs, there are times when I spent tons of time and effort on one PA yet still get horrible grade (might bc i'm dumb af), he sound strict and mean at times but doesn't hurt :  satisfied\n",
            "Hellish workload. Midterms and final were CSE-level, not too difficult. But the PA were difficult and lengthy, easily 20 hours a week. Fixed somewhat after multiple Piazza and TA requests. PA grading was strict (examining output) because expected in future upperCSE, but killed my grades. Professor was fine, but curved grades indicated difficulty. :  satisfied\n",
            "Professor Cao is one of my favorite professors at UCSD, and I definitely learned a lot in this course. He cares about preparing students for the industry, and he's very reasonable. If you're good at computer science or are willing to put in the work, this class should be very fun and fairly easy. :  satisfied\n",
            "grading is unreasonable, prof do not take suggestions and doesnt care about student concerns. Need to spend long time to do the PA especially in the beginning of the quarter. Exams are not very hard but not as easy as the practice. Overall lecture is fine, you learn a lot. Worst cse prof in my entire college life :  satisfied\n",
            "He gives out really simple past/sample exams, but then increase the difficulty by a lot during the actual exam. He also doesn't take suggestions from students very often. But aside from those, cool guy. :  satisfied\n",
            "The worst professor I've ever seen. He doesn't take students' advices or concerns. I'm literally kicked off from his office when trying to tell him what's wrong with the course. He's not caring enough to be a professor. His PAs are not hard to finish, but hard to understand. 20+h to understand the requirements from piazza, and 10h actual coding.:) :  dissatisfied\n",
            "CSE8A and CSE8B thought by him are really fun. You can finish many interesting programs even though you are just a beginner. However, his CSE100 is hard and he is trying to make harder. Even though exams are easy, PAs take over 24 hours and you may not make it correct. I suggest to take CSE8A/B with him but dont take CSE100 with him!!! :  happy\n",
            "One of the best professors Ive had at UCSD. He really knows his stuff. I highly recommend you take his classes if you have the choice. The only slight drawback is that his accent can be a little bit difficult to understand at times. :  satisfied\n",
            "Cao was an inspiration teacher for CSE8. However the way he is managing CSE100 in intense. The workload is too much for PA1 and PA2 and students are spending countless hours on a waiting queue, but the tutors are changing to fix some difficulty. The PA write-ups are partially vague. His midterm and lectures are just like CSE8, but PA are hellish. :  satisfied\n",
            "PAs are not extremely difficult, but they are time consuming Lecture is mandatory, Caring for students and listen to feedback Exams are not hard once you get the concept, I barely passed the first quiz and midterm, and got 100% on final after spent a lot of time studying the past exams :  satisfied\n",
            "He does his best to keep their students on their toes but the teaching method was not very good. Attendance is mandatory because he will only hand out 'printed' class notes in class. Also don't even try to look for code snippets online, he will report you for Academic Integrity violation. Has heavy accent and difficult to understand. :  satisfied\n",
            "The final exam was 261 out of 236, and average was 236, literally 100 percent. I would highly recommend Paul if you want to learn CS well. The class is by no mean easy, but I definitely enjoy the material in cs30 :  satisfied\n",
            "Paul is a horrible professor. \"I want to conserve the integrity of UCSD \" his words, not mine. He upped the difficulty of this class as if it wasn't already difficult enough. Never taking him again. Rather wait a whole quarter if he's the only choice. :  satisfied\n",
            "If you go to the lectures and do the reading you will probably get the concept. He really explains things really well, the lecture is structural and clear. But the PAs are really time-consuming and tough, and you don't want to expect an extension. The quizzes and mid-term are tricky, I got a 50% on the midterm. The final is ok I got 100%. :  satisfied\n",
            "He really cares your learning and will take in student feedback. He would modify the class if the majority of the opinion reflected that they want the change. Awesome prof! :  satisfied\n",
            "One the best Professors at UCSD. :  satisfied\n",
            "His final is so tricky, and no curve. You need to spend millions of time to do his psa, but you still cannot make sure you get a good grade. I did really hard work, but I still cannot get an A rather than A-. :  happy\n",
            "The best way I can describe Paul is that he is a caring and very much a dad-figure to every one in the class. He makes it his goal to help you understand the rather confusing topics in Java and the in class examples (clicker questions) are incredibly helpful in demonstrating the nuances in the code. Do his quizzes on time and pay attention for an A :  satisfied\n",
            "Paul (Yingjun) knows what he is talking about and makes sure you understand. Reading quizzes three times per week and weekly programming assignments. The PA's can be time consuming and you will probably need help to complete them. 3 easy in-class quizzes. :  satisfied\n",
            "Paul (Yingjun) clearly knows what he is talking about and makes sure you do too. Reading quizzes three times per week, review quizzes and programming assignments due once per week. Weekly lab sections are useful. He has plenty of office hours and there are always tutors in the lab if you need help. :  satisfied\n",
            "If you want to learn Java, you should take this class. Paul (Yingjun) Cao goes into great depth explaining concepts, and will pause the lecture to expand on a concept if he feels that the class doesn't get a concept. Even though the PAs are time consuming, I found them relatively straightforward and educational. I did stuff last minute and got a B+ :  satisfied\n",
            "He explains things really well. You can understand him clearly even if you don't have any programming experience previously. The programming assignments are a little tough but you will really learn the concepts better after finishing them. Besides, most of the time the assignments are really fun. Good luck! :  satisfied\n",
            "Knows his stuff. Reading quizzes every alternate day, review quizzes every week. Additional PSAs due every week. Lectures are informative and count for a small percentage of final grade. :  satisfied\n",
            "He's a great professor who really tries to make sure everyone understands and does well. Do your work and you're almost guaranteed an A. Easy midterms and final. Great class overall and great prof! :  satisfied\n",
            "A very good professor, can explain things very clear when you have a question. :  satisfied\n",
            "A fast paced class with too many quizzes and very difficult weekly assignments. Paul Cao is a caring professor who values feedback, but his class is just much too fast-paced especially for beginning coders. :  satisfied\n",
            "Paul Cao is a nice professor and tries really hard to make you understand the material, but the material itself is really difficult. There are too many quizzes that we have to take and you can never relax in the class because PSA's are due every week and they take forever to do. Midterm was hard. :  happy\n",
            "Prof. Cao is a well-respected teacher among all my friends. He is kind, accessible outside of class, and sometimes with unexpected humor. His course is well designed and well prepared. Follow his reading assignments, handouts, practice exams, programming assignments and lecture. You will find his assignments doable because he gets you ready. :  satisfied\n",
            "Professor Cao is a great instructor. He truly cares about your learning and will help you without judgement, especially on your exams. His lectures are a little hard to follow but he will slow down if you ask him to. There are quizzes during class but as long as you do your PSAs and attend lectures, you should be set. Studying is strongly recommend :  satisfied\n",
            "If you concentrate on lectures you won't need the book at all. You will get an easy A if you take him :  satisfied\n",
            "has a clear grading standard to follow. easy to pick up all the point. :  satisfied\n",
            "Professor Cao's class has been my favorite at ucsd so far. Attendance is mandatory, but I enjoyed his lectures. Exams were very fair. I appreciate that he asks for criticism and comments from his students to improve his own teaching. :  dissatisfied\n",
            "Overall a good professor. Exam and quiz got harder this quarter but you should be fine if you study and pay attention during lecture. :  satisfied\n",
            "Mr. Cao is a wonderful teacher. His lectures are very well structured, and deliver important information. There are reading quizzes due on the morning of each lecture, so reading is important. His class is not extremely difficult, but it isn't a catwalk. 10/10 would take again :  satisfied\n",
            "One of the best professor. True. The class is time consuming. Reading quizzes, PSA, but all the cse classes are. It is not his fault.  The class is not that hard if you just follow his step. Professor Can is approachable and inspiring. Clear in explaining concepts. I think the university should let him teach more cse classes. He really cares about :  satisfied\n",
            "Professor Cao is the best professor I've had at UCSD so far! His lectures are packed with valuable knowledge and material so going to lectures will definitely help your grade. All his PAs are explained very clearly and graded fairly as well. He's one of those professor where going to lecture is actually really worth it! Definitely recommend! :  satisfied\n",
            "This is the second class that I took with Professor Cao. In general, he is responsible that he uses podcasts and posts the slides online timely. However, he assumes too much knowledge you should know before class, and usually he doesn't explain very clear. His lecture has a lot of discussion which he could have spent those time lecturing. :  dissatisfied\n",
            "For those who claim Cao is not clear enough, I think  they won't find any  cs professor they like  in ucsd.  Take him, you will get an easy A and have solid cs fundation. :  satisfied\n",
            "Very veerrrry nice person!!! It is really my pleasure to meet such a nice CSE professor. The final is very identical to all the previous works we had done so far. He gives all the materials such as podcast, past papers, lecture slides notes, study guide, etc. You can prepare all well and develop a strong base of CSE. Take this prof!!! :  satisfied\n",
            "There's a lot of work in this class. (Labs, quizzes, homework, midterms) He posts everything online. He even posted the podcast of when we took our midterm, so it was a podcast of us staring at a watch for 80 minutes. But he is pretty good at explaining and he tries really hard. Getting a passing grade isn't hard, but you have to work for the A. :  happy\n",
            "Fun class, great professor. Never leaves anyone behind. :  happy\n",
            "Good prof.  Very clear and fair.  He challenges you to know material, but if you put in the effort and start hw early, you can definitely get an A. Just START EARLY and go to tutors for help and you are golden :  satisfied\n",
            "CSE 8B is harder than 8A, but you have so many chances to get extra credits. Problem Solving Assignments are more fun but more time-consuming. Get ready to devote a couple weekends to PSAs! :  happy\n",
            "Most would say accent is a problem, but it really is not. Attend lecture or watch podcast, and the tests would be chill. PAs will take time, especially pa2 (start wordcloud early). TA's are great. Tutors are great. In essence, he knows what he is doing. :  happy\n",
            "Wouldn't have been the same without Cao! He's able to explain concepts well and in a way that's easy to understand. Granted, there are certain topics that are just harder to grasp, but he genuinely cares for his students and how they are performing. Coding assignment range from really hard to easy, and quizzes and exams are not hard but not easy :  satisfied\n",
            "During my quarter, I believe that he gave an incredibly high number of quizzes. I think that 7 quizzes in 2 weeks is a bit too much. He was pretty unclear when he was explaining and I honestly learnt more from the internet than I did from him. Overall, I would not recommend this teacher based of this quarter's experiences. :  satisfied\n",
            "I think Professor Cao is a very passionate teacher, however, I didn't gain much from his class. There were a few too many quizzes, tests, and assignments that set the expectations for the class to be a bit higher than I could realistically achieve. Many students like him but I became disenfranchised rather quickly and would not take his class again :  satisfied\n",
            "I love Professor Cao! He explains everything very clearly and goes through each problem in detail even if no one asks (in case you're shy). There are lots of good examples&info in clicker questions that will help on projects! He's very kind with grading and extra help, and he takes time before class to just sit down and chat with students :) :  satisfied\n",
            "He is a nice professor. He explains things clearly and his tests are fair :  satisfied\n",
            "Professor Cao is super patient. However hard ur question is, he will answer u wiz a lot of details and make sure u understand it. :  happy\n",
            "His classes are interesting and the exams are not too hard. :  satisfied\n",
            "Awesome class. He was very clear and you knew exactly what he wanted you to know thanks to his good use of iclicker questions. My only problem with the class was the fact every assignment (once a week) was with a partner. All around, easy and well-educating class. And he podcasts. Find the book online. :  satisfied\n",
            "Professor Cao teaches the material well and allows the students ample time to discuss questions amongst themselves. The course material was easy in itself so it's hard to say how much he really helped me. The one thing I really liked about him was how he made an effort to talk to students outside the class. Great professor! :  satisfied\n",
            "Gives a lot of discussion time :  happy\n",
            "Cao is an excellent, helpful, and reassuring professor.  1st midterm average was 92%, and the day the first project was due, he opened up tutor hours until midnight.  He has an accent, but is easy enough to understand.  Attendance is mandatory.  \"It's normal to become frustrated when programming.  But don't get discouraged; you can do it!\" -Cao :  satisfied\n",
            "Awesome, one of the best professor that I have ever met. His lectures are so interesting and helpful! :  satisfied\n",
            "Very good professor, very clear about what is needed for the students to get good grades. He always give good feedback and is very nice to students and very patient to students' questions.  :  satisfied\n"
          ]
        }
      ]
    },
    {
      "cell_type": "code",
      "source": [],
      "metadata": {
        "id": "tvIoQIhUSbxK"
      },
      "execution_count": null,
      "outputs": []
    },
    {
      "cell_type": "code",
      "source": [],
      "metadata": {
        "id": "b3QhbFEJSblY"
      },
      "execution_count": null,
      "outputs": []
    },
    {
      "cell_type": "code",
      "source": [
        "!pip3 install selenium"
      ],
      "metadata": {
        "colab": {
          "base_uri": "https://localhost:8080/",
          "height": 712
        },
        "id": "Gr0O7yAj74IH",
        "outputId": "9dc473e8-0493-4cf3-dd07-19a73e9f448c"
      },
      "execution_count": null,
      "outputs": [
        {
          "output_type": "stream",
          "name": "stdout",
          "text": [
            "Looking in indexes: https://pypi.org/simple, https://us-python.pkg.dev/colab-wheels/public/simple/\n",
            "Collecting selenium\n",
            "  Downloading selenium-4.4.3-py3-none-any.whl (985 kB)\n",
            "\u001b[K     |████████████████████████████████| 985 kB 25.0 MB/s \n",
            "\u001b[?25hCollecting trio~=0.17\n",
            "  Downloading trio-0.21.0-py3-none-any.whl (358 kB)\n",
            "\u001b[K     |████████████████████████████████| 358 kB 59.8 MB/s \n",
            "\u001b[?25hCollecting urllib3[socks]~=1.26\n",
            "  Downloading urllib3-1.26.12-py2.py3-none-any.whl (140 kB)\n",
            "\u001b[K     |████████████████████████████████| 140 kB 52.6 MB/s \n",
            "\u001b[?25hRequirement already satisfied: certifi>=2021.10.8 in /usr/local/lib/python3.7/dist-packages (from selenium) (2022.6.15)\n",
            "Collecting trio-websocket~=0.9\n",
            "  Downloading trio_websocket-0.9.2-py3-none-any.whl (16 kB)\n",
            "Requirement already satisfied: idna in /usr/local/lib/python3.7/dist-packages (from trio~=0.17->selenium) (2.10)\n",
            "Collecting async-generator>=1.9\n",
            "  Downloading async_generator-1.10-py3-none-any.whl (18 kB)\n",
            "Requirement already satisfied: attrs>=19.2.0 in /usr/local/lib/python3.7/dist-packages (from trio~=0.17->selenium) (22.1.0)\n",
            "Collecting outcome\n",
            "  Downloading outcome-1.2.0-py2.py3-none-any.whl (9.7 kB)\n",
            "Collecting sniffio\n",
            "  Downloading sniffio-1.2.0-py3-none-any.whl (10 kB)\n",
            "Requirement already satisfied: sortedcontainers in /usr/local/lib/python3.7/dist-packages (from trio~=0.17->selenium) (2.4.0)\n",
            "Collecting wsproto>=0.14\n",
            "  Downloading wsproto-1.2.0-py3-none-any.whl (24 kB)\n",
            "Requirement already satisfied: PySocks!=1.5.7,<2.0,>=1.5.6 in /usr/local/lib/python3.7/dist-packages (from urllib3[socks]~=1.26->selenium) (1.7.1)\n",
            "Collecting h11<1,>=0.9.0\n",
            "  Downloading h11-0.13.0-py3-none-any.whl (58 kB)\n",
            "\u001b[K     |████████████████████████████████| 58 kB 4.9 MB/s \n",
            "\u001b[?25hRequirement already satisfied: typing-extensions in /usr/local/lib/python3.7/dist-packages (from h11<1,>=0.9.0->wsproto>=0.14->trio-websocket~=0.9->selenium) (4.1.1)\n",
            "Installing collected packages: sniffio, outcome, h11, async-generator, wsproto, urllib3, trio, trio-websocket, selenium\n",
            "  Attempting uninstall: urllib3\n",
            "    Found existing installation: urllib3 1.24.3\n",
            "    Uninstalling urllib3-1.24.3:\n",
            "      Successfully uninstalled urllib3-1.24.3\n",
            "Successfully installed async-generator-1.10 h11-0.13.0 outcome-1.2.0 selenium-4.4.3 sniffio-1.2.0 trio-0.21.0 trio-websocket-0.9.2 urllib3-1.26.12 wsproto-1.2.0\n"
          ]
        },
        {
          "output_type": "display_data",
          "data": {
            "application/vnd.colab-display-data+json": {
              "pip_warning": {
                "packages": [
                  "urllib3"
                ]
              }
            }
          },
          "metadata": {}
        }
      ]
    },
    {
      "cell_type": "code",
      "source": [
        "import pandas as pd\n",
        "from natsort import natsorted\n",
        "from selenium import webdriver\n",
        "from selenium.webdriver.support.ui import WebDriverWait\n",
        "from selenium.webdriver.support import expected_conditions\n",
        "from statsmodels.stats.proportion import proportion_confint as ci\n",
        "from IPython.display import display\n",
        "\n",
        "\n",
        "# from selenium import webdriver\n",
        "# from selenium.webdriver.firefox.firefox_binary import FirefoxBinary\n",
        "\n",
        "\n",
        "# binary = FirefoxBinary('/Downloads')\n",
        "# browser = webdriver.Firefox(firefox_binary=binary)\n",
        "\n",
        "# driver = webdriver.Firefox(executable_path = '/usr/local/bin/geckodriver')\n",
        "\n",
        "\n",
        "\n",
        "CAPEURL = 'https://cape.ucsd.edu/responses/Results.aspx'\n",
        "CAPEDUMPURL = 'https://cape.ucsd.edu/responses/Results.aspx?Name=%2C'\n",
        "CAPETITLE = 'Course And Professor Evaluations (CAPE)'\n",
        "def get_raw_cape_dataframe():\n",
        "\n",
        "    # launch browser using Selenium, need to have Firefox installed\n",
        "    print('Opening a browser window...')\n",
        "    driver = webdriver.Firefox()\n",
        "    print('Browser window open, loading the page...')\n",
        "\n",
        "    # get the page that lists all the data, first try\n",
        "    driver.get(CAPEURL)\n",
        "    print('Please enter credentials...')\n",
        "\n",
        "    # wait until SSO credentials are entered\n",
        "    wait = WebDriverWait(driver, 60)\n",
        "    element = wait.until(expected_conditions.title_contains(CAPETITLE))\n",
        "\n",
        "    # get the page that lists all the data\n",
        "    # (%2C is the comma, drops all the data since every professor name has it)\n",
        "    driver.get(CAPEDUMPURL)\n",
        "\n",
        "    # read in the dataset from the html file\n",
        "    df = pd.read_html(driver.page_source)[0]\n",
        "    print('Dataset parsed, closing browser window.')\n",
        "\n",
        "    # destroy driver instance\n",
        "    driver.quit()\n",
        "\n",
        "    return df\n",
        "\n",
        "\n",
        "def get_clean_cape_dataframe(raw_cape_dataframe, terms):\n",
        "\n",
        "    df = raw_cape_dataframe\n",
        "\n",
        "    # only looking at evaluations from 15/16 and 16/17\n",
        "    df = df[df.Term.isin(terms)]\n",
        "\n",
        "    # subset the columns we need\n",
        "    df = df[['Instructor', 'Course', 'Term', 'Evals Made', 'Rcmnd Class',\n",
        "             'Rcmnd Instr', 'Study Hrs/wk', 'Avg Grade Expected',\n",
        "             'Avg Grade Received']]\n",
        "\n",
        "    # rename the columns for convenience\n",
        "    df = df.rename(columns={\n",
        "        'Instructor': 'instr', 'Course': 'course', 'Term': 'term',\n",
        "        'Evals Made': 'evals', 'Rcmnd Class': 'rcmnd_class',\n",
        "        'Rcmnd Instr': 'rcmnd_instr', 'Study Hrs/wk': 'time',\n",
        "        'Avg Grade Expected': 'grade_expected',\n",
        "        'Avg Grade Received': 'grade_actual'\n",
        "    })\n",
        "\n",
        "    # drop rows that have data missing\n",
        "    df = df.dropna()\n",
        "\n",
        "    # only need the courses which hade at least one evaluation made\n",
        "    df = df[df['evals'] != 0]\n",
        "\n",
        "    # split to get the dept + course code\n",
        "    df.loc[:, 'course'] = df.course.str.split(' - ').apply(lambda x: x[0])\n",
        "\n",
        "    # convert the recommendation percentages to float values\n",
        "    # and resize to be in the interval [0, 1]:\n",
        "    df.loc[:, 'rcmnd_instr'] = (df.rcmnd_instr\n",
        "                                  .str.rstrip(' %')\n",
        "                                  .astype('float')) / 100\n",
        "\n",
        "    df.loc[:, 'rcmnd_class'] = (df.rcmnd_class\n",
        "                                  .str.rstrip(' %')\n",
        "                                  .astype('float')) / 100\n",
        "\n",
        "    \"\"\"We create a \"weighted evals\" column which contains the recommendation\n",
        "    percentage multiplied by the number of evals, yielding the approximate\n",
        "    number of positive recommendations. We round them to obtain integer values.\n",
        "    The exact numbers are available for every course, but it would require\n",
        "    scraping a lot of pages.  Maybe in the next iteration.\"\"\"\n",
        "\n",
        "    df['class_weighted_evals'] = ((df.evals * df.rcmnd_class).round()\n",
        "                                                             .astype('int'))\n",
        "    df['instr_weighted_evals'] = ((df.evals * df.rcmnd_instr).round()\n",
        "                                                             .astype('int'))\n",
        "\n",
        "    df['letter_expected'] = (df.grade_expected.str.split('(')\n",
        "                                              .apply(lambda x: x[0]))\n",
        "    df['gpa_expected'] = (df.grade_expected.str.split('(')\n",
        "                                           .apply(lambda x: x[-1])\n",
        "                                           .str.rstrip(')')\n",
        "                                           .astype('float'))\n",
        "\n",
        "    df['letter_actual'] = (df.grade_actual.str.split('(')\n",
        "                                          .apply(lambda x: x[0]))\n",
        "    df['gpa_actual'] = (df.grade_actual.str.split('(')\n",
        "                                       .apply(lambda x: x[-1])\n",
        "                                       .str.rstrip(')')\n",
        "                                       .astype('float'))\n",
        "\n",
        "    df = df.drop(['grade_expected', 'grade_actual'], axis=1)\n",
        "\n",
        "    # set and reset index to build an incremental index that starts at 0\n",
        "    df = df.set_index('instr').reset_index()\n",
        "\n",
        "    return df\n",
        "\n",
        "\n",
        "def get_prof_ranking_dictionary(df):\n",
        "\n",
        "    df = (df[['instr', 'course', 'evals', 'instr_weighted_evals']])\n",
        "\n",
        "    gb = df.groupby(['course', 'instr']).sum()\n",
        "\n",
        "    gb.loc[:, 'lower'], gb.loc[:, 'upper'] = ci(gb.instr_weighted_evals,\n",
        "                                                gb.evals, method='wilson')\n",
        "\n",
        "    # populate the dictionary\n",
        "    ranking = {}\n",
        "    for course, instr in gb.index:\n",
        "        professors_sorted = gb.loc[course].sort_values(by='lower',\n",
        "                                                       ascending=False)\n",
        "        ranking[course] = list(professors_sorted.index)\n",
        "\n",
        "    return ranking\n",
        "\n",
        "\n",
        "def get_time_dictionary(df):\n",
        "\n",
        "    # subset the columns we need\n",
        "    df = df[['course', 'time']]\n",
        "\n",
        "    # groupby to get average time for course and round to 2 decimal places\n",
        "    gb = df[['time', 'course']].groupby('course').mean().round(2)\n",
        "\n",
        "    # average time spent for all courses\n",
        "    average = float(gb.mean())\n",
        "\n",
        "    # standard deviation of time spent for all courses\n",
        "    sd = float(gb.std())\n",
        "\n",
        "    # build the deviation column\n",
        "    gb['dev'] = gb - average\n",
        "\n",
        "    # warning statements\n",
        "    warning = (\n",
        "        'This course will take more time outside of class than average.'\n",
        "    )\n",
        "    normal = (\n",
        "        'This course will take an average amount of time outside of class.'\n",
        "    )\n",
        "    relax = (\n",
        "        'This course might take less time outside of class than average.'\n",
        "    )\n",
        "\n",
        "    def get_statement_and_color(dev, sd):\n",
        "        if (dev > sd):\n",
        "            statement = warning\n",
        "            color = 'red'\n",
        "        elif (abs(dev) < sd):\n",
        "            statement = normal\n",
        "            color = 'black'\n",
        "        else:\n",
        "            statement = relax\n",
        "            color = 'green'\n",
        "        return statement, color\n",
        "\n",
        "    time = {}\n",
        "    for course in gb.index:\n",
        "        statement, color = get_statement_and_color(gb.loc[course, 'dev'], sd)\n",
        "        time[course] = {'expected': str(float(gb.loc[course, 'time'])),\n",
        "                        'statement': statement, 'color': color}\n",
        "\n",
        "    return time\n",
        "\n",
        "\n",
        "def get_grade_dictionary(df):\n",
        "\n",
        "    # subset the columns we need\n",
        "    df = df[['course', 'gpa_expected', 'gpa_actual']]\n",
        "\n",
        "    # groupby to get the mean grade and round to 2 decimal places\n",
        "    gb = df.groupby('course').mean().round(2)\n",
        "    gb['dev'] = gb.gpa_actual - gb.gpa_expected\n",
        "\n",
        "    # warning statements\n",
        "    warning = (\n",
        "        'Students tend to get lower grades than they expect for this course.'\n",
        "    )\n",
        "    normal = (\n",
        "        'Students tend to get the grade they expect for this course.'\n",
        "    )\n",
        "    relax = (\n",
        "        'Students tend to get higher grades than they expect for this course.'\n",
        "    )\n",
        "\n",
        "    def GPA_val_to_grade(val):\n",
        "        if val == 4.0:\n",
        "            grade = 'A'\n",
        "        elif val >= 3.7:\n",
        "            grade = 'A-'\n",
        "        elif val >= 3.3:\n",
        "            grade = 'B+'\n",
        "        elif val >= 3.0:\n",
        "            grade = 'B'\n",
        "        elif val >= 2.7:\n",
        "            grade = 'B-'\n",
        "        elif val >= 2.3:\n",
        "            grade = 'C+'\n",
        "        elif val >= 2.0:\n",
        "            grade = 'C'\n",
        "        elif val >= 1.7:\n",
        "            grade = 'C-'\n",
        "        elif val >= 1.0:\n",
        "            grade = 'D'\n",
        "        return grade\n",
        "\n",
        "    def get_statement_and_color(dev):\n",
        "        if dev > 0.4:\n",
        "            color = 'green'\n",
        "            statement = relax\n",
        "        elif dev < -0.4:\n",
        "            color = 'red'\n",
        "            statement = warning\n",
        "        else:\n",
        "            color = 'black'\n",
        "            statement = normal\n",
        "\n",
        "        return statement, color\n",
        "\n",
        "    grade = {}\n",
        "    for course in gb.index:\n",
        "        statement, color = get_statement_and_color(gb.loc[course, 'dev'])\n",
        "        grade[course] = {\n",
        "            'expected': GPA_val_to_grade(gb.loc[course, 'gpa_actual']),\n",
        "            'color': color,\n",
        "            'statement': statement\n",
        "        }\n",
        "\n",
        "    return grade\n",
        "\n",
        "\n",
        "def get_depts_and_courses_dictionary(df):\n",
        "\n",
        "    df = (df.course.str.split(expand=True)\n",
        "            .rename(columns={0: 'dept', 1: 'course'})\n",
        "            .drop_duplicates())\n",
        "\n",
        "    depts = natsorted(df.dept.unique())\n",
        "\n",
        "    df = df.set_index(['dept', 'course']).sort_index()\n",
        "\n",
        "    depts_and_courses = {dept: natsorted(df.loc[dept].index) for dept in depts}\n",
        "\n",
        "    return depts_and_courses\n",
        "\n",
        "df = get_raw_cape_dataframe()\n",
        "\n",
        "# df.Term.unique()\n",
        "\n",
        "\n",
        "# terms = ['FA19', 'WI20', 'SP20', 'S120', 'S220', 'S320',\n",
        "#          'FA20', 'WI21', 'SP21', 'S121', 'S221', 'S321',\n",
        "#          'FA21', 'WI22', 'SP22', 'S122',               ]\n",
        "\n",
        "# clean_df = get_clean_cape_dataframe(df, terms)\n",
        "# clean_df.to_csv('data.csv')\n",
        "\n"
      ],
      "metadata": {
        "colab": {
          "base_uri": "https://localhost:8080/",
          "height": 451
        },
        "id": "gbbjOE4k7vzv",
        "outputId": "e957da28-839b-44c4-df4c-61418d1f239a"
      },
      "execution_count": null,
      "outputs": [
        {
          "output_type": "stream",
          "name": "stdout",
          "text": [
            "Opening a browser window...\n"
          ]
        },
        {
          "output_type": "error",
          "ename": "WebDriverException",
          "evalue": "ignored",
          "traceback": [
            "\u001b[0;31m---------------------------------------------------------------------------\u001b[0m",
            "\u001b[0;31mPermissionError\u001b[0m                           Traceback (most recent call last)",
            "\u001b[0;32m/usr/local/lib/python3.7/dist-packages/selenium/webdriver/common/service.py\u001b[0m in \u001b[0;36mstart\u001b[0;34m(self)\u001b[0m\n\u001b[1;32m     75\u001b[0m                                             \u001b[0mstdin\u001b[0m\u001b[0;34m=\u001b[0m\u001b[0mPIPE\u001b[0m\u001b[0;34m,\u001b[0m\u001b[0;34m\u001b[0m\u001b[0;34m\u001b[0m\u001b[0m\n\u001b[0;32m---> 76\u001b[0;31m                                             creationflags=self.creationflags)\n\u001b[0m\u001b[1;32m     77\u001b[0m         \u001b[0;32mexcept\u001b[0m \u001b[0mTypeError\u001b[0m\u001b[0;34m:\u001b[0m\u001b[0;34m\u001b[0m\u001b[0;34m\u001b[0m\u001b[0m\n",
            "\u001b[0;32m/usr/lib/python3.7/subprocess.py\u001b[0m in \u001b[0;36m__init__\u001b[0;34m(self, args, bufsize, executable, stdin, stdout, stderr, preexec_fn, close_fds, shell, cwd, env, universal_newlines, startupinfo, creationflags, restore_signals, start_new_session, pass_fds, encoding, errors, text)\u001b[0m\n\u001b[1;32m    799\u001b[0m                                 \u001b[0merrread\u001b[0m\u001b[0;34m,\u001b[0m \u001b[0merrwrite\u001b[0m\u001b[0;34m,\u001b[0m\u001b[0;34m\u001b[0m\u001b[0;34m\u001b[0m\u001b[0m\n\u001b[0;32m--> 800\u001b[0;31m                                 restore_signals, start_new_session)\n\u001b[0m\u001b[1;32m    801\u001b[0m         \u001b[0;32mexcept\u001b[0m\u001b[0;34m:\u001b[0m\u001b[0;34m\u001b[0m\u001b[0;34m\u001b[0m\u001b[0m\n",
            "\u001b[0;32m/usr/lib/python3.7/subprocess.py\u001b[0m in \u001b[0;36m_execute_child\u001b[0;34m(self, args, executable, preexec_fn, close_fds, pass_fds, cwd, env, startupinfo, creationflags, shell, p2cread, p2cwrite, c2pread, c2pwrite, errread, errwrite, restore_signals, start_new_session)\u001b[0m\n\u001b[1;32m   1550\u001b[0m                             \u001b[0merr_msg\u001b[0m \u001b[0;34m+=\u001b[0m \u001b[0;34m': '\u001b[0m \u001b[0;34m+\u001b[0m \u001b[0mrepr\u001b[0m\u001b[0;34m(\u001b[0m\u001b[0merr_filename\u001b[0m\u001b[0;34m)\u001b[0m\u001b[0;34m\u001b[0m\u001b[0;34m\u001b[0m\u001b[0m\n\u001b[0;32m-> 1551\u001b[0;31m                     \u001b[0;32mraise\u001b[0m \u001b[0mchild_exception_type\u001b[0m\u001b[0;34m(\u001b[0m\u001b[0merrno_num\u001b[0m\u001b[0;34m,\u001b[0m \u001b[0merr_msg\u001b[0m\u001b[0;34m,\u001b[0m \u001b[0merr_filename\u001b[0m\u001b[0;34m)\u001b[0m\u001b[0;34m\u001b[0m\u001b[0;34m\u001b[0m\u001b[0m\n\u001b[0m\u001b[1;32m   1552\u001b[0m                 \u001b[0;32mraise\u001b[0m \u001b[0mchild_exception_type\u001b[0m\u001b[0;34m(\u001b[0m\u001b[0merr_msg\u001b[0m\u001b[0;34m)\u001b[0m\u001b[0;34m\u001b[0m\u001b[0;34m\u001b[0m\u001b[0m\n",
            "\u001b[0;31mPermissionError\u001b[0m: [Errno 13] Permission denied: 'geckodriver'",
            "\nDuring handling of the above exception, another exception occurred:\n",
            "\u001b[0;31mWebDriverException\u001b[0m                        Traceback (most recent call last)",
            "\u001b[0;32m<ipython-input-5-f84e083a548d>\u001b[0m in \u001b[0;36m<module>\u001b[0;34m\u001b[0m\n\u001b[1;32m    272\u001b[0m     \u001b[0;32mreturn\u001b[0m \u001b[0mdepts_and_courses\u001b[0m\u001b[0;34m\u001b[0m\u001b[0;34m\u001b[0m\u001b[0m\n\u001b[1;32m    273\u001b[0m \u001b[0;34m\u001b[0m\u001b[0m\n\u001b[0;32m--> 274\u001b[0;31m \u001b[0mdf\u001b[0m \u001b[0;34m=\u001b[0m \u001b[0mget_raw_cape_dataframe\u001b[0m\u001b[0;34m(\u001b[0m\u001b[0;34m)\u001b[0m\u001b[0;34m\u001b[0m\u001b[0;34m\u001b[0m\u001b[0m\n\u001b[0m\u001b[1;32m    275\u001b[0m \u001b[0;34m\u001b[0m\u001b[0m\n\u001b[1;32m    276\u001b[0m \u001b[0;31m# df.Term.unique()\u001b[0m\u001b[0;34m\u001b[0m\u001b[0;34m\u001b[0m\u001b[0;34m\u001b[0m\u001b[0m\n",
            "\u001b[0;32m<ipython-input-5-f84e083a548d>\u001b[0m in \u001b[0;36mget_raw_cape_dataframe\u001b[0;34m()\u001b[0m\n\u001b[1;32m     26\u001b[0m     \u001b[0;31m# launch browser using Selenium, need to have Firefox installed\u001b[0m\u001b[0;34m\u001b[0m\u001b[0;34m\u001b[0m\u001b[0;34m\u001b[0m\u001b[0m\n\u001b[1;32m     27\u001b[0m     \u001b[0mprint\u001b[0m\u001b[0;34m(\u001b[0m\u001b[0;34m'Opening a browser window...'\u001b[0m\u001b[0;34m)\u001b[0m\u001b[0;34m\u001b[0m\u001b[0;34m\u001b[0m\u001b[0m\n\u001b[0;32m---> 28\u001b[0;31m     \u001b[0mdriver\u001b[0m \u001b[0;34m=\u001b[0m \u001b[0mwebdriver\u001b[0m\u001b[0;34m.\u001b[0m\u001b[0mFirefox\u001b[0m\u001b[0;34m(\u001b[0m\u001b[0;34m)\u001b[0m\u001b[0;34m\u001b[0m\u001b[0;34m\u001b[0m\u001b[0m\n\u001b[0m\u001b[1;32m     29\u001b[0m     \u001b[0mprint\u001b[0m\u001b[0;34m(\u001b[0m\u001b[0;34m'Browser window open, loading the page...'\u001b[0m\u001b[0;34m)\u001b[0m\u001b[0;34m\u001b[0m\u001b[0;34m\u001b[0m\u001b[0m\n\u001b[1;32m     30\u001b[0m \u001b[0;34m\u001b[0m\u001b[0m\n",
            "\u001b[0;32m/usr/local/lib/python3.7/dist-packages/selenium/webdriver/firefox/webdriver.py\u001b[0m in \u001b[0;36m__init__\u001b[0;34m(self, firefox_profile, firefox_binary, capabilities, proxy, executable_path, options, service_log_path, service_args, service, desired_capabilities, log_path, keep_alive)\u001b[0m\n\u001b[1;32m    170\u001b[0m                 \u001b[0mservice_args\u001b[0m\u001b[0;34m=\u001b[0m\u001b[0mservice_args\u001b[0m\u001b[0;34m,\u001b[0m\u001b[0;34m\u001b[0m\u001b[0;34m\u001b[0m\u001b[0m\n\u001b[1;32m    171\u001b[0m                 log_path=service_log_path)\n\u001b[0;32m--> 172\u001b[0;31m         \u001b[0mself\u001b[0m\u001b[0;34m.\u001b[0m\u001b[0mservice\u001b[0m\u001b[0;34m.\u001b[0m\u001b[0mstart\u001b[0m\u001b[0;34m(\u001b[0m\u001b[0;34m)\u001b[0m\u001b[0;34m\u001b[0m\u001b[0;34m\u001b[0m\u001b[0m\n\u001b[0m\u001b[1;32m    173\u001b[0m \u001b[0;34m\u001b[0m\u001b[0m\n\u001b[1;32m    174\u001b[0m         executor = FirefoxRemoteConnection(\n",
            "\u001b[0;32m/usr/local/lib/python3.7/dist-packages/selenium/webdriver/common/service.py\u001b[0m in \u001b[0;36mstart\u001b[0;34m(self)\u001b[0m\n\u001b[1;32m     86\u001b[0m                 raise WebDriverException(\n\u001b[1;32m     87\u001b[0m                     \"'{}' executable may have wrong permissions. {}\".format(\n\u001b[0;32m---> 88\u001b[0;31m                         os.path.basename(self.path), self.start_error_message)\n\u001b[0m\u001b[1;32m     89\u001b[0m                 )\n\u001b[1;32m     90\u001b[0m             \u001b[0;32melse\u001b[0m\u001b[0;34m:\u001b[0m\u001b[0;34m\u001b[0m\u001b[0;34m\u001b[0m\u001b[0m\n",
            "\u001b[0;31mWebDriverException\u001b[0m: Message: 'geckodriver' executable may have wrong permissions. \n"
          ]
        }
      ]
    },
    {
      "cell_type": "code",
      "source": [
        "!unzip ratemyprof_api.zip"
      ],
      "metadata": {
        "colab": {
          "base_uri": "https://localhost:8080/"
        },
        "id": "BpD-mSHmnhqE",
        "outputId": "64b0f05d-6125-4943-fc3f-1bd2da958a06"
      },
      "execution_count": null,
      "outputs": [
        {
          "output_type": "stream",
          "name": "stdout",
          "text": [
            "Archive:  ratemyprof_api.zip\n",
            "   creating: ratemyprof_api/\n",
            "  inflating: __MACOSX/._ratemyprof_api  \n",
            "  inflating: ratemyprof_api/ratemyprof_api.py  \n",
            "  inflating: __MACOSX/ratemyprof_api/._ratemyprof_api.py  \n",
            "  inflating: ratemyprof_api/.DS_Store  \n",
            "  inflating: __MACOSX/ratemyprof_api/._.DS_Store  \n",
            "   creating: ratemyprof_api/tests/\n",
            "  inflating: __MACOSX/ratemyprof_api/._tests  \n",
            "  inflating: ratemyprof_api/__init__.py  \n",
            "  inflating: __MACOSX/ratemyprof_api/.___init__.py  \n",
            "   creating: ratemyprof_api/__pycache__/\n",
            "  inflating: ratemyprof_api/professor.py  \n",
            "  inflating: __MACOSX/ratemyprof_api/._professor.py  \n",
            "  inflating: ratemyprof_api/tests/__init__.py  \n",
            "  inflating: __MACOSX/ratemyprof_api/tests/.___init__.py  \n",
            "  inflating: ratemyprof_api/tests/test_scrape_prof.py  \n",
            "  inflating: __MACOSX/ratemyprof_api/tests/._test_scrape_prof.py  \n",
            "  inflating: ratemyprof_api/__pycache__/professor.cpython-310.pyc  \n",
            "  inflating: ratemyprof_api/__pycache__/ratemyprof_api.cpython-310.pyc  \n",
            "  inflating: ratemyprof_api/__pycache__/__init__.cpython-310.pyc  \n"
          ]
        }
      ]
    },
    {
      "cell_type": "code",
      "source": [
        "# import ratemyprofessor as rmp\n",
        "import pandas as pd\n",
        "from collections import defaultdict\n",
        "from ratemyprof_api import ratemyprof_api as rmp\n",
        "\n",
        "# URL = https://www.ratemyprofessors.com/campusRatings.jsp?sid=1079\n",
        "\n",
        "# initializing ratemyprof_api to UCSD school ID\n",
        "print(\"starting scrape...\")\n",
        "ucsd_rmp = rmp.RateMyProfApi(\"1079\")\n",
        "print(\"finished!!\")\n",
        "\n",
        "\n",
        "# gets list of all profs\n",
        "print(\"getting list...\")\n",
        "ucsd_profs = ucsd_rmp.scrape_professors()\n",
        "print(\"got list\")\n",
        "\n",
        "\n",
        "rList = ucsd_rmp.create_reviews_list(1152825)\n",
        "\n",
        "prof_name = ucsd_profs[1152825].name\n",
        "\n",
        "ucsd_rmp.WriteReviewsListToCSV(rList, prof_name)"
      ],
      "metadata": {
        "colab": {
          "base_uri": "https://localhost:8080/"
        },
        "id": "FRPpaQ1qnq9c",
        "outputId": "3836c9ae-ce47-436e-f846-53649acff494"
      },
      "execution_count": null,
      "outputs": [
        {
          "output_type": "stream",
          "name": "stdout",
          "text": [
            "starting scrape...\n",
            "finished!!\n",
            "getting list...\n",
            "got list\n"
          ]
        }
      ]
    },
    {
      "cell_type": "code",
      "source": [
        "\n",
        "\n",
        "/content/drive/My Drive/ratemycapes\n",
        "\n",
        "/content/drive/My Drive/"
      ],
      "metadata": {
        "id": "n2A8p9UgzoTu"
      },
      "execution_count": null,
      "outputs": []
    },
    {
      "cell_type": "code",
      "source": [
        "from google.colab import drive\n",
        "\n",
        "drive.mount('/content/drive/', force_remount=True)"
      ],
      "metadata": {
        "colab": {
          "base_uri": "https://localhost:8080/"
        },
        "id": "Kd6CD_DBvYwl",
        "outputId": "7c49928a-32af-400b-e0eb-fc106146a96c"
      },
      "execution_count": null,
      "outputs": [
        {
          "output_type": "stream",
          "name": "stdout",
          "text": [
            "Mounted at /content/drive/\n"
          ]
        }
      ]
    },
    {
      "cell_type": "code",
      "source": [
        "!sudo add-apt-repository -y ppa:alessandro-strada/ppa 2>&1 > /dev/null\n",
        "!sudo apt-get update -qq 2>&1 > /dev/null\n",
        "!sudo apt -y install -qq google-drive-ocamlfuse 2>&1 > /dev/null\n",
        "!google-drive-ocamlfuse"
      ],
      "metadata": {
        "colab": {
          "base_uri": "https://localhost:8080/"
        },
        "id": "usIxQRJwwAxd",
        "outputId": "2a3b52cf-4429-4731-f656-8d6b97dfb7b3"
      },
      "execution_count": null,
      "outputs": [
        {
          "output_type": "stream",
          "name": "stdout",
          "text": [
            "Fatal Python error: initsite: Failed to import the site module\n",
            "Traceback (most recent call last):\n",
            "  File \"/usr/lib/python3.7/site.py\", line 596, in <module>\n",
            "Traceback (most recent call last):\n",
            "    main()\n",
            "  File \"/usr/lib/python3.7/site.py\", line 583, in main\n",
            "    known_paths = addsitepackages(known_paths)\n",
            "  File \"/usr/lib/python3.7/site.py\", line 366, in addsitepackages\n",
            "\n",
            "    addsitedir(sitedir, known_paths)\n",
            "  File \"/usr/lib/python3.7/site.py\", line 213, in addsitedir\n",
            "    addpackage(sitedir, name, known_paths)\n",
            "  File \"/usr/lib/python3.7/site.py\", line 174, in addpackage\n",
            "    exec(line)\n",
            "  File \"<string>\", line 1, in <module>\n",
            "KeyboardInterrupt\n",
            "^C\n",
            "\n",
            "WARNING: apt does not have a stable CLI interface. Use with caution in scripts.\n",
            "\n",
            "^C\n",
            "/bin/bash: google-drive-ocamlfuse: command not found\n"
          ]
        }
      ]
    },
    {
      "cell_type": "code",
      "source": [],
      "metadata": {
        "id": "Tb3wRpGrwAuG"
      },
      "execution_count": null,
      "outputs": []
    },
    {
      "cell_type": "code",
      "source": [
        "!pip3 install csv"
      ],
      "metadata": {
        "id": "klxbuj2L_DuB",
        "outputId": "e0e5960f-d540-497b-f776-c61109a3de83",
        "colab": {
          "base_uri": "https://localhost:8080/"
        }
      },
      "execution_count": null,
      "outputs": [
        {
          "output_type": "stream",
          "name": "stdout",
          "text": [
            "Looking in indexes: https://pypi.org/simple, https://us-python.pkg.dev/colab-wheels/public/simple/\n",
            "\u001b[31mERROR: Could not find a version that satisfies the requirement csv (from versions: none)\u001b[0m\n",
            "\u001b[31mERROR: No matching distribution found for csv\u001b[0m\n"
          ]
        }
      ]
    },
    {
      "cell_type": "code",
      "source": [
        "# import ratemyprofessor as rmp\n",
        "import pandas as pd\n",
        "from collections import defaultdict\n",
        "from ratemyprof_api import ratemyprof_api as rmp\n",
        "import csv\n",
        "\n",
        "# URL = https://www.ratemyprofessors.com/campusRatings.jsp?sid=1079\n",
        "\n",
        "# initializing ratemyprof_api to UCSD school ID\n",
        "print(\"starting scrape...\")\n",
        "ucsd_rmp = rmp.RateMyProfApi(\"1079\")\n",
        "print(\"finished!!\")\n",
        "\n",
        "\n",
        "# gets list of all profs\n",
        "print(\"getting list...\")\n",
        "ucsd_profs = ucsd_rmp.scrape_professors()\n",
        "print(\"got list\")\n",
        "\n",
        "counter = 0\n",
        "\n",
        "missing_profs = list()\n",
        "\n",
        "empty_profs = list()\n",
        "\n",
        "csv_columns = [\n",
        "            \"name\",\n",
        "            \"attendance\",\n",
        "            \"clarityColor\",\n",
        "            \"easyColor\",\n",
        "            \"helpColor\",\n",
        "            \"helpCount\",\n",
        "            \"id\",\n",
        "            \"notHelpCount\",\n",
        "            \"onlineClass\",\n",
        "            \"quality\",\n",
        "            \"rClarity\",\n",
        "            \"rClass\",\n",
        "            \"rComments\",\n",
        "            \"rDate\",\n",
        "            \"rEasy\",\n",
        "            \"rEasyString\",\n",
        "            \"rErrorMsg\",\n",
        "            \"rHelpful\",\n",
        "            \"rInterest\",\n",
        "            \"rOverall\",\n",
        "            \"rOverallString\",\n",
        "            \"rStatus\",\n",
        "            \"rTextBookUse\",\n",
        "            \"rTimestamp\",\n",
        "            \"rWouldTakeAgain\",\n",
        "            \"sId\",\n",
        "            \"takenForCredit\",\n",
        "            \"teacher\",\n",
        "            \"teacherGrade\",\n",
        "            \"teacherRatingTags\",\n",
        "            \"unUsefulGrouping\",\n",
        "            \"usefulGrouping\",\n",
        "        ]\n",
        "\n",
        "\n",
        "for keys in ucsd_profs:\n",
        "      try:\n",
        "            rList = ucsd_rmp.create_reviews_list(keys)\n",
        "            prof_name = ucsd_profs[keys].name\n",
        "            newrList = list()\n",
        "\n",
        "            for review in rList:\n",
        "                  reviews_list = list(review.items())\n",
        "                  reviews_list.insert(0, ('name', prof_name))\n",
        "                  newrList.append(dict(reviews_list))\n",
        "\n",
        "            df = pd.DataFrame(newrList, columns=csv_columns)\n",
        "\n",
        "            if df.empty != True:\n",
        "                  df.to_csv('/content/drive/My Drive/rmp data/Teacher_' + str(prof_name) + '.csv', index=False)\n",
        "            else:\n",
        "                  empty_profs.append((keys, ucsd_profs[keys].name))\n",
        "\n",
        "            if counter % 100 == 0:\n",
        "                  print('done w prof #' + str(counter))\n",
        "            counter += 1\n",
        "  \n",
        "      except:\n",
        "            missing_profs.append((keys, ucsd_profs[keys].name))\n",
        "\n",
        "\n",
        "print(\"-\" * 20)\n",
        "print(f\"empty profs: {empty_profs}\")\n",
        "print()\n",
        "print(f\"missing profs: {missing_profs}\")"
      ],
      "metadata": {
        "id": "4aUrfKUbwAl4",
        "outputId": "eec0a766-bb5a-48e0-dc58-f8e3568bd1fb",
        "colab": {
          "base_uri": "https://localhost:8080/"
        }
      },
      "execution_count": null,
      "outputs": [
        {
          "output_type": "stream",
          "name": "stdout",
          "text": [
            "starting scrape...\n",
            "finished!!\n",
            "getting list...\n",
            "got list\n",
            "done w prof #0\n",
            "done w prof #100\n",
            "done w prof #200\n",
            "done w prof #300\n",
            "done w prof #400\n",
            "done w prof #500\n",
            "done w prof #600\n",
            "done w prof #700\n",
            "done w prof #800\n",
            "done w prof #900\n",
            "done w prof #1000\n",
            "done w prof #1100\n",
            "done w prof #1200\n",
            "done w prof #1300\n",
            "done w prof #1400\n",
            "done w prof #1500\n",
            "done w prof #1600\n",
            "done w prof #1700\n",
            "done w prof #1800\n",
            "done w prof #1900\n",
            "done w prof #2000\n",
            "done w prof #2100\n",
            "done w prof #2200\n",
            "done w prof #2300\n",
            "done w prof #2400\n",
            "done w prof #2500\n",
            "done w prof #2600\n",
            "done w prof #2700\n",
            "--------------------\n",
            "empty profs: [(2533049, 'Yasser Aboelkassem'), (1908973, 'Mark Abumeri'), (887810, 'John Adams'), (2207793, 'Gamaralalage Ajith Nissanka'), (2807290, 'Memo Akten'), (2501903, 'Kazim Ali'), (2352166, 'Lucy Allais'), (958062, 'Kristen Anderson'), (2307279, 'Jimmy Anklesaria'), (2735110, 'McKinley Anne'), (2603340, 'Alexia Arani'), (1418196, 'Luciana Astiz'), (1396734, 'Kara Attrep'), (2704389, 'Bradford Auerbach'), (2448119, 'Christina Aushana'), (1603351, 'Terra Austrum'), (2334624, 'Katherine Baca-Motes'), (2589148, 'Jinhye Bae'), (2023328, 'Gini Baker'), (2345970, 'JD Baker'), (2500290, 'Alexander Bakst'), (2434641, 'Natasha Balac'), (2672053, 'Marcos Balter'), (1406539, 'Nicole Barger'), (2609686, 'Vivian Barnes'), (2089980, 'Michael Baskes'), (2261665, 'Toni Bastian'), (1826327, 'Mark Bennett'), (2454086, 'Kelly Bennett'), (2232383, 'Jeffrey Bennion'), (2759288, 'Tiffany Beres'), (2666658, 'Miles Berg'), (286442, 'Ami Berkowitz'), (1281971, 'David Bernard'), (2230327, 'Bryan Berthot'), (2517518, 'Yu Bibby'), (815820, 'Lisa Bielawa'), (350978, 'Sara Bishop'), (1540349, 'Steven Black'), (655195, 'Adam Bloomfield'), (2658534, 'Matthew Boomhower'), (1298036, 'Scott Borger'), (2534766, 'Martin Boston'), (1006953, 'William M Bowen'), (1772616, 'Ela Boyd'), (2677413, 'Bianca Brahamsha'), (2717854, 'Oliver Braun'), (2402881, 'Garret Bredell'), (1711372, 'Julia Bridl'), (2775468, 'Claire Bristow'), (861410, 'Nathan Brock'), (2673169, 'Alyssa Brown'), (1907357, 'Kyle Brucker'), (2772137, 'Johannes Brust'), (286444, 'Geoffrey Burbidge'), (2370252, 'Roy Burchill'), (964595, 'Arthur Burg'), (620867, 'Joe Busby'), (2064447, 'Shengqang Cai'), (1374186, 'Micah Cardenas'), (2294628, 'Tim Carey'), (2442848, 'james carmody'), (2717597, 'Catherine Castro'), (1130148, 'Antonino Catanzaro'), (980616, 'Lawrence Cayton'), (1694206, 'Gabriela Cazares'), (2684763, 'Mayank Chadha'), (2266176, 'Thandeka Chapman'), (2702384, 'Doria Charlson'), (2684555, 'Akore Chemello'), (2604890, 'Ifan Chen'), (2705259, 'Diane Chen'), (2294064, 'Shai Cherry'), (2348675, 'Shu Chien'), (2763275, 'Robert Chien'), (2569283, 'Carolyn Choy'), (492861, 'Don Cleveland'), (361144, 'Gilbert Cole'), (2347010, 'Sean Compas'), (2434378, 'Jonathan Conder'), (2508979, 'Orna Cook'), (2810902, 'Spencer Congero'), (2736701, 'Luiz Cortez'), (923061, 'Brent Costa'), (1338884, 'Bob Costa'), (814814, 'Pablo Cotler'), (1799023, 'Hilary Coulson'), (1920222, 'Danielle Crain'), (2119007, 'Clinton Davis'), (2392728, 'Amanda Davis'), (2196989, 'Cassia De Abreu'), (655614, 'Gabriela Delamata'), (1810790, 'Bram Dijkstra'), (1108201, 'Sean Dockray'), (2732106, 'Emily Drake'), (1883473, 'Tiffany Dumouchelle'), (2808008, 'Fabian Eckert'), (595475, 'Peter Edwards'), (2293607, 'Alfred Eisenstein'), (2581476, 'Naiumlma El Bekraoui'), (2242134, 'Armando Estillore'), (2812275, 'Mallory Evanoff'), (2773436, 'Yizhak Fadlon'), (2619227, 'Shaya Fainman'), (286451, 'George Feher'), (2153059, 'Richard Feinberg'), (2607357, 'David Fenning'), (1385113, 'Justina Flavin'), (1431255, 'Justina Flavin'), (2617357, 'Stephanie Flint'), (2279836, 'Patrick Folz'), (1884344, 'Lawrence Frank'), (286452, 'Donald Fredkin'), (138176, 'Nathan French'), (2704477, 'Samuel Jude Gaffney'), (1422874, 'Anya Gallacio'), (2483294, 'Michael Galperin'), (2680920, 'Kathleen Garcia'), (2762483, 'Eric Gartzke'), (2513701, 'Polyzos George'), (2083911, 'Carl Gibson'), (2671915, 'Clark Gibson'), (2792619, 'Paul Gherini'), (2816085, 'Ilia Gogoladze'), (286454, 'Marvin Goldberger'), (1987798, 'Michele A Goldwasser'), (2106965, 'Andrea Glass'), (2491923, 'Nicholas Gravish'), (2107076, 'Ulli Green'), (2441406, 'Daniel Green'), (2636511, 'Philip Greenfeld'), (2725685, 'Thomas Grubb'), (1535510, 'Luis Guerrero'), (2286589, 'Rey Guerrero'), (2733495, 'Arline Gunter'), (1982144, 'Daniel Gutierrez '), (2576679, 'Julian Haddad'), (1887227, 'Jeff Hasty'), (2789922, 'Fred Harris'), (2609537, 'Austin Henderson'), (2038874, 'Johanna Henning'), (2150214, 'Heather Henter'), (2681503, 'Malgorzata Herc-Balaszek'), (1382534, 'John Higgins'), (2384626, 'Michelle Hill'), (2772968, 'Mya Hines'), (2088849, 'Suzi Hong'), (1511862, 'Benjamin Horne'), (998564, 'Jun Ho Huh'), (2812972, 'Ethan Hurwitz'), (1901984, 'Mark Huxhold'), (2713210, 'Vespa Ignacio'), (2498357, 'Deniz Ilkbasaran'), (1958538, 'Elham  Izadi'), (1694214, 'Tania Jabour'), (988874, 'John Jacobson'), (2561630, 'Joanna Jacobus'), (1990118, 'Mohit Jain'), (1990119, 'Mohit Jain'), (1542326, 'David Janssen'), (2266450, 'Ruixue Jia'), (2711550, 'Emily Johnston'), (1406317, 'Jason Jones'), (2551050, 'Gabrielle Jones'), (2557100, 'Yasmine Kasem'), (2659297, 'Thompson Katherine'), (738322, 'Tamara Kay'), (1425253, 'Randall Kelley'), (2761969, 'Amy Kennemore'), (2787787, 'Casey Kauffman'), (2465312, 'Scott Klemmer'), (2542837, 'Rob Knight'), (623129, 'Cory Koedel'), (1142672, 'Tanya Kraljic'), (2737665, 'Jennifer Krause'), (1803377, 'Mark Kritchevsky'), (286467, 'Norman Kroll'), (2021288, 'Alexander Kulikov'), (2816419, 'Amrita Kurian'), (2497358, 'Kristie Lambert'), (2704479, 'Olga Lazitski'), (2705299, 'James Lee'), (1258172, 'David Leitch'), (1331545, 'John Lane'), (2766388, 'Kenworthy Lane A.'), (2684557, 'Scott Latham'), (2034021, 'Roger Levy'), (2089996, 'Paul Libby'), (286469, 'Leonard Lieberman'), (1986674, 'Amy Lieberman'), (1162928, 'Katja Lendenberg'), (2500364, 'Lim Leong'), (1353861, 'Jackie Leslie'), (2704478, 'Grant Leuning'), (1951292, 'Peter Lotfy'), (863647, 'John Love'), (2805253, 'Kanya Long'), (2350724, 'Julian Maravilla'), (1256828, 'Angelica Marcello'), (2774131, 'Maria Marchetto'), (2160532, 'George Mariscal'), (1298042, 'John Marshall'), (2243801, 'Jamie Marvin'), (1170965, 'Keith Marzullo'), (286475, 'George Masek'), (2672532, 'Marcelo Mattar'), (1077010, 'James McCarthy'), (1084058, 'Larry McClure'), (1098416, 'Alex McClure'), (1382537, 'Keli McCoy'), (1657182, 'Casey McCoy'), (2140201, 'Allen McCutchan'), (2342665, 'James McDonald'), (2680691, 'Tucker McElroy'), (2363140, 'Michael McGinnis'), (2483354, 'Colleen McHugh'), (2735133, 'Mary McKay'), (2677375, 'Taisha McMickens'), (1235100, 'Kate McMillan'), (2277848, 'Jennifer Mcwhorter'), (2044957, 'Tom Medvetz'), (2713719, 'Thomas Medvetz'), (1826805, 'Elizabeth Mehrmand'), (1298045, 'Lei Meng'), (2512829, 'Devon Merrill'), (2095643, 'Christian Metallo'), (2812817, 'Jessica Miguel'), (2741002, 'Paul Mills'), (1815387, 'Mia Minnes'), (2510448, 'mor mia Minnes Kemp'), (2419980, 'Jean Minster'), (2717946, 'Nathan Moeder'), (2374920, 'Naaila Mohammed'), (2737664, 'Vicky Montes'), (2660921, 'Christian Moore'), (2661019, 'Tania Morimoto'), (2771502, 'Hamid Movahhedian'), (2600849, 'Adrian Mrse'), (1633027, 'Donald S. Muehlbach'), (2571523, 'William Mullins'), (332352, 'Matthew Murphy'), (2773719, 'Thomas Murphy'), (2703632, 'Robert Neborsky'), (1298048, 'Christopher Nekarda'), (2780792, 'Imani Munyaka'), (2787788, 'Yue Nakayama'), (1519357, 'Eduardo Olivares'), (1407526, 'Jacko Orara-Fake'), (2400150, 'Richard Ord'), (2772676, 'Susana Orozco'), (1659407, 'Anais Orsi'), (1795466, 'Kai Ostwald'), (2497293, 'Jon Paden'), (2356503, 'Danielle Pafunda'), (2312759, 'Rachel Page'), (2108796, 'Denise Paladini'), (2662248, 'Bernhard Palsson'), (2806627, 'Holly Okonkwo'), (2095633, 'Ronald Pawlak'), (1314654, 'Michael Pedersen'), (2090000, 'Stanford Penner'), (2171834, 'Ulices Pina'), (806485, 'Romon Pinon'), (1694111, 'Ann Piper'), (2391493, 'Giorgia Pirino'), (2090003, 'Albert Pisano'), (2508731, 'Kaiser Pister'), (2373009, 'Kathleen Pollett'), (2392873, 'John Porton'), (908065, 'Judith Posakony'), (2769490, 'Sujal Phadke'), (2509118, 'Josephine Relaford-Doyle'), (1298053, 'Pedro Rey-Biel'), (423759, 'Roger L Reynolds'), (1760766, 'Patrick Rhoades'), (1360046, 'Richard T Richard T'), (850198, 'Joseph Rigby'), (1966291, 'Alicia Rios'), (2463492, 'Kumar Rakesh'), (2682843, 'Karen Raphaeli'), (2620350, 'Carl Rebman'), (2682765, 'Connor Redpath'), (2614387, 'Ramon Ruiz-Ramos'), (2814511, 'Jose Saborio'), (2589354, 'Abhishek Saha'), (1760767, 'Salehi Salehi'), (2424370, 'Clara Salto'), (2013320, 'Deborah Sanborn'), (2115939, 'Jacobo Santana'), (2632199, 'Odilka Santiago'), (2576474, 'Paige Santschi'), (2113402, 'Tomoya Sato'), (867653, 'Mike Savrov'), (894491, 'Moselio Schaechter'), (2343470, 'Heidi Schnieder'), (1416912, 'Karen Schuerenberg'), (286483, 'Sheldon Schultz'), (1027493, 'Alecia Schweinsburg'), (1003905, 'Sebastian Scioba'), (2132261, 'John Sclater'), (1281967, 'Miranda Scolari'), (1991199, 'mike scullard '), (2240275, 'David Searle'), (2812479, 'Ayoob Shahmoradi'), (2461342, 'Dupak Shakour'), (2346011, 'Holly Shakya'), (1017144, 'Ramachandran Shalini'), (1286931, 'Paul Shearer'), (1705100, 'Peter Shearer'), (2129946, 'Sam Shen'), (357893, 'Yean Shimoni'), (654533, 'Stephen Selzer'), (1029629, 'Jonathan Serencsa'), (2704377, 'Shubham Sinha'), (2421281, 'Donald Sirbuly'), (1884690, 'Jennifer Smith'), (2109026, 'Tyagarajan Somasundaram'), (2572759, 'Hala Somo'), (804682, 'Ron Spears'), (2761801, 'Luca Spolaor'), (2612868, 'Deborah Stein'), (934719, 'Michael Stepner'), (423742, 'Virginia A Sublett'), (1639184, 'Steven Sullivan'), (934717, 'Kenneth Sulzer'), (423745, 'Steven K Takasugi'), (2660992, 'Stefan Tanaka'), (2812647, 'Prima Tatum'), (1459863, 'Brandon Taylor'), (2471811, 'Paul Tchir'), (2708795, 'Nicola Teague'), (2812629, 'Adriana Tosun'), (1541844, 'Leo Trottier'), (598686, 'Corinne Troussier-Singley'), (1568282, 'Jeffrey Truman'), (951363, 'Gantumur Tsogtgerel'), (2053248, 'Zhouwen Tu'), (1529153, 'Neil Thapen'), (2818919, 'Christa Tiernan'), (2744681, 'Laura Uribe'), (2677145, 'Chad Valasek'), (2715533, 'Roman Valiulin'), (2396835, 'Ajit Varki'), (236051, 'Perry Vasquez'), (1944849, 'Olga Vazquez'), (711927, 'Linda Vickerman'), (2658918, 'William Wachob'), (1437586, 'Scott Wallihan'), (2122567, 'Michaela Walsh'), (1291488, 'Liang Choon Wang'), (2670854, 'Edward Wang'), (2819352, 'Yingxiao Wang'), (298470, 'Adam Warren'), (971364, 'John Watson'), (1331546, 'Harrison Watts'), (2399325, 'Michael Wayne'), (827616, 'Jill L Weinberger'), (2138063, 'Danny Weltman'), (2349651, 'Summer West'), (1033033, 'Robert Willams'), (2639664, 'ken williams'), (1416670, 'Beth Wilson'), (2772510, 'Jesse Wilson'), (2685309, 'Charisse Winston'), (2772082, 'Julius Wiseman'), (2133671, 'Roy Wollman'), (2133686, 'Roy Wollman'), (2706120, 'Tak Wong'), (2134403, 'Andreas Wütz'), (2556522, 'Zi-Han Xu'), (2109669, 'Shengqi Yang'), (2383321, 'Dorothy Yang'), (2737663, 'Craig Yokoi'), (1181382, 'Kun Zhang'), (2351660, 'Jack Zhang'), (1625437, 'Milda Zilinskaite')]\n",
            "\n",
            "missing profs: [(693519, 'David Najar')]\n"
          ]
        }
      ]
    },
    {
      "cell_type": "code",
      "source": [
        "import pandas as pd\n",
        "from collections import defaultdict\n",
        "from ratemyprof_api import ratemyprof_api as rmp\n",
        "import csv\n",
        "\n",
        "print(\"starting scrape...\")\n",
        "ucsd_rmp = rmp.RateMyProfApi(\"1079\")\n",
        "print(\"finished!!\")\n",
        "\n",
        "\n",
        "# gets list of all profs\n",
        "print(\"getting list...\")\n",
        "ucsd_profs = ucsd_rmp.scrape_professors()\n",
        "print(\"got list\")\n",
        "\n",
        "\n",
        "\n",
        "\n",
        "print(len(ucsd_profs))\n",
        "\n",
        "print(type(ucsd_profs))\n",
        "\n",
        "the_issue = list(ucsd_profs.items())[600]\n",
        "print(the_issue[1].name)\n",
        "\n",
        "\n",
        "rList = None\n",
        "prof_name = ucsd_profs[the_issue[0]].name\n",
        "\n",
        "csv_columns = [\n",
        "            \"attendance\",\n",
        "            \"clarityColor\",\n",
        "            \"easyColor\",\n",
        "            \"helpColor\",\n",
        "            \"helpCount\",\n",
        "            \"id\",\n",
        "            \"notHelpCount\",\n",
        "            \"onlineClass\",\n",
        "            \"quality\",\n",
        "            \"rClarity\",\n",
        "            \"rClass\",\n",
        "            \"rComments\",\n",
        "            \"rDate\",\n",
        "            \"rEasy\",\n",
        "            \"rEasyString\",\n",
        "            \"rErrorMsg\",\n",
        "            \"rHelpful\",\n",
        "            \"rInterest\",\n",
        "            \"rOverall\",\n",
        "            \"rOverallString\",\n",
        "            \"rStatus\",\n",
        "            \"rTextBookUse\",\n",
        "            \"rTimestamp\",\n",
        "            \"rWouldTakeAgain\",\n",
        "            \"sId\",\n",
        "            \"takenForCredit\",\n",
        "            \"teacher\",\n",
        "            \"teacherGrade\",\n",
        "            \"teacherRatingTags\",\n",
        "            \"unUsefulGrouping\",\n",
        "            \"usefulGrouping\",\n",
        "        ]\n",
        "\n",
        "df = pd.DataFrame(rList, columns = csv_columns)\n",
        "df.to_csv('/content/drive/My Drive/ratemycapes/Teacher_' + str(prof_name) + '.csv', index=False)\n",
        "\n",
        "print(rList)"
      ],
      "metadata": {
        "id": "kqgmqND1AdFx",
        "colab": {
          "base_uri": "https://localhost:8080/"
        },
        "outputId": "15321e75-9f55-4707-9cdd-aafea8edfe51"
      },
      "execution_count": null,
      "outputs": [
        {
          "output_type": "stream",
          "name": "stdout",
          "text": [
            "starting scrape...\n",
            "finished!!\n",
            "getting list...\n",
            "got list\n",
            "2977\n",
            "<class 'dict'>\n",
            "Dallawrence Dean\n",
            "None\n"
          ]
        }
      ]
    },
    {
      "cell_type": "code",
      "source": [],
      "metadata": {
        "id": "Nwhti-RG0n2-"
      },
      "execution_count": null,
      "outputs": []
    }
  ]
}